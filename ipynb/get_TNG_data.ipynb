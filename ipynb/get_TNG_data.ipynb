{
 "cells": [
  {
   "cell_type": "code",
   "execution_count": 2,
   "id": "cbece39d",
   "metadata": {
    "scrolled": true
   },
   "outputs": [],
   "source": [
    "import sys\n",
    "import h5py as h5\n",
    "import numpy as np\n",
    "import matplotlib.pyplot as plt\n",
    "import astropy.units as u\n",
    "import os\n",
    "from astropy.cosmology import Planck15 as cosmo #Planck 2015\n",
    "from astropy.cosmology import z_at_value\n",
    "\n",
    "import get_ZdepSFRD as Z_SFRD\n",
    "import importlib\n",
    "import paths\n",
    "import requests\n",
    "import illustris_python as il\n",
    "import illustris_python.groupcat as gc\n",
    "import illustris_python.snapshot as sn"
   ]
  },
  {
   "cell_type": "code",
   "execution_count": 3,
   "id": "186c8ae4",
   "metadata": {
    "scrolled": true
   },
   "outputs": [],
   "source": [
    "TNG  = 100\n",
    "lvl = 1\n",
    "TNGpath = \"/Users/sashalvna/Research/TNGdata/TNG%s\" % (TNG)\n",
    "baseUrl = 'http://www.tng-project.org/api/'\n",
    "headers = {\"api-key\":\"e36226423a0cc5e62f2e553f39b44238\"}"
   ]
  },
  {
   "cell_type": "code",
   "execution_count": 4,
   "id": "8ca6a124",
   "metadata": {
    "scrolled": true
   },
   "outputs": [],
   "source": [
    "def get(path, params=None):\n",
    "    # make HTTP GET request to path\n",
    "    r = requests.get(path, params=params, headers=headers)\n",
    "\n",
    "    # raise exception if response code is not HTTP SUCCESS (200)\n",
    "    r.raise_for_status()\n",
    "\n",
    "    if r.headers['content-type'] == 'application/json':\n",
    "        return r.json() # parse json responses automatically\n",
    "    return r"
   ]
  },
  {
   "cell_type": "code",
   "execution_count": 5,
   "id": "8e3a6c97",
   "metadata": {
    "scrolled": true
   },
   "outputs": [],
   "source": [
    "#get basic snapshots information (redshift, url) for each of the 100 snapshots\n",
    "\n",
    "r = get(baseUrl) #path to all Illustris TNG simulations\n",
    "names = [sim['name'] for sim in r['simulations']] #names of all available simulations\n",
    "i = names.index('TNG%s-%s' % (TNG, lvl)) #index of specific simulation\n",
    "sim = get( r['simulations'][i]['url'] ) #get path to that simulation\n",
    "snaps = get( sim['snapshots'] ) #get path to snapshots for that simulation\n",
    "nfiles = sim['num_files_snapshot'] #number files per snapshot"
   ]
  },
  {
   "cell_type": "code",
   "execution_count": 5,
   "id": "05cd1352",
   "metadata": {
    "scrolled": true
   },
   "outputs": [],
   "source": [
    "def get_TNGsnapcols(TNGpath, TNG, lvl, snap, nfiles, cols='gas=GFM_Metallicity,StarFormationRate'):\n",
    "    #downloads a single snapshot subfile; requires path to local TNG data files, which TNG and which level (e.g TNG100-\"1\"), \n",
    "    #which snapshot, which subfile in snapshot, and which data columns from snapshot\n",
    "    \n",
    "    #check if snapshot subfile already exists; if not, download\n",
    "    if not os.path.exists(TNGpath + \"/%03d\" %(snap)):\n",
    "        os.chdir(TNGpath)\n",
    "        os.mkdir(\"%03d\" %(snap))\n",
    "        \n",
    "    os.chdir(TNGpath + \"/%03d\" %(snap)) #go to correct directory before downloading\n",
    "    for ifile in range(nfiles):\n",
    "        fname = TNGpath + \"/%03d/snap_%03d.%s.hdf5\" %(snap, snap, ifile)    \n",
    "        if not os.path.isfile(fname):\n",
    "            os.system(\"wget -nd -nc -nv -e robots=off -l 1 -r -A hdf5 --content-disposition --header='API-Key: e36226423a0cc5e62f2e553f39b44238' 'http://www.tng-project.org/api/TNG%s-%s/files/snapshot-%03d.%s.hdf5?%s'\" %(TNG, lvl, snap, ifile, cols)) "
   ]
  },
  {
   "cell_type": "code",
   "execution_count": 6,
   "id": "d11c7d5b",
   "metadata": {
    "scrolled": true
   },
   "outputs": [],
   "source": [
    "def delete_snapshotsubfile(TNGpath, snap, ifile):\n",
    "    #deletes a single snapshot; requires requires path to local TNG data files, \n",
    "    #which snapshot, which file in snapshot, and which data columns from snapshot\n",
    "    \n",
    "    #check if snapshot subfile exists; if yes, delete\n",
    "    fname = TNGpath + \"/%03d/snap_%03d.%s.hdf5\" %(snap, snap, ifile)\n",
    "    if os.path.exists(fname):\n",
    "        os.remove(fname)"
   ]
  },
  {
   "cell_type": "code",
   "execution_count": 7,
   "id": "3d06c825",
   "metadata": {
    "scrolled": true
   },
   "outputs": [],
   "source": [
    "def get_z_and_lookbacktime(snaps):\n",
    "    #get the redshifts for each snapshot\n",
    "    redshifts = np.array([])\n",
    "    for ind, val in enumerate(snaps):\n",
    "        redshifts = np.append(redshifts, snaps[ind]['redshift'])\n",
    "    \n",
    "    #calculate lookback time for each snapshot\n",
    "    lookbacktimes = np.array(cosmo.lookback_time(redshifts))\n",
    "    \n",
    "    return redshifts, lookbacktimes"
   ]
  },
  {
   "cell_type": "code",
   "execution_count": 8,
   "id": "a3996536",
   "metadata": {
    "scrolled": true
   },
   "outputs": [],
   "source": [
    "#function to get binned SFR for each snapshot\n",
    "def getSFRMetallicityFromGas(TNGpath, TNG, lvl, snap, nfiles, nBinsSFR=60):\n",
    "    mbins = np.logspace(-10, 0., nBinsSFR+1)\n",
    "    sfrs  = np.zeros((nBinsSFR))\n",
    "    \n",
    "    fname =  TNGpath + \"/%03d/snap_%03d.%s.hdf5\"%(snap, snap, \"%d\") \n",
    "    get_TNGsnapcols(TNGpath, TNG, lvl, snap, nfiles)\n",
    "    \n",
    "    for ifile in range(nfiles):\n",
    "        \n",
    "        with h5.File(fname % ifile, \"r\") as f:\n",
    "      \n",
    "            pStars = f[\"PartType0\"]\n",
    "      \n",
    "            SFR = pStars[\"StarFormationRate\"][:]\n",
    "            Metals = pStars[\"GFM_Metallicity\"][:]\n",
    "      \n",
    "            data, e = np.histogram(Metals, bins=mbins, weights=SFR)\n",
    "            sfrs += data\n",
    "            \n",
    "            delete_snapshotsubfile(TNGpath, snap, ifile) #delete subfile after getting data from it \n",
    "            \n",
    "    return sfrs"
   ]
  },
  {
   "cell_type": "code",
   "execution_count": 9,
   "id": "4fd89e7a",
   "metadata": {
    "scrolled": true
   },
   "outputs": [],
   "source": [
    "#function to make the data file; iterates through all snapshots\n",
    "\n",
    "def getFullSFRMetallicityFromGas(TNGpath, TNG, lvl, snaps,z nfiles, nbins=60):\n",
    "    outfname = TNGpath + \"/SFRMetallicityFromGasTNG%d-%d.hdf5\" % (TNG,lvl)\n",
    "    sfrs = np.zeros((len(snaps),nbins))\n",
    "    redshifts, lookbacktimes = get_z_and_lookbacktime(snaps)\n",
    "  \n",
    "    Count = 0\n",
    "    for snap in range(2): #range(len(snaps)):\n",
    "        if sfrs[snap].sum() == 0:\n",
    "            print( \"Doing snap %d.\" % snap )\n",
    "            s = getSFRMetallicityFromGas(TNGpath, TNG, lvl, snap, nfiles, nBinsSFR=nbins)\n",
    "            sfrs[snap,:] = s\n",
    "            Count += 1\n",
    "\n",
    "    if Count > 0:\n",
    "        mbins = np.logspace( -10, 0., nbins+1 )\n",
    "        with h5.File(outfname, \"a\") as f:\n",
    "            f.create_dataset('MetalBins', data=mbins)\n",
    "            f.create_dataset('Redshifts', data=redshifts)\n",
    "            f.create_dataset('Lookbacktimes', data=lookbacktimes)\n",
    "            f.create_dataset('Sfr', data=sfrs)"
   ]
  },
  {
   "cell_type": "code",
   "execution_count": 10,
   "id": "b6867883",
   "metadata": {
    "scrolled": false
   },
   "outputs": [
    {
     "name": "stdout",
     "output_type": "stream",
     "text": [
      "Doing snap 0.\n"
     ]
    },
    {
     "name": "stderr",
     "output_type": "stream",
     "text": [
      "2024-01-18 10:32:39 URL:https://data-eu.tng-project.org/file/snapshot/L75n1820TNG/000/2/136.0.0.0.0.0/?token=1340db29025e887b116a [107610112/107610112] -> \"snap_000.2.hdf5\" [1]\n",
      "FINISHED --2024-01-18 10:32:39--\n",
      "Total wall clock time: 27s\n",
      "Downloaded: 1 files, 103M in 25s (4.06 MB/s)\n",
      "2024-01-18 10:33:01 URL:https://data-eu.tng-project.org/file/snapshot/L75n1820TNG/000/3/136.0.0.0.0.0/?token=5c0765d0566baff5988e [107675648/107675648] -> \"snap_000.3.hdf5\" [1]\n",
      "FINISHED --2024-01-18 10:33:01--\n",
      "Total wall clock time: 21s\n",
      "Downloaded: 1 files, 103M in 20s (5.26 MB/s)\n",
      "2024-01-18 10:33:21 URL:https://data-eu.tng-project.org/file/snapshot/L75n1820TNG/000/4/136.0.0.0.0.0/?token=628bff6d4dd5db566bd3 [107937792/107937792] -> \"snap_000.4.hdf5\" [1]\n",
      "FINISHED --2024-01-18 10:33:21--\n",
      "Total wall clock time: 20s\n",
      "Downloaded: 1 files, 103M in 19s (5.47 MB/s)\n",
      "2024-01-18 10:33:45 URL:https://data-eu.tng-project.org/file/snapshot/L75n1820TNG/000/5/136.0.0.0.0.0/?token=1ca72fedf380b061e785 [107937792/107937792] -> \"snap_000.5.hdf5\" [1]\n",
      "FINISHED --2024-01-18 10:33:45--\n",
      "Total wall clock time: 24s\n",
      "Downloaded: 1 files, 103M in 22s (4.69 MB/s)\n"
     ]
    },
    {
     "ename": "OSError",
     "evalue": "Unable to open file (truncated file: eof = 38964859, sblock->base_addr = 0, stored_eof = 107969776)",
     "output_type": "error",
     "traceback": [
      "\u001b[0;31m---------------------------------------------------------------------------\u001b[0m",
      "\u001b[0;31mOSError\u001b[0m                                   Traceback (most recent call last)",
      "Cell \u001b[0;32mIn[10], line 2\u001b[0m\n\u001b[1;32m      1\u001b[0m nfiles_temp \u001b[38;5;241m=\u001b[39m \u001b[38;5;241m6\u001b[39m\n\u001b[0;32m----> 2\u001b[0m getFullSFRMetallicityFromGas(TNGpath, TNG, lvl, snaps, nfiles_temp, nbins\u001b[38;5;241m=\u001b[39m\u001b[38;5;241m60\u001b[39m)\n",
      "Cell \u001b[0;32mIn[9], line 12\u001b[0m, in \u001b[0;36mgetFullSFRMetallicityFromGas\u001b[0;34m(TNGpath, TNG, lvl, snaps, nfiles, nbins)\u001b[0m\n\u001b[1;32m     10\u001b[0m \u001b[38;5;28;01mif\u001b[39;00m sfrs[snap]\u001b[38;5;241m.\u001b[39msum() \u001b[38;5;241m==\u001b[39m \u001b[38;5;241m0\u001b[39m:\n\u001b[1;32m     11\u001b[0m     \u001b[38;5;28mprint\u001b[39m( \u001b[38;5;124m\"\u001b[39m\u001b[38;5;124mDoing snap \u001b[39m\u001b[38;5;132;01m%d\u001b[39;00m\u001b[38;5;124m.\u001b[39m\u001b[38;5;124m\"\u001b[39m \u001b[38;5;241m%\u001b[39m snap )\n\u001b[0;32m---> 12\u001b[0m     s \u001b[38;5;241m=\u001b[39m getSFRMetallicityFromGas(TNGpath, TNG, lvl, snap, nfiles, nBinsSFR\u001b[38;5;241m=\u001b[39mnbins)\n\u001b[1;32m     13\u001b[0m     sfrs[snap,:] \u001b[38;5;241m=\u001b[39m s\n\u001b[1;32m     14\u001b[0m     Count \u001b[38;5;241m+\u001b[39m\u001b[38;5;241m=\u001b[39m \u001b[38;5;241m1\u001b[39m\n",
      "Cell \u001b[0;32mIn[8], line 11\u001b[0m, in \u001b[0;36mgetSFRMetallicityFromGas\u001b[0;34m(TNGpath, TNG, lvl, snap, nfiles, nBinsSFR)\u001b[0m\n\u001b[1;32m      7\u001b[0m get_TNGsnapcols(TNGpath, TNG, lvl, snap, nfiles)\n\u001b[1;32m      9\u001b[0m \u001b[38;5;28;01mfor\u001b[39;00m ifile \u001b[38;5;129;01min\u001b[39;00m \u001b[38;5;28mrange\u001b[39m(nfiles):\n\u001b[0;32m---> 11\u001b[0m     \u001b[38;5;28;01mwith\u001b[39;00m h5\u001b[38;5;241m.\u001b[39mFile(fname \u001b[38;5;241m%\u001b[39m ifile, \u001b[38;5;124m\"\u001b[39m\u001b[38;5;124mr\u001b[39m\u001b[38;5;124m\"\u001b[39m) \u001b[38;5;28;01mas\u001b[39;00m f:\n\u001b[1;32m     13\u001b[0m         pStars \u001b[38;5;241m=\u001b[39m f[\u001b[38;5;124m\"\u001b[39m\u001b[38;5;124mPartType0\u001b[39m\u001b[38;5;124m\"\u001b[39m]\n\u001b[1;32m     15\u001b[0m         SFR \u001b[38;5;241m=\u001b[39m pStars[\u001b[38;5;124m\"\u001b[39m\u001b[38;5;124mStarFormationRate\u001b[39m\u001b[38;5;124m\"\u001b[39m][:]\n",
      "File \u001b[0;32m~/anaconda3/lib/python3.11/site-packages/h5py/_hl/files.py:567\u001b[0m, in \u001b[0;36mFile.__init__\u001b[0;34m(self, name, mode, driver, libver, userblock_size, swmr, rdcc_nslots, rdcc_nbytes, rdcc_w0, track_order, fs_strategy, fs_persist, fs_threshold, fs_page_size, page_buf_size, min_meta_keep, min_raw_keep, locking, alignment_threshold, alignment_interval, meta_block_size, **kwds)\u001b[0m\n\u001b[1;32m    558\u001b[0m     fapl \u001b[38;5;241m=\u001b[39m make_fapl(driver, libver, rdcc_nslots, rdcc_nbytes, rdcc_w0,\n\u001b[1;32m    559\u001b[0m                      locking, page_buf_size, min_meta_keep, min_raw_keep,\n\u001b[1;32m    560\u001b[0m                      alignment_threshold\u001b[38;5;241m=\u001b[39malignment_threshold,\n\u001b[1;32m    561\u001b[0m                      alignment_interval\u001b[38;5;241m=\u001b[39malignment_interval,\n\u001b[1;32m    562\u001b[0m                      meta_block_size\u001b[38;5;241m=\u001b[39mmeta_block_size,\n\u001b[1;32m    563\u001b[0m                      \u001b[38;5;241m*\u001b[39m\u001b[38;5;241m*\u001b[39mkwds)\n\u001b[1;32m    564\u001b[0m     fcpl \u001b[38;5;241m=\u001b[39m make_fcpl(track_order\u001b[38;5;241m=\u001b[39mtrack_order, fs_strategy\u001b[38;5;241m=\u001b[39mfs_strategy,\n\u001b[1;32m    565\u001b[0m                      fs_persist\u001b[38;5;241m=\u001b[39mfs_persist, fs_threshold\u001b[38;5;241m=\u001b[39mfs_threshold,\n\u001b[1;32m    566\u001b[0m                      fs_page_size\u001b[38;5;241m=\u001b[39mfs_page_size)\n\u001b[0;32m--> 567\u001b[0m     fid \u001b[38;5;241m=\u001b[39m make_fid(name, mode, userblock_size, fapl, fcpl, swmr\u001b[38;5;241m=\u001b[39mswmr)\n\u001b[1;32m    569\u001b[0m \u001b[38;5;28;01mif\u001b[39;00m \u001b[38;5;28misinstance\u001b[39m(libver, \u001b[38;5;28mtuple\u001b[39m):\n\u001b[1;32m    570\u001b[0m     \u001b[38;5;28mself\u001b[39m\u001b[38;5;241m.\u001b[39m_libver \u001b[38;5;241m=\u001b[39m libver\n",
      "File \u001b[0;32m~/anaconda3/lib/python3.11/site-packages/h5py/_hl/files.py:231\u001b[0m, in \u001b[0;36mmake_fid\u001b[0;34m(name, mode, userblock_size, fapl, fcpl, swmr)\u001b[0m\n\u001b[1;32m    229\u001b[0m     \u001b[38;5;28;01mif\u001b[39;00m swmr \u001b[38;5;129;01mand\u001b[39;00m swmr_support:\n\u001b[1;32m    230\u001b[0m         flags \u001b[38;5;241m|\u001b[39m\u001b[38;5;241m=\u001b[39m h5f\u001b[38;5;241m.\u001b[39mACC_SWMR_READ\n\u001b[0;32m--> 231\u001b[0m     fid \u001b[38;5;241m=\u001b[39m h5f\u001b[38;5;241m.\u001b[39mopen(name, flags, fapl\u001b[38;5;241m=\u001b[39mfapl)\n\u001b[1;32m    232\u001b[0m \u001b[38;5;28;01melif\u001b[39;00m mode \u001b[38;5;241m==\u001b[39m \u001b[38;5;124m'\u001b[39m\u001b[38;5;124mr+\u001b[39m\u001b[38;5;124m'\u001b[39m:\n\u001b[1;32m    233\u001b[0m     fid \u001b[38;5;241m=\u001b[39m h5f\u001b[38;5;241m.\u001b[39mopen(name, h5f\u001b[38;5;241m.\u001b[39mACC_RDWR, fapl\u001b[38;5;241m=\u001b[39mfapl)\n",
      "File \u001b[0;32mh5py/_objects.pyx:54\u001b[0m, in \u001b[0;36mh5py._objects.with_phil.wrapper\u001b[0;34m()\u001b[0m\n",
      "File \u001b[0;32mh5py/_objects.pyx:55\u001b[0m, in \u001b[0;36mh5py._objects.with_phil.wrapper\u001b[0;34m()\u001b[0m\n",
      "File \u001b[0;32mh5py/h5f.pyx:106\u001b[0m, in \u001b[0;36mh5py.h5f.open\u001b[0;34m()\u001b[0m\n",
      "\u001b[0;31mOSError\u001b[0m: Unable to open file (truncated file: eof = 38964859, sblock->base_addr = 0, stored_eof = 107969776)"
     ]
    }
   ],
   "source": [
    "nfiles_temp = 6\n",
    "getFullSFRMetallicityFromGas(TNGpath, TNG, lvl, snaps, nfiles_temp, nbins=60)"
   ]
  },
  {
   "cell_type": "code",
   "execution_count": null,
   "id": "9b3ff9d6",
   "metadata": {
    "scrolled": true
   },
   "outputs": [],
   "source": [
    "data_dir    =  str(paths.data)\n",
    "TNGfilename = '/SFRMetallicityFromGasTNG100-1.hdf5'\n",
    "with h5.File(data_dir+TNGfilename, \"r\") as f:\n",
    "    MetalBins         = f[\"MetalBins\"][:]\n",
    "    Obs_Lookbacktimes = f[\"Lookbacktimes\"][:]\n",
    "    BoxSfr            = f[\"Sfr\"][:]\n",
    "    Redshifts         = f[\"Redshifts\"][:]"
   ]
  },
  {
   "cell_type": "code",
   "execution_count": null,
   "id": "2dc78461",
   "metadata": {},
   "outputs": [],
   "source": []
  }
 ],
 "metadata": {
  "kernelspec": {
   "display_name": "Python 3 (ipykernel)",
   "language": "python",
   "name": "python3"
  },
  "language_info": {
   "codemirror_mode": {
    "name": "ipython",
    "version": 3
   },
   "file_extension": ".py",
   "mimetype": "text/x-python",
   "name": "python",
   "nbconvert_exporter": "python",
   "pygments_lexer": "ipython3",
   "version": "3.10.0"
  }
 },
 "nbformat": 4,
 "nbformat_minor": 5
}

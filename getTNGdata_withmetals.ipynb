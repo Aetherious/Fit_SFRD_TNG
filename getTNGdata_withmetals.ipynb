{
 "cells": [
  {
   "cell_type": "code",
   "execution_count": 13,
   "id": "d065eab2-bfd9-47db-878d-7270f26a684e",
   "metadata": {
    "tags": []
   },
   "outputs": [],
   "source": [
    "import os\n",
    "import h5py as h5\n",
    "import numpy as np\n",
    "import matplotlib.pyplot as plt\n",
    "import astropy.units as u\n",
    "from astropy.cosmology import Planck15 as cosmo #Planck 2015\n",
    "import requests"
   ]
  },
  {
   "cell_type": "code",
   "execution_count": 14,
   "id": "fcf231cd-7fc9-4f63-9592-4fb971b35821",
   "metadata": {
    "tags": []
   },
   "outputs": [],
   "source": [
    "TNG  = 50\n",
    "lvl = 1\n",
    "TNGpath = \"/home/tnguser/sims.TNG/TNG%s-%s/output\" % (TNG, lvl)\n",
    "baseUrl = 'http://www.tng-project.org/api/'\n",
    "headers = {\"api-key\":\"e36226423a0cc5e62f2e553f39b44238\"}\n",
    "if TNG==50:\n",
    "    rbox=35\n",
    "elif TNG==100:\n",
    "    rbox=75\n",
    "elif TNG==300:\n",
    "    rbox=205"
   ]
  },
  {
   "cell_type": "code",
   "execution_count": 15,
   "id": "dd2984d1-21ff-43cb-b4fe-033987b38e0b",
   "metadata": {
    "tags": []
   },
   "outputs": [],
   "source": [
    "def get(path, params=None):\n",
    "    # make HTTP GET request to path\n",
    "    r = requests.get(path, params=params, headers=headers)\n",
    "\n",
    "    # raise exception if response code is not HTTP SUCCESS (200)\n",
    "    r.raise_for_status()\n",
    "\n",
    "    if r.headers['content-type'] == 'application/json':\n",
    "        return r.json() # parse json responses automatically\n",
    "    return r"
   ]
  },
  {
   "cell_type": "code",
   "execution_count": 16,
   "id": "a1d3fee2-7032-4082-a829-895abe6fb59c",
   "metadata": {
    "tags": []
   },
   "outputs": [
    {
     "name": "stdout",
     "output_type": "stream",
     "text": [
      "680\n"
     ]
    }
   ],
   "source": [
    "#get basic snapshots information (redshift, url) for each of the 100 snapshots\n",
    "\n",
    "r = get(baseUrl) #path to all Illustris TNG simulations\n",
    "names = [sim['name'] for sim in r['simulations']] #names of all available simulations\n",
    "i = names.index('TNG%s-%s' % (TNG, lvl)) #index of specific simulation\n",
    "sim = get( r['simulations'][i]['url'] ) #get path to that simulation\n",
    "snaps = get( sim['snapshots'] ) #get path to snapshots for that simulation\n",
    "nfiles = sim['num_files_snapshot'] #number files per snapshot\n",
    "print(nfiles)"
   ]
  },
  {
   "cell_type": "code",
   "execution_count": 6,
   "id": "3d2c8aca-f61c-4479-b47b-17a417a4bdac",
   "metadata": {
    "tags": []
   },
   "outputs": [],
   "source": [
    "def get_z_and_lookbacktime(snaps):\n",
    "    #get the redshifts for each snapshot\n",
    "    redshifts = np.array([])\n",
    "    for ind, val in enumerate(snaps):\n",
    "        redshifts = np.append(redshifts, snaps[ind]['redshift'])\n",
    "    \n",
    "    #calculate lookback time for each snapshot\n",
    "    lookbacktimes = np.array(cosmo.lookback_time(redshifts))\n",
    "    \n",
    "    return redshifts, lookbacktimes"
   ]
  },
  {
   "cell_type": "code",
   "execution_count": 7,
   "id": "51c524e5-2e61-4724-9b35-f0f0cacbe670",
   "metadata": {
    "tags": []
   },
   "outputs": [],
   "source": [
    "#function to get binned SFR for each snapshot\n",
    "def getSFRMetallicityFromGas(TNGpath, TNG, lvl, snap, nfiles, nBinsSFR=60):\n",
    "    mbins = np.logspace(-10, 0., nBinsSFR+1)\n",
    "    sfrs  = np.zeros((nBinsSFR))\n",
    "    metals = np.zeros((nBinsSFR))\n",
    "    \n",
    "    fname =  TNGpath + \"/snapdir_%03d/snap_%03d.%s.hdf5\"%(snap, snap, \"%d\") \n",
    "    print(fname)\n",
    "    \n",
    "    for ifile in range(nfiles):\n",
    "        with h5.File(fname % ifile, \"r\") as f:\n",
    "            pStars = f[\"PartType0\"]\n",
    "      \n",
    "            SFR = pStars[\"StarFormationRate\"][:]\n",
    "            Metals = pStars[\"GFM_Metallicity\"][:]\n",
    "      \n",
    "        data, e = np.histogram(Metals, bins=mbins, weights=SFR)\n",
    "        metaldata, e = np.histogram(Metals, bins=mbins)\n",
    "        sfrs += data\n",
    "        metals += metaldata\n",
    "            \n",
    "    return sfrs, metals"
   ]
  },
  {
   "cell_type": "code",
   "execution_count": 8,
   "id": "7903a79f-28f7-4773-8630-1f1eeb152f82",
   "metadata": {
    "tags": []
   },
   "outputs": [],
   "source": [
    "#function to make the data file; iterates through all snapshots\n",
    "\n",
    "def getFullSFRMetallicityFromGas(TNGpath, TNG, lvl, snaps, nfiles, starting_snap, nbins=60):\n",
    "    outfname = \"TESTSFRMetallicityFromGasWithMetalsTNG%d-%d.hdf5\" % (TNG,lvl)\n",
    "    sfrs = np.zeros((len(snaps),nbins))\n",
    "    metals = np.zeros((len(snaps),nbins))\n",
    "    redshifts, lookbacktimes = get_z_and_lookbacktime(snaps)\n",
    "        \n",
    "    for snap in range(starting_snap, len(snaps)):\n",
    "        if sfrs[snap].sum() == 0:\n",
    "            print( \"Doing snap %d.\" % snap )\n",
    "            s, m = getSFRMetallicityFromGas(TNGpath, TNG, lvl, snap, nfiles, nBinsSFR=nbins)\n",
    "            sfrs[snap,:] = s\n",
    "            metals[snap,:] = m\n",
    "\n",
    "        if snap==0: #if starting from beginning, assume no file exists to append into\n",
    "            mbins = np.logspace( -10, 0., nbins+1 )\n",
    "            if os.path.exists(outfname): #check if file with same name exists; if not append, does not overwrite it, makes a new separate file\n",
    "                outfname = outfname + \"-1\"\n",
    "            with h5.File(outfname, \"w\") as f:\n",
    "                f.create_dataset('MetalBins', data=mbins )\n",
    "                f.create_dataset('Redshifts', data=redshifts )\n",
    "                f.create_dataset('Lookbacktimes', data=lookbacktimes )\n",
    "                f.create_dataset('Sfr', data=sfrs)\n",
    "                f.create_dataset('Metals', data=metals)\n",
    "\n",
    "        else:\n",
    "            f = h5.File(outfname, 'r+') # open existing file\n",
    "            sfr_data = f['Sfr']       # load existing sfr data; assuming other cols already written\n",
    "            sfr_data[snap] = sfrs[snap] #write new snapshot data to it; overwrites anything already in that column\n",
    "            metal_data = f['Metals']       \n",
    "            metal_data[snap] = metals[snap]\n",
    "            f.close()"
   ]
  },
  {
   "cell_type": "code",
   "execution_count": 9,
   "id": "9bfaca3a-981a-4818-9388-e89bd345ea1d",
   "metadata": {
    "tags": []
   },
   "outputs": [
    {
     "name": "stdout",
     "output_type": "stream",
     "text": [
      "Doing snap 0.\n",
      "/home/tnguser/sims.TNG/TNG50-1/output/snapdir_000/snap_000.%d.hdf5\n"
     ]
    },
    {
     "ename": "FileNotFoundError",
     "evalue": "[Errno 2] Unable to open file (unable to open file: name = '/home/tnguser/sims.TNG/TNG50-1/output/snapdir_000/snap_000.0.hdf5', errno = 2, error message = 'No such file or directory', flags = 0, o_flags = 0)",
     "output_type": "error",
     "traceback": [
      "\u001b[0;31m---------------------------------------------------------------------------\u001b[0m",
      "\u001b[0;31mFileNotFoundError\u001b[0m                         Traceback (most recent call last)",
      "Input \u001b[0;32mIn [9]\u001b[0m, in \u001b[0;36m<cell line: 3>\u001b[0;34m()\u001b[0m\n\u001b[1;32m      1\u001b[0m nfiles_temp \u001b[38;5;241m=\u001b[39m \u001b[38;5;241m6\u001b[39m\n\u001b[1;32m      2\u001b[0m starting_snap \u001b[38;5;241m=\u001b[39m \u001b[38;5;241m0\u001b[39m\n\u001b[0;32m----> 3\u001b[0m \u001b[43mgetFullSFRMetallicityFromGas\u001b[49m\u001b[43m(\u001b[49m\u001b[43mTNGpath\u001b[49m\u001b[43m,\u001b[49m\u001b[43m \u001b[49m\u001b[43mTNG\u001b[49m\u001b[43m,\u001b[49m\u001b[43m \u001b[49m\u001b[43mlvl\u001b[49m\u001b[43m,\u001b[49m\u001b[43m \u001b[49m\u001b[43msnaps\u001b[49m\u001b[43m,\u001b[49m\u001b[43m \u001b[49m\u001b[43mnfiles\u001b[49m\u001b[43m,\u001b[49m\u001b[43m \u001b[49m\u001b[43mstarting_snap\u001b[49m\u001b[43m,\u001b[49m\u001b[43m \u001b[49m\u001b[43mnbins\u001b[49m\u001b[38;5;241;43m=\u001b[39;49m\u001b[38;5;241;43m60\u001b[39;49m\u001b[43m)\u001b[49m\n",
      "Input \u001b[0;32mIn [8]\u001b[0m, in \u001b[0;36mgetFullSFRMetallicityFromGas\u001b[0;34m(TNGpath, TNG, lvl, snaps, nfiles, starting_snap, nbins)\u001b[0m\n\u001b[1;32m     10\u001b[0m \u001b[38;5;28;01mif\u001b[39;00m sfrs[snap]\u001b[38;5;241m.\u001b[39msum() \u001b[38;5;241m==\u001b[39m \u001b[38;5;241m0\u001b[39m:\n\u001b[1;32m     11\u001b[0m     \u001b[38;5;28mprint\u001b[39m( \u001b[38;5;124m\"\u001b[39m\u001b[38;5;124mDoing snap \u001b[39m\u001b[38;5;132;01m%d\u001b[39;00m\u001b[38;5;124m.\u001b[39m\u001b[38;5;124m\"\u001b[39m \u001b[38;5;241m%\u001b[39m snap )\n\u001b[0;32m---> 12\u001b[0m     s, m \u001b[38;5;241m=\u001b[39m \u001b[43mgetSFRMetallicityFromGas\u001b[49m\u001b[43m(\u001b[49m\u001b[43mTNGpath\u001b[49m\u001b[43m,\u001b[49m\u001b[43m \u001b[49m\u001b[43mTNG\u001b[49m\u001b[43m,\u001b[49m\u001b[43m \u001b[49m\u001b[43mlvl\u001b[49m\u001b[43m,\u001b[49m\u001b[43m \u001b[49m\u001b[43msnap\u001b[49m\u001b[43m,\u001b[49m\u001b[43m \u001b[49m\u001b[43mnfiles\u001b[49m\u001b[43m,\u001b[49m\u001b[43m \u001b[49m\u001b[43mnBinsSFR\u001b[49m\u001b[38;5;241;43m=\u001b[39;49m\u001b[43mnbins\u001b[49m\u001b[43m)\u001b[49m\n\u001b[1;32m     13\u001b[0m     sfrs[snap,:] \u001b[38;5;241m=\u001b[39m s\n\u001b[1;32m     14\u001b[0m     metals[snap,:] \u001b[38;5;241m=\u001b[39m m\n",
      "Input \u001b[0;32mIn [7]\u001b[0m, in \u001b[0;36mgetSFRMetallicityFromGas\u001b[0;34m(TNGpath, TNG, lvl, snap, nfiles, nBinsSFR)\u001b[0m\n\u001b[1;32m      8\u001b[0m \u001b[38;5;28mprint\u001b[39m(fname)\n\u001b[1;32m     10\u001b[0m \u001b[38;5;28;01mfor\u001b[39;00m ifile \u001b[38;5;129;01min\u001b[39;00m \u001b[38;5;28mrange\u001b[39m(nfiles):\n\u001b[0;32m---> 11\u001b[0m     \u001b[38;5;28;01mwith\u001b[39;00m \u001b[43mh5\u001b[49m\u001b[38;5;241;43m.\u001b[39;49m\u001b[43mFile\u001b[49m\u001b[43m(\u001b[49m\u001b[43mfname\u001b[49m\u001b[43m \u001b[49m\u001b[38;5;241;43m%\u001b[39;49m\u001b[43m \u001b[49m\u001b[43mifile\u001b[49m\u001b[43m,\u001b[49m\u001b[43m \u001b[49m\u001b[38;5;124;43m\"\u001b[39;49m\u001b[38;5;124;43mr\u001b[39;49m\u001b[38;5;124;43m\"\u001b[39;49m\u001b[43m)\u001b[49m \u001b[38;5;28;01mas\u001b[39;00m f:\n\u001b[1;32m     12\u001b[0m         pStars \u001b[38;5;241m=\u001b[39m f[\u001b[38;5;124m\"\u001b[39m\u001b[38;5;124mPartType0\u001b[39m\u001b[38;5;124m\"\u001b[39m]\n\u001b[1;32m     14\u001b[0m         SFR \u001b[38;5;241m=\u001b[39m pStars[\u001b[38;5;124m\"\u001b[39m\u001b[38;5;124mStarFormationRate\u001b[39m\u001b[38;5;124m\"\u001b[39m][:]\n",
      "File \u001b[0;32m~/anaconda3/envs/compas/lib/python3.10/site-packages/h5py/_hl/files.py:567\u001b[0m, in \u001b[0;36mFile.__init__\u001b[0;34m(self, name, mode, driver, libver, userblock_size, swmr, rdcc_nslots, rdcc_nbytes, rdcc_w0, track_order, fs_strategy, fs_persist, fs_threshold, fs_page_size, page_buf_size, min_meta_keep, min_raw_keep, locking, alignment_threshold, alignment_interval, meta_block_size, **kwds)\u001b[0m\n\u001b[1;32m    558\u001b[0m     fapl \u001b[38;5;241m=\u001b[39m make_fapl(driver, libver, rdcc_nslots, rdcc_nbytes, rdcc_w0,\n\u001b[1;32m    559\u001b[0m                      locking, page_buf_size, min_meta_keep, min_raw_keep,\n\u001b[1;32m    560\u001b[0m                      alignment_threshold\u001b[38;5;241m=\u001b[39malignment_threshold,\n\u001b[1;32m    561\u001b[0m                      alignment_interval\u001b[38;5;241m=\u001b[39malignment_interval,\n\u001b[1;32m    562\u001b[0m                      meta_block_size\u001b[38;5;241m=\u001b[39mmeta_block_size,\n\u001b[1;32m    563\u001b[0m                      \u001b[38;5;241m*\u001b[39m\u001b[38;5;241m*\u001b[39mkwds)\n\u001b[1;32m    564\u001b[0m     fcpl \u001b[38;5;241m=\u001b[39m make_fcpl(track_order\u001b[38;5;241m=\u001b[39mtrack_order, fs_strategy\u001b[38;5;241m=\u001b[39mfs_strategy,\n\u001b[1;32m    565\u001b[0m                      fs_persist\u001b[38;5;241m=\u001b[39mfs_persist, fs_threshold\u001b[38;5;241m=\u001b[39mfs_threshold,\n\u001b[1;32m    566\u001b[0m                      fs_page_size\u001b[38;5;241m=\u001b[39mfs_page_size)\n\u001b[0;32m--> 567\u001b[0m     fid \u001b[38;5;241m=\u001b[39m \u001b[43mmake_fid\u001b[49m\u001b[43m(\u001b[49m\u001b[43mname\u001b[49m\u001b[43m,\u001b[49m\u001b[43m \u001b[49m\u001b[43mmode\u001b[49m\u001b[43m,\u001b[49m\u001b[43m \u001b[49m\u001b[43muserblock_size\u001b[49m\u001b[43m,\u001b[49m\u001b[43m \u001b[49m\u001b[43mfapl\u001b[49m\u001b[43m,\u001b[49m\u001b[43m \u001b[49m\u001b[43mfcpl\u001b[49m\u001b[43m,\u001b[49m\u001b[43m \u001b[49m\u001b[43mswmr\u001b[49m\u001b[38;5;241;43m=\u001b[39;49m\u001b[43mswmr\u001b[49m\u001b[43m)\u001b[49m\n\u001b[1;32m    569\u001b[0m \u001b[38;5;28;01mif\u001b[39;00m \u001b[38;5;28misinstance\u001b[39m(libver, \u001b[38;5;28mtuple\u001b[39m):\n\u001b[1;32m    570\u001b[0m     \u001b[38;5;28mself\u001b[39m\u001b[38;5;241m.\u001b[39m_libver \u001b[38;5;241m=\u001b[39m libver\n",
      "File \u001b[0;32m~/anaconda3/envs/compas/lib/python3.10/site-packages/h5py/_hl/files.py:231\u001b[0m, in \u001b[0;36mmake_fid\u001b[0;34m(name, mode, userblock_size, fapl, fcpl, swmr)\u001b[0m\n\u001b[1;32m    229\u001b[0m     \u001b[38;5;28;01mif\u001b[39;00m swmr \u001b[38;5;129;01mand\u001b[39;00m swmr_support:\n\u001b[1;32m    230\u001b[0m         flags \u001b[38;5;241m|\u001b[39m\u001b[38;5;241m=\u001b[39m h5f\u001b[38;5;241m.\u001b[39mACC_SWMR_READ\n\u001b[0;32m--> 231\u001b[0m     fid \u001b[38;5;241m=\u001b[39m \u001b[43mh5f\u001b[49m\u001b[38;5;241;43m.\u001b[39;49m\u001b[43mopen\u001b[49m\u001b[43m(\u001b[49m\u001b[43mname\u001b[49m\u001b[43m,\u001b[49m\u001b[43m \u001b[49m\u001b[43mflags\u001b[49m\u001b[43m,\u001b[49m\u001b[43m \u001b[49m\u001b[43mfapl\u001b[49m\u001b[38;5;241;43m=\u001b[39;49m\u001b[43mfapl\u001b[49m\u001b[43m)\u001b[49m\n\u001b[1;32m    232\u001b[0m \u001b[38;5;28;01melif\u001b[39;00m mode \u001b[38;5;241m==\u001b[39m \u001b[38;5;124m'\u001b[39m\u001b[38;5;124mr+\u001b[39m\u001b[38;5;124m'\u001b[39m:\n\u001b[1;32m    233\u001b[0m     fid \u001b[38;5;241m=\u001b[39m h5f\u001b[38;5;241m.\u001b[39mopen(name, h5f\u001b[38;5;241m.\u001b[39mACC_RDWR, fapl\u001b[38;5;241m=\u001b[39mfapl)\n",
      "File \u001b[0;32mh5py/_objects.pyx:54\u001b[0m, in \u001b[0;36mh5py._objects.with_phil.wrapper\u001b[0;34m()\u001b[0m\n",
      "File \u001b[0;32mh5py/_objects.pyx:55\u001b[0m, in \u001b[0;36mh5py._objects.with_phil.wrapper\u001b[0;34m()\u001b[0m\n",
      "File \u001b[0;32mh5py/h5f.pyx:106\u001b[0m, in \u001b[0;36mh5py.h5f.open\u001b[0;34m()\u001b[0m\n",
      "\u001b[0;31mFileNotFoundError\u001b[0m: [Errno 2] Unable to open file (unable to open file: name = '/home/tnguser/sims.TNG/TNG50-1/output/snapdir_000/snap_000.0.hdf5', errno = 2, error message = 'No such file or directory', flags = 0, o_flags = 0)"
     ]
    }
   ],
   "source": [
    "nfiles_temp = 6\n",
    "starting_snap = 0\n",
    "getFullSFRMetallicityFromGas(TNGpath, TNG, lvl, snaps, nfiles, starting_snap, nbins=60)"
   ]
  },
  {
   "cell_type": "code",
   "execution_count": null,
   "id": "80f86706-e97e-435b-ad28-131260ce6202",
   "metadata": {
    "tags": []
   },
   "outputs": [],
   "source": [
    "with h5.File(\"SFRMetallicityFromGasWithMetalsTNG%d-%d.hdf5\" % (TNG,lvl), \"r\") as f:\n",
    "        MetalBins     = f[\"MetalBins\"][:]\n",
    "        Lookbacktimes = f[\"Lookbacktimes\"][:]\n",
    "        BoxSfr        = f[\"Sfr\"][:]\n",
    "        Redshifts     = f[\"Redshifts\"][:]\n",
    "        Metals        = f[\"Metals\"][:]\n",
    "\n",
    "Sim_center_Zbin  = (MetalBins[:-1] + MetalBins[1:])/2.\n",
    "\n",
    "# Convert SFR from sfr/box to sfr Mpc-3\n",
    "littleh  = 0.6774\n",
    "Rbox     = rbox/littleh\n",
    "Sim_SFRD = BoxSfr / Rbox**3 *u.Mpc**-3\n",
    "Sim_SFRD = Sim_SFRD.value\n",
    "\n",
    "# The model comes in SFRD/DeltaZ, make sure your data does as well!! \n",
    "step_fit_logZ  = np.diff(np.log(MetalBins))[0]    \n",
    "Sim_SFRD       = Sim_SFRD/step_fit_logZ"
   ]
  },
  {
   "cell_type": "code",
   "execution_count": 10,
   "id": "ed6f542a-49e1-4729-bc41-2cc730360fcb",
   "metadata": {
    "tags": []
   },
   "outputs": [
    {
     "ename": "NameError",
     "evalue": "name 'Sim_SFRD' is not defined",
     "output_type": "error",
     "traceback": [
      "\u001b[0;31m---------------------------------------------------------------------------\u001b[0m",
      "\u001b[0;31mNameError\u001b[0m                                 Traceback (most recent call last)",
      "Input \u001b[0;32mIn [10]\u001b[0m, in \u001b[0;36m<cell line: 1>\u001b[0;34m()\u001b[0m\n\u001b[0;32m----> 1\u001b[0m \u001b[43mSim_SFRD\u001b[49m[\u001b[38;5;241m99\u001b[39m]\n",
      "\u001b[0;31mNameError\u001b[0m: name 'Sim_SFRD' is not defined"
     ]
    }
   ],
   "source": [
    "Sim_SFRD[99]"
   ]
  },
  {
   "cell_type": "code",
   "execution_count": 11,
   "id": "e121f938-38e8-4d79-8721-281868ef85fe",
   "metadata": {
    "tags": []
   },
   "outputs": [
    {
     "ename": "NameError",
     "evalue": "name 'Metals' is not defined",
     "output_type": "error",
     "traceback": [
      "\u001b[0;31m---------------------------------------------------------------------------\u001b[0m",
      "\u001b[0;31mNameError\u001b[0m                                 Traceback (most recent call last)",
      "Input \u001b[0;32mIn [11]\u001b[0m, in \u001b[0;36m<cell line: 1>\u001b[0;34m()\u001b[0m\n\u001b[0;32m----> 1\u001b[0m \u001b[43mMetals\u001b[49m[\u001b[38;5;241m99\u001b[39m]\n",
      "\u001b[0;31mNameError\u001b[0m: name 'Metals' is not defined"
     ]
    }
   ],
   "source": [
    "Metals[99]"
   ]
  },
  {
   "cell_type": "code",
   "execution_count": 12,
   "id": "87e74b46-a8ae-4d02-aeb2-2db240b43e39",
   "metadata": {
    "tags": []
   },
   "outputs": [
    {
     "ename": "NameError",
     "evalue": "name 'Sim_center_Zbin' is not defined",
     "output_type": "error",
     "traceback": [
      "\u001b[0;31m---------------------------------------------------------------------------\u001b[0m",
      "\u001b[0;31mNameError\u001b[0m                                 Traceback (most recent call last)",
      "Input \u001b[0;32mIn [12]\u001b[0m, in \u001b[0;36m<cell line: 1>\u001b[0;34m()\u001b[0m\n\u001b[0;32m----> 1\u001b[0m plt\u001b[38;5;241m.\u001b[39mplot(\u001b[43mSim_center_Zbin\u001b[49m, Metals[\u001b[38;5;241m99\u001b[39m])\n\u001b[1;32m      2\u001b[0m plt\u001b[38;5;241m.\u001b[39mxscale(\u001b[38;5;124m'\u001b[39m\u001b[38;5;124mlog\u001b[39m\u001b[38;5;124m'\u001b[39m)\n\u001b[1;32m      3\u001b[0m plt\u001b[38;5;241m.\u001b[39myscale(\u001b[38;5;124m'\u001b[39m\u001b[38;5;124mlog\u001b[39m\u001b[38;5;124m'\u001b[39m)\n",
      "\u001b[0;31mNameError\u001b[0m: name 'Sim_center_Zbin' is not defined"
     ]
    }
   ],
   "source": [
    "plt.plot(Sim_center_Zbin, Metals[99])\n",
    "plt.xscale('log')\n",
    "plt.yscale('log')"
   ]
  },
  {
   "cell_type": "code",
   "execution_count": null,
   "id": "88704c9d-7601-43a3-ac59-9eced3946c79",
   "metadata": {},
   "outputs": [],
   "source": []
  }
 ],
 "metadata": {
  "kernelspec": {
   "display_name": "Python 3 (ipykernel)",
   "language": "python",
   "name": "python3"
  },
  "language_info": {
   "codemirror_mode": {
    "name": "ipython",
    "version": 3
   },
   "file_extension": ".py",
   "mimetype": "text/x-python",
   "name": "python",
   "nbconvert_exporter": "python",
   "pygments_lexer": "ipython3",
   "version": "3.10.0"
  }
 },
 "nbformat": 4,
 "nbformat_minor": 5
}

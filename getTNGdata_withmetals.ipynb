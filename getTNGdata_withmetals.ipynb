{
 "cells": [
  {
   "cell_type": "code",
   "execution_count": 20,
   "id": "d065eab2-bfd9-47db-878d-7270f26a684e",
   "metadata": {
    "tags": []
   },
   "outputs": [],
   "source": [
    "import illustris_python\n",
    "import sys\n",
    "import h5py as h5\n",
    "import numpy as np\n",
    "import matplotlib.pyplot as plt\n",
    "import astropy.units as u\n",
    "import os\n",
    "from astropy.cosmology import Planck15 as cosmo #Planck 2015\n",
    "from astropy.cosmology import z_at_value\n",
    "\n",
    "#import get_ZdepSFRD as Z_SFRD\n",
    "import importlib\n",
    "#import paths\n",
    "\n",
    "import requests\n",
    "import illustris_python as il\n",
    "import illustris_python.groupcat as gc\n",
    "import illustris_python.snapshot as sn"
   ]
  },
  {
   "cell_type": "code",
   "execution_count": 21,
   "id": "fcf231cd-7fc9-4f63-9592-4fb971b35821",
   "metadata": {
    "tags": []
   },
   "outputs": [],
   "source": [
    "TNG  = 50\n",
    "lvl = 1\n",
    "TNGpath = \"/home/tnguser/sims.TNG/TNG%s-%s/output\" % (TNG, lvl)\n",
    "baseUrl = 'http://www.tng-project.org/api/'\n",
    "headers = {\"api-key\":\"e36226423a0cc5e62f2e553f39b44238\"}\n",
    "if TNG==50:\n",
    "    rbox=35\n",
    "elif TNG==100:\n",
    "    rbox=75\n",
    "elif TNG==300:\n",
    "    rbox=205"
   ]
  },
  {
   "cell_type": "code",
   "execution_count": 22,
   "id": "dd2984d1-21ff-43cb-b4fe-033987b38e0b",
   "metadata": {
    "tags": []
   },
   "outputs": [],
   "source": [
    "def get(path, params=None):\n",
    "    # make HTTP GET request to path\n",
    "    r = requests.get(path, params=params, headers=headers)\n",
    "\n",
    "    # raise exception if response code is not HTTP SUCCESS (200)\n",
    "    r.raise_for_status()\n",
    "\n",
    "    if r.headers['content-type'] == 'application/json':\n",
    "        return r.json() # parse json responses automatically\n",
    "    return r"
   ]
  },
  {
   "cell_type": "code",
   "execution_count": 23,
   "id": "a1d3fee2-7032-4082-a829-895abe6fb59c",
   "metadata": {
    "tags": []
   },
   "outputs": [],
   "source": [
    "#get basic snapshots information (redshift, url) for each of the 100 snapshots\n",
    "\n",
    "r = get(baseUrl) #path to all Illustris TNG simulations\n",
    "names = [sim['name'] for sim in r['simulations']] #names of all available simulations\n",
    "i = names.index('TNG%s-%s' % (TNG, lvl)) #index of specific simulation\n",
    "sim = get( r['simulations'][i]['url'] ) #get path to that simulation\n",
    "snaps = get( sim['snapshots'] ) #get path to snapshots for that simulation\n",
    "nfiles = sim['num_files_snapshot'] #number files per snapshot"
   ]
  },
  {
   "cell_type": "code",
   "execution_count": 24,
   "id": "3d2c8aca-f61c-4479-b47b-17a417a4bdac",
   "metadata": {
    "tags": []
   },
   "outputs": [],
   "source": [
    "def get_z_and_lookbacktime(snaps):\n",
    "    #get the redshifts for each snapshot\n",
    "    redshifts = np.array([])\n",
    "    for ind, val in enumerate(snaps):\n",
    "        redshifts = np.append(redshifts, snaps[ind]['redshift'])\n",
    "    \n",
    "    #calculate lookback time for each snapshot\n",
    "    lookbacktimes = np.array(cosmo.lookback_time(redshifts))\n",
    "    \n",
    "    return redshifts, lookbacktimes"
   ]
  },
  {
   "cell_type": "code",
   "execution_count": 25,
   "id": "51c524e5-2e61-4724-9b35-f0f0cacbe670",
   "metadata": {
    "tags": []
   },
   "outputs": [],
   "source": [
    "#function to get binned SFR for each snapshot\n",
    "def getSFRMetallicityFromGas(TNGpath, TNG, lvl, snap, nfiles, nBinsSFR=60):\n",
    "    mbins = np.logspace(-10, 0., nBinsSFR+1)\n",
    "    sfrs  = np.zeros((nBinsSFR))\n",
    "    metals = np.zeros((nBinsSFR))\n",
    "    \n",
    "    fname =  TNGpath + \"/snapdir_%03d/snap_%03d.%s.hdf5\"%(snap, snap, \"%d\") \n",
    "    print(fname)\n",
    "    \n",
    "    for ifile in range(nfiles):\n",
    "        with h5.File(fname % ifile, \"r\") as f:\n",
    "            pStars = f[\"PartType0\"]\n",
    "      \n",
    "            SFR = pStars[\"StarFormationRate\"][:]\n",
    "            Metals = pStars[\"GFM_Metallicity\"][:]\n",
    "      \n",
    "        data, e = np.histogram(Metals, bins=mbins, weights=SFR)\n",
    "        metaldata, e = np.histogram(Metals, bins=mbins)\n",
    "        sfrs += data\n",
    "        metals += metaldata\n",
    "            \n",
    "    return sfrs, metals"
   ]
  },
  {
   "cell_type": "code",
   "execution_count": 26,
   "id": "7903a79f-28f7-4773-8630-1f1eeb152f82",
   "metadata": {
    "tags": []
   },
   "outputs": [],
   "source": [
    "#function to make the data file; iterates through all snapshots\n",
    "\n",
    "def getFullSFRMetallicityFromGas(TNGpath, TNG, lvl, snaps, nfiles, starting_snap, nbins=60):\n",
    "    outfname = \"SFRMetallicityFromGasWithMetalsTNG%d-%d.hdf5\" % (TNG,lvl)\n",
    "    sfrs = np.zeros((len(snaps),nbins))\n",
    "    metals = np.zeros((len(snaps),nbins))\n",
    "    redshifts, lookbacktimes = get_z_and_lookbacktime(snaps)\n",
    "        \n",
    "    for snap in range(starting_snap, len(snaps)):\n",
    "        if sfrs[snap].sum() == 0:\n",
    "            print( \"Doing snap %d.\" % snap )\n",
    "            s, m = getSFRMetallicityFromGas(TNGpath, TNG, lvl, snap, nfiles, nBinsSFR=nbins)\n",
    "            sfrs[snap,:] = s\n",
    "            metals[snap,:] = m\n",
    "\n",
    "        if snap==0: #if starting from beginning, assume no file exists to append into\n",
    "            mbins = np.logspace( -10, 0., nbins+1 )\n",
    "            if os.path.exists(outfname): #check if file with same name exists; if not append, does not overwrite it, makes a new separate file\n",
    "                outfname = outfname + \"-1\"\n",
    "            with h5.File(outfname, \"w\") as f:\n",
    "                f.create_dataset('MetalBins', data=mbins )\n",
    "                f.create_dataset('Redshifts', data=redshifts )\n",
    "                f.create_dataset('Lookbacktimes', data=lookbacktimes )\n",
    "                f.create_dataset('Sfr', data=sfrs)\n",
    "                f.create_dataset('Metals', data=metals)\n",
    "\n",
    "        else:\n",
    "            f = h5.File(outfname, 'r+') # open existing file\n",
    "            sfr_data = f['Sfr']       # load existing sfr data; assuming other cols already written\n",
    "            sfr_data[snap] = sfrs[snap] #write new snapshot data to it; overwrites anything already in that column\n",
    "            metal_data = f['Metals']       \n",
    "            metal_data[snap] = metals[snap]\n",
    "            f.close()"
   ]
  },
  {
   "cell_type": "code",
   "execution_count": null,
   "id": "9bfaca3a-981a-4818-9388-e89bd345ea1d",
   "metadata": {
    "tags": []
   },
   "outputs": [
    {
     "name": "stdout",
     "output_type": "stream",
     "text": [
      "Doing snap 0.\n",
      "/home/tnguser/sims.TNG/TNG50-1/output/snapdir_000/snap_000.%d.hdf5\n"
     ]
    }
   ],
   "source": [
    "nfiles_temp = 6\n",
    "starting_snap = 0\n",
    "getFullSFRMetallicityFromGas(TNGpath, TNG, lvl, snaps, nfiles, starting_snap, nbins=60)"
   ]
  },
  {
   "cell_type": "code",
   "execution_count": null,
   "id": "80f86706-e97e-435b-ad28-131260ce6202",
   "metadata": {
    "tags": []
   },
   "outputs": [],
   "source": [
    "with h5.File(\"SFRMetallicityFromGasWithMetalsTNG%d-%d.hdf5\" % (TNG,lvl), \"r\") as f:\n",
    "        MetalBins     = f[\"MetalBins\"][:]\n",
    "        Lookbacktimes = f[\"Lookbacktimes\"][:]\n",
    "        BoxSfr        = f[\"Sfr\"][:]\n",
    "        Redshifts     = f[\"Redshifts\"][:]\n",
    "        Metals        = f[\"Metals\"][:]\n",
    "\n",
    "Sim_center_Zbin  = (MetalBins[:-1] + MetalBins[1:])/2.\n",
    "\n",
    "# Convert SFR from sfr/box to sfr Mpc-3\n",
    "littleh  = 0.6774\n",
    "Rbox     = rbox/littleh\n",
    "Sim_SFRD = BoxSfr / Rbox**3 *u.Mpc**-3\n",
    "Sim_SFRD = Sim_SFRD.value\n",
    "\n",
    "# The model comes in SFRD/DeltaZ, make sure your data does as well!! \n",
    "step_fit_logZ  = np.diff(np.log(MetalBins))[0]    \n",
    "Sim_SFRD       = Sim_SFRD/step_fit_logZ"
   ]
  },
  {
   "cell_type": "code",
   "execution_count": null,
   "id": "ed6f542a-49e1-4729-bc41-2cc730360fcb",
   "metadata": {
    "tags": []
   },
   "outputs": [],
   "source": [
    "Sim_SFRD[99]"
   ]
  },
  {
   "cell_type": "code",
   "execution_count": null,
   "id": "e121f938-38e8-4d79-8721-281868ef85fe",
   "metadata": {
    "tags": []
   },
   "outputs": [],
   "source": [
    "Metals[99]"
   ]
  },
  {
   "cell_type": "code",
   "execution_count": null,
   "id": "87e74b46-a8ae-4d02-aeb2-2db240b43e39",
   "metadata": {
    "tags": []
   },
   "outputs": [],
   "source": [
    "plt.plot(Sim_center_Zbin, Metals[99])\n",
    "plt.xscale('log')\n",
    "plt.yscale('log')"
   ]
  },
  {
   "cell_type": "code",
   "execution_count": null,
   "id": "88704c9d-7601-43a3-ac59-9eced3946c79",
   "metadata": {},
   "outputs": [],
   "source": []
  }
 ],
 "metadata": {
  "kernelspec": {
   "display_name": "Python 3 (ipykernel)",
   "language": "python",
   "name": "python3"
  },
  "language_info": {
   "codemirror_mode": {
    "name": "ipython",
    "version": 3
   },
   "file_extension": ".py",
   "mimetype": "text/x-python",
   "name": "python",
   "nbconvert_exporter": "python",
   "pygments_lexer": "ipython3",
   "version": "3.11.4"
  }
 },
 "nbformat": 4,
 "nbformat_minor": 5
}

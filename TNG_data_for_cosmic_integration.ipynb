{
 "cells": [
  {
   "cell_type": "markdown",
   "id": "f809b4ad",
   "metadata": {},
   "source": [
    "# Put TNG data into format for cosmic integration with COMPAS"
   ]
  },
  {
   "cell_type": "markdown",
   "id": "1a790dc7",
   "metadata": {},
   "source": [
    "Cosmic integration in COMPAS currently uses analytical model for SFR (M&D 14) and for the metallicity distribution (skewed log normal, based on Neijssel+ 19). There are 4 SFR parameters and 5 dP/dlogZ parameters.\n",
    "\n",
    "The SFR is calculated using the find_sfr function, which needs the redshifts as a list of floats at which the SFR will be evaluated, and the 4 parameters a,b,c,d. The SFR is then returned as a list of floats (corresponding to each redshift), in units of M_$\\odot$/Gpc$^3$/yr.\n",
    "\n",
    "The metallicity distribution (dP/dlogZ) is calculated using the find_metallicity_distribution function which needs both COMPAS information, the metallicity distribution parameters ($\\mu_0, \\mu_z, \\omega_0, \\omega_z, \\alpha$), the redshifts as a list of floats, and minimum and maximum logZ and the step size in logZ. \n",
    "- The metallicities at which dP/dlogZ is calculated at is calculated from the min, max, and step size of logZ. Then take the exponent to get the metallicities which are returned. dP/dlogZ is calculated using logZ. \n",
    "- The list of redshifts is used to calculate the mean metallicities and the log-Linear redshift dependence of sigma. When using the model, the mean metallicities ($\\mu$) are calculated from $\\mu_0$ and $\\mu_z$ and the variance ($\\omega$) is calculated from $\\omega_0$ and $\\omega_z$."
   ]
  },
  {
   "cell_type": "code",
   "execution_count": 302,
   "id": "4d61d118",
   "metadata": {},
   "outputs": [],
   "source": [
    "import sys\n",
    "import h5py as h5\n",
    "import numpy as np\n",
    "import matplotlib.pyplot as plt\n",
    "import astropy.units as u\n",
    "import seaborn as sns\n",
    "\n",
    "from scipy import interpolate\n",
    "from astropy.cosmology import Planck15  as cosmo# Planck15 since that's what TNG uses\n",
    "from astropy.cosmology import z_at_value\n",
    "from IPython.display import Image # to open images in Ipython \n",
    "from scipy.stats import norm as NormDist\n",
    "\n",
    "############################\n",
    "# Custom scripts\n",
    "sys.path.append('../')\n",
    "import get_ZdepSFRD as Z_SFRD\n",
    "import importlib\n",
    "import paths"
   ]
  },
  {
   "cell_type": "code",
   "execution_count": 303,
   "id": "9e625f9c",
   "metadata": {},
   "outputs": [],
   "source": [
    "#Change file names to match TNG version\n",
    "tng=50\n",
    "ver = 1\n",
    "Cosmol_sim_location = paths.data / str(\"SFRMetallicityFromGasTNG%s-%s.hdf5\"%(tng,ver))\n",
    "fit_filename = 'test_best_fit_parameters_TNG%s-%s.txt'%(tng,ver)\n",
    "if tng==50:\n",
    "    rbox=35\n",
    "elif tng==100:\n",
    "    rbox=75\n",
    "elif tng==300:\n",
    "    rbox=205\n",
    "SFRD_Z_z_fname = 'SFRD_TNG%s-%s.txt'%(tng,ver)\n",
    "metals_fname = 'metallicities_TNG.txt'\n",
    "Zsun = 0.014 # Solar metallicity\n",
    "cmap = sns.color_palette('rocket', as_cmap=True)"
   ]
  },
  {
   "cell_type": "code",
   "execution_count": 304,
   "id": "7b6ab817",
   "metadata": {},
   "outputs": [],
   "source": [
    "def find_sfr(redshifts, a = 0.01, b =2.77, c = 2.90, d = 4.70):\n",
    "    # get value in mass per year per cubic Mpc and convert to per cubic Gpc then return\n",
    "    sfr = a * ((1+redshifts)**b) / (1 + ((1+redshifts)/c)**d) * u.Msun / u.yr / u.Mpc**3\n",
    "    return sfr #sfr.to(u.Msun / u.yr / u.Gpc**3).value"
   ]
  },
  {
   "cell_type": "code",
   "execution_count": 305,
   "id": "d7034716",
   "metadata": {},
   "outputs": [],
   "source": [
    "def find_metallicity_distribution(redshifts, metals = [], min_logZ_COMPAS = np.log(1e-4), max_logZ_COMPAS = np.log(0.03),\n",
    "                                  mu_0=0.025, mu_z=-0.048, sigma_0=1.125, sigma_z=0.048, alpha =-1.767,\n",
    "                                  min_logZ=-12.0, max_logZ=0.0, step_logZ =0.01):\n",
    "    # Log-Linear redshift dependence of sigma\n",
    "    sigma = sigma_0* 10**(sigma_z*redshifts)\n",
    "\n",
    "    # Follow Langer & Norman 2007? in assuming that mean metallicities evolve in z as:\n",
    "    mean_metallicities = mu0 * 10**(muz * redshifts)\n",
    "\n",
    "    # Now we re-write the expected value of ou log-skew-normal to retrieve mu\n",
    "    beta = alpha/(np.sqrt(1 + (alpha)**2))\n",
    "    PHI  = NormDist.cdf(beta * sigma)\n",
    "    mu_metallicities = np.log(mean_metallicities/(2.*PHI)) - (sigma**2)/2.\n",
    "    \n",
    "    if len(metals) == 0:\n",
    "        # create a range of metallicities (thex-values, or raandom variables)\n",
    "        log_metallicities = np.arange(min_logZ, max_logZ + step_logZ, step_logZ)\n",
    "        metallicities     = np.exp(log_metallicities)\n",
    "    else: \n",
    "        #use a pre-determined array of metals\n",
    "        metallicities     = metals\n",
    "        log_metallicities = np.log(metallicities)\n",
    "        step_logZ         = np.diff(log_metallicities)[0]\n",
    "\n",
    "    # probabilities of log-skew-normal (without the factor of 1/Z since this is dp/dlogZ not dp/dZ)\n",
    "    dPdlogZ = 2./(sigma[:,np.newaxis]) \\\n",
    "    * NormDist.pdf((log_metallicities -  mu_metallicities[:,np.newaxis])/sigma[:,np.newaxis]) \\\n",
    "    * NormDist.cdf(alpha * (log_metallicities -  mu_metallicities[:,np.newaxis])/sigma[:,np.newaxis] )\n",
    "\n",
    "    # normalise the distribution over all metallicities\n",
    "    norm = dPdlogZ.sum(axis=-1) * step_logZ\n",
    "    dPdlogZ = dPdlogZ /norm[:,np.newaxis]\n",
    "\n",
    "    # assume a flat in log distribution in metallicity to find probability of drawing Z in COMPAS\n",
    "    p_draw_metallicity = 1 / (max_logZ_COMPAS - min_logZ_COMPAS)\n",
    "    \n",
    "    return dPdlogZ, metallicities, step_logZ, p_draw_metallicity"
   ]
  },
  {
   "cell_type": "markdown",
   "id": "9e836983",
   "metadata": {},
   "source": [
    "### Read TNG data"
   ]
  },
  {
   "cell_type": "code",
   "execution_count": 306,
   "id": "850c71db",
   "metadata": {},
   "outputs": [],
   "source": [
    "Sim_SFRD, Lookbacktimes, Sim_center_Zbin, step_fit_logZ, Redshifts = read.load_TNG(loc = Cosmol_sim_location, rbox=rbox)"
   ]
  },
  {
   "cell_type": "code",
   "execution_count": 307,
   "id": "0a9200f8",
   "metadata": {},
   "outputs": [],
   "source": [
    "minZ_popSynth    =  1e-6\n",
    "# Adjust what metallicities to include \n",
    "tofit_Sim_metals = Sim_center_Zbin[np.where(Sim_center_Zbin > minZ_popSynth)[0]]   \n",
    "\n",
    "# Reverse the time axis of the SFRD and lookback time for the fit\n",
    "tofit_Sim_SFRD      = Sim_SFRD[:,np.where(Sim_center_Zbin > minZ_popSynth)[0]][::-1]\n",
    "tofit_Sim_lookbackt = Lookbacktimes[::-1] \n",
    "\n",
    "# Get redshifts\n",
    "redshifts_Sim = Redshifts"
   ]
  },
  {
   "cell_type": "code",
   "execution_count": 362,
   "id": "d94a8c0e",
   "metadata": {},
   "outputs": [
    {
     "data": {
      "text/plain": [
       "(100, 60)"
      ]
     },
     "execution_count": 362,
     "metadata": {},
     "output_type": "execute_result"
    }
   ],
   "source": [
    "Sim_SFRD.shape"
   ]
  },
  {
   "cell_type": "code",
   "execution_count": 361,
   "id": "92b9504a",
   "metadata": {},
   "outputs": [
    {
     "data": {
      "text/plain": [
       "array([1.23389963e-10, 1.81111698e-10, 2.65835618e-10, 3.90193325e-10,\n",
       "       5.72725476e-10, 8.40646035e-10, 1.23389963e-09, 1.81111698e-09,\n",
       "       2.65835618e-09, 3.90193325e-09, 5.72725476e-09, 8.40646035e-09,\n",
       "       1.23389963e-08, 1.81111698e-08, 2.65835618e-08, 3.90193325e-08,\n",
       "       5.72725476e-08, 8.40646035e-08, 1.23389963e-07, 1.81111698e-07,\n",
       "       2.65835618e-07, 3.90193325e-07, 5.72725476e-07, 8.40646035e-07,\n",
       "       1.23389963e-06, 1.81111698e-06, 2.65835618e-06, 3.90193325e-06,\n",
       "       5.72725476e-06, 8.40646035e-06, 1.23389963e-05, 1.81111698e-05,\n",
       "       2.65835618e-05, 3.90193325e-05, 5.72725476e-05, 8.40646035e-05,\n",
       "       1.23389963e-04, 1.81111698e-04, 2.65835618e-04, 3.90193325e-04,\n",
       "       5.72725476e-04, 8.40646035e-04, 1.23389963e-03, 1.81111698e-03,\n",
       "       2.65835618e-03, 3.90193325e-03, 5.72725476e-03, 8.40646035e-03,\n",
       "       1.23389963e-02, 1.81111698e-02, 2.65835618e-02, 3.90193325e-02,\n",
       "       5.72725476e-02, 8.40646035e-02, 1.23389963e-01, 1.81111698e-01,\n",
       "       2.65835618e-01, 3.90193325e-01, 5.72725476e-01, 8.40646035e-01])"
      ]
     },
     "execution_count": 361,
     "metadata": {},
     "output_type": "execute_result"
    }
   ],
   "source": [
    "Sim_center_Zbin"
   ]
  },
  {
   "cell_type": "code",
   "execution_count": 308,
   "id": "20647bf6",
   "metadata": {},
   "outputs": [],
   "source": [
    "# Interpolate the simulation data\n",
    "f_interp = interpolate.interp2d(tofit_Sim_lookbackt, tofit_Sim_metals, tofit_Sim_SFRD.T, kind='cubic')\n",
    "\n",
    "# Retrieve values at higher res regular intervals\n",
    "redshift_new         = np.arange(0, 10.1, 0.05) #202 redshift values\n",
    "Lookbacktimes_new    = [cosmo.lookback_time(z).value for z in redshift_new]\n",
    "\n",
    "log_tofit_Sim_metals = np.log10(tofit_Sim_metals)\n",
    "metals_new           = np.logspace(min(log_tofit_Sim_metals), max(log_tofit_Sim_metals), 500) #500 metal values\n",
    "\n",
    "SFRDnew = f_interp(Lookbacktimes_new,metals_new)\n",
    "SFRDnew[SFRDnew < 0] = 0 #make sure there are no unphysical values of the SFRD"
   ]
  },
  {
   "cell_type": "code",
   "execution_count": 309,
   "id": "2ccefbf0",
   "metadata": {},
   "outputs": [],
   "source": [
    "# read best fit data (for comparison)\n",
    "mu0, muz, omega0, omegaz, alpha, sf_a, sf_b, sf_c, sf_d = np.loadtxt(str(paths.data)+'/'+fit_filename,unpack=True, delimiter=',')"
   ]
  },
  {
   "cell_type": "code",
   "execution_count": 310,
   "id": "93c08a8b",
   "metadata": {},
   "outputs": [],
   "source": [
    "dPdlogZ, metallicities, step_logZ, p_draw_metallicity = find_metallicity_distribution(redshift_new, metals = metals_new,\n",
    "                                  mu_0=mu0, mu_z=muz, sigma_0=omega0, sigma_z=omegaz, alpha =alpha,\n",
    "                                  min_logZ=-12.0, max_logZ=0.0, step_logZ =0.01)"
   ]
  },
  {
   "cell_type": "code",
   "execution_count": 311,
   "id": "02c28518",
   "metadata": {},
   "outputs": [
    {
     "data": {
      "text/plain": [
       "(202, 500)"
      ]
     },
     "execution_count": 311,
     "metadata": {},
     "output_type": "execute_result"
    }
   ],
   "source": [
    "dPdlogZ.shape"
   ]
  },
  {
   "cell_type": "code",
   "execution_count": 312,
   "id": "445ede23",
   "metadata": {},
   "outputs": [
    {
     "data": {
      "text/plain": [
       "array([[3.52204429e-22, 4.53856361e-22, 5.84463074e-22, ...,\n",
       "        2.18939654e-08, 1.65527237e-08, 1.24846655e-08],\n",
       "       [7.47640546e-22, 9.59671887e-22, 1.23103979e-21, ...,\n",
       "        2.71640896e-08, 2.06207344e-08, 1.56167874e-08],\n",
       "       [1.56871817e-21, 2.00588968e-21, 2.56326105e-21, ...,\n",
       "        3.35908683e-08, 2.56016120e-08, 1.94673988e-08],\n",
       "       ...,\n",
       "       [4.70187703e-02, 4.74439442e-02, 4.78713860e-02, ...,\n",
       "        3.33370038e-03, 3.24637368e-03, 3.16100527e-03],\n",
       "       [4.85712096e-02, 4.90007441e-02, 4.94324639e-02, ...,\n",
       "        3.31491734e-03, 3.22870346e-03, 3.14440930e-03],\n",
       "       [5.01519400e-02, 5.05855740e-02, 5.10213071e-02, ...,\n",
       "        3.29561712e-03, 3.21051341e-03, 3.12729148e-03]])"
      ]
     },
     "execution_count": 312,
     "metadata": {},
     "output_type": "execute_result"
    }
   ],
   "source": [
    "dPdlogZ"
   ]
  },
  {
   "cell_type": "code",
   "execution_count": 313,
   "id": "c076d62e",
   "metadata": {},
   "outputs": [
    {
     "data": {
      "text/plain": [
       "(500, 202)"
      ]
     },
     "execution_count": 313,
     "metadata": {},
     "output_type": "execute_result"
    }
   ],
   "source": [
    "SFRDnew.shape"
   ]
  },
  {
   "cell_type": "code",
   "execution_count": 314,
   "id": "17afb1ca",
   "metadata": {},
   "outputs": [
    {
     "data": {
      "text/plain": [
       "202"
      ]
     },
     "execution_count": 314,
     "metadata": {},
     "output_type": "execute_result"
    }
   ],
   "source": [
    "len(redshift_new)"
   ]
  },
  {
   "cell_type": "code",
   "execution_count": 315,
   "id": "80b79905",
   "metadata": {},
   "outputs": [],
   "source": [
    "sfr = find_sfr(redshift_new, a=sf_a, b=sf_b, c=sf_c, d=sf_d)"
   ]
  },
  {
   "cell_type": "code",
   "execution_count": 316,
   "id": "88f61c29",
   "metadata": {},
   "outputs": [
    {
     "data": {
      "text/plain": [
       "202"
      ]
     },
     "execution_count": 316,
     "metadata": {},
     "output_type": "execute_result"
    }
   ],
   "source": [
    "len(sfr)"
   ]
  },
  {
   "cell_type": "code",
   "execution_count": 317,
   "id": "80085a86",
   "metadata": {},
   "outputs": [],
   "source": [
    "SFR = np.sum(SFRDnew,axis=0)"
   ]
  },
  {
   "cell_type": "code",
   "execution_count": 318,
   "id": "23facde3",
   "metadata": {},
   "outputs": [
    {
     "data": {
      "text/plain": [
       "(202,)"
      ]
     },
     "execution_count": 318,
     "metadata": {},
     "output_type": "execute_result"
    }
   ],
   "source": [
    "SFR.shape"
   ]
  },
  {
   "cell_type": "code",
   "execution_count": 319,
   "id": "89fc1316",
   "metadata": {},
   "outputs": [
    {
     "name": "stdout",
     "output_type": "stream",
     "text": [
      "(100, 60) 100 (100,)\n"
     ]
    }
   ],
   "source": [
    "with h5.File(Cosmol_sim_location, \"r\") as f:\n",
    "        MetalBins     = f[\"MetalBins\"][:]\n",
    "        Lookbacktimes = f[\"Lookbacktimes\"][:]\n",
    "        BoxSfr        = f[\"Sfr\"][:]\n",
    "        Redshifts_TNG     = f[\"Redshifts\"][:]\n",
    "# Convert SFR from sfr/box to sfr Mpc-3\n",
    "littleh  = 0.6774\n",
    "Rbox     = rbox/littleh\n",
    "TNG_SFRD = BoxSfr / Rbox**3 *u.Mpc**-3\n",
    "TNG_SFRD = TNG_SFRD.value\n",
    "redshifts_TNG = Redshifts_TNG\n",
    "\n",
    "print(TNG_SFRD.shape, len(redshifts_TNG), np.sum(TNG_SFRD,axis=1).shape)"
   ]
  },
  {
   "cell_type": "code",
   "execution_count": 320,
   "id": "2a83e8c6",
   "metadata": {},
   "outputs": [
    {
     "data": {
      "image/png": "[encoded data removed]",
      "text/plain": [
       "<Figure size 720x504 with 1 Axes>"
      ]
     },
     "metadata": {
      "needs_background": "light"
     },
     "output_type": "display_data"
    }
   ],
   "source": [
    "fig, ax = plt.subplots(1, 1, figsize=(10, 7))\n",
    "\n",
    "plt.plot(redshift_new, np.sum(SFRDnew*step_fit_logZ,axis=0), label='avg of SFRDnew')\n",
    "plt.plot(Redshifts, np.sum(Sim_SFRD*step_fit_logZ, axis=1), label='avg of Sim_SFRD')\n",
    "plt.plot(redshifts_TNG, np.sum(TNG_SFRD, axis=1), label='from TNG data directly..?')\n",
    "plt.plot(redshift_new, sfr, label='model')\n",
    "plt.yscale('log')\n",
    "plt.legend();"
   ]
  },
  {
   "cell_type": "markdown",
   "id": "89363532",
   "metadata": {},
   "source": [
    "## Write SFRD(Z, z) data to files"
   ]
  },
  {
   "cell_type": "code",
   "execution_count": 391,
   "id": "2230952e",
   "metadata": {},
   "outputs": [],
   "source": [
    "# Interpolate the simulation data\n",
    "f_interp = interpolate.interp2d(tofit_Sim_lookbackt, tofit_Sim_metals, tofit_Sim_SFRD.T, kind='cubic')\n",
    "\n",
    "# Retrieve values at higher res regular intervals\n",
    "redshift_COMPAS         = np.arange(0, 14.05, 0.05)\n",
    "Lookbacktimes_COMPAS    = [cosmo.lookback_time(z).value for z in redshift_COMPAS]\n",
    "\n",
    "log_tofit_Sim_metals = np.log10(tofit_Sim_metals)\n",
    "metals_new           = np.logspace(min(log_tofit_Sim_metals), max(log_tofit_Sim_metals), 500) #500 metal values\n",
    "log_metallicities_c = np.arange(-6, 0 + step_logZ, 0.01)\n",
    "metallicities_c = 10**(log_metallicities_c)\n",
    "\n",
    "SFRD_COMPAS = f_interp(Lookbacktimes_COMPAS,metals_new)\n",
    "SFRD_COMPAS[SFRD_COMPAS < 0] = 0 #make sure there are no unphysical values of the SFRD"
   ]
  },
  {
   "cell_type": "code",
   "execution_count": 392,
   "id": "61103e77",
   "metadata": {},
   "outputs": [
    {
     "data": {
      "text/plain": [
       "array([1.23389963e-06, 1.26756396e-06, 1.30214674e-06, 1.33767304e-06,\n",
       "       1.37416861e-06, 1.41165987e-06, 1.45017400e-06, 1.48973892e-06,\n",
       "       1.53038327e-06, 1.57213652e-06, 1.61502892e-06, 1.65909154e-06,\n",
       "       1.70435632e-06, 1.75085606e-06, 1.79862444e-06, 1.84769608e-06,\n",
       "       1.89810653e-06, 1.94989233e-06, 2.00309099e-06, 2.05774106e-06,\n",
       "       2.11388215e-06, 2.17155492e-06, 2.23080117e-06, 2.29166383e-06,\n",
       "       2.35418700e-06, 2.41841598e-06, 2.48439731e-06, 2.55217881e-06,\n",
       "       2.62180957e-06, 2.69334006e-06, 2.76682211e-06, 2.84230897e-06,\n",
       "       2.91985531e-06, 2.99951735e-06, 3.08135280e-06, 3.16542095e-06,\n",
       "       3.25178272e-06, 3.34050069e-06, 3.43163914e-06, 3.52526411e-06,\n",
       "       3.62144343e-06, 3.72024681e-06, 3.82174582e-06, 3.92601402e-06,\n",
       "       4.03312695e-06, 4.14316224e-06, 4.25619960e-06, 4.37232094e-06,\n",
       "       4.49161041e-06, 4.61415444e-06, 4.74004182e-06, 4.86936377e-06,\n",
       "       5.00221399e-06, 5.13868875e-06, 5.27888694e-06, 5.42291013e-06,\n",
       "       5.57086269e-06, 5.72285182e-06, 5.87898764e-06, 6.03938331e-06,\n",
       "       6.20415502e-06, 6.37342218e-06, 6.54730744e-06, 6.72593679e-06,\n",
       "       6.90943965e-06, 7.09794900e-06, 7.29160143e-06, 7.49053725e-06,\n",
       "       7.69490062e-06, 7.90483960e-06, 8.12050632e-06, 8.34205704e-06,\n",
       "       8.56965231e-06, 8.80345703e-06, 9.04364061e-06, 9.29037710e-06,\n",
       "       9.54384526e-06, 9.80422876e-06, 1.00717163e-05, 1.03465016e-05,\n",
       "       1.06287839e-05, 1.09187676e-05, 1.12166629e-05, 1.15226857e-05,\n",
       "       1.18370577e-05, 1.21600066e-05, 1.24917665e-05, 1.28325777e-05,\n",
       "       1.31826873e-05, 1.35423488e-05, 1.39118230e-05, 1.42913775e-05,\n",
       "       1.46812873e-05, 1.50818350e-05, 1.54933107e-05, 1.59160127e-05,\n",
       "       1.63502472e-05, 1.67963289e-05, 1.72545810e-05, 1.77253355e-05,\n",
       "       1.82089336e-05, 1.87057256e-05, 1.92160715e-05, 1.97403411e-05,\n",
       "       2.02789142e-05, 2.08321812e-05, 2.14005430e-05, 2.19844112e-05,\n",
       "       2.25842091e-05, 2.32003711e-05, 2.38333439e-05, 2.44835859e-05,\n",
       "       2.51515684e-05, 2.58377754e-05, 2.65427041e-05, 2.72668653e-05,\n",
       "       2.80107837e-05, 2.87749983e-05, 2.95600628e-05, 3.03665462e-05,\n",
       "       3.11950328e-05, 3.20461229e-05, 3.29204331e-05, 3.38185970e-05,\n",
       "       3.47412655e-05, 3.56891069e-05, 3.66628082e-05, 3.76630749e-05,\n",
       "       3.86906317e-05, 3.97462232e-05, 4.08306143e-05, 4.19445907e-05,\n",
       "       4.30889596e-05, 4.42645501e-05, 4.54722141e-05, 4.67128267e-05,\n",
       "       4.79872867e-05, 4.92965177e-05, 5.06414682e-05, 5.20231128e-05,\n",
       "       5.34424527e-05, 5.49005163e-05, 5.63983600e-05, 5.79370692e-05,\n",
       "       5.95177588e-05, 6.11415741e-05, 6.28096918e-05, 6.45233205e-05,\n",
       "       6.62837020e-05, 6.80921117e-05, 6.99498600e-05, 7.18582930e-05,\n",
       "       7.38187935e-05, 7.58327821e-05, 7.79017182e-05, 8.00271007e-05,\n",
       "       8.22104698e-05, 8.44534074e-05, 8.67575389e-05, 8.91245336e-05,\n",
       "       9.15561068e-05, 9.40540202e-05, 9.66200839e-05, 9.92561572e-05,\n",
       "       1.01964150e-04, 1.04746025e-04, 1.07603797e-04, 1.10539538e-04,\n",
       "       1.13555374e-04, 1.16653490e-04, 1.19836133e-04, 1.23105606e-04,\n",
       "       1.26464281e-04, 1.29914589e-04, 1.33459032e-04, 1.37100178e-04,\n",
       "       1.40840664e-04, 1.44683202e-04, 1.48630575e-04, 1.52685644e-04,\n",
       "       1.56851347e-04, 1.61130702e-04, 1.65526810e-04, 1.70042857e-04,\n",
       "       1.74682114e-04, 1.79447944e-04, 1.84343799e-04, 1.89373227e-04,\n",
       "       1.94539872e-04, 1.99847478e-04, 2.05299891e-04, 2.10901062e-04,\n",
       "       2.16655048e-04, 2.22566020e-04, 2.28638260e-04, 2.34876168e-04,\n",
       "       2.41284265e-04, 2.47867192e-04, 2.54629721e-04, 2.61576751e-04,\n",
       "       2.68713315e-04, 2.76044586e-04, 2.83575875e-04, 2.91312639e-04,\n",
       "       2.99260484e-04, 3.07425170e-04, 3.15812611e-04, 3.24428886e-04,\n",
       "       3.33280237e-04, 3.42373079e-04, 3.51713999e-04, 3.61309767e-04,\n",
       "       3.71167335e-04, 3.81293845e-04, 3.91696636e-04, 4.02383245e-04,\n",
       "       4.13361415e-04, 4.24639102e-04, 4.36224475e-04, 4.48125932e-04,\n",
       "       4.60352094e-04, 4.72911820e-04, 4.85814213e-04, 4.99068619e-04,\n",
       "       5.12684644e-04, 5.26672153e-04, 5.41041282e-04, 5.55802441e-04,\n",
       "       5.70966327e-04, 5.86543928e-04, 6.02546531e-04, 6.18985730e-04,\n",
       "       6.35873438e-04, 6.53221891e-04, 6.71043660e-04, 6.89351657e-04,\n",
       "       7.08159150e-04, 7.27479764e-04, 7.47327501e-04, 7.67716741e-04,\n",
       "       7.88662258e-04, 8.10179229e-04, 8.32283244e-04, 8.54990321e-04,\n",
       "       8.78316911e-04, 9.02279918e-04, 9.26896705e-04, 9.52185108e-04,\n",
       "       9.78163452e-04, 1.00485056e-03, 1.03226577e-03, 1.06042894e-03,\n",
       "       1.08936049e-03, 1.11908137e-03, 1.14961312e-03, 1.18097787e-03,\n",
       "       1.21319834e-03, 1.24629787e-03, 1.28030045e-03, 1.31523073e-03,\n",
       "       1.35111400e-03, 1.38797627e-03, 1.42584424e-03, 1.46474537e-03,\n",
       "       1.50470783e-03, 1.54576058e-03, 1.58793336e-03, 1.63125674e-03,\n",
       "       1.67576211e-03, 1.72148171e-03, 1.76844868e-03, 1.81669703e-03,\n",
       "       1.86626175e-03, 1.91717872e-03, 1.96948486e-03, 2.02321807e-03,\n",
       "       2.07841726e-03, 2.13512245e-03, 2.19337473e-03, 2.25321629e-03,\n",
       "       2.31469049e-03, 2.37784190e-03, 2.44271625e-03, 2.50936056e-03,\n",
       "       2.57782312e-03, 2.64815354e-03, 2.72040277e-03, 2.79462317e-03,\n",
       "       2.87086851e-03, 2.94919405e-03, 3.02965653e-03, 3.11231426e-03,\n",
       "       3.19722713e-03, 3.28445666e-03, 3.37406607e-03, 3.46612028e-03,\n",
       "       3.56068599e-03, 3.65783173e-03, 3.75762788e-03, 3.86014676e-03,\n",
       "       3.96546265e-03, 4.07365185e-03, 4.18479277e-03, 4.29896593e-03,\n",
       "       4.41625407e-03, 4.53674216e-03, 4.66051751e-03, 4.78766981e-03,\n",
       "       4.91829119e-03, 5.05247629e-03, 5.19032235e-03, 5.33192925e-03,\n",
       "       5.47739958e-03, 5.62683877e-03, 5.78035509e-03, 5.93805977e-03,\n",
       "       6.10006709e-03, 6.26649443e-03, 6.43746239e-03, 6.61309485e-03,\n",
       "       6.79351907e-03, 6.97886577e-03, 7.16926927e-03, 7.36486752e-03,\n",
       "       7.56580225e-03, 7.77221905e-03, 7.98426751e-03, 8.20210125e-03,\n",
       "       8.42587812e-03, 8.65576026e-03, 8.89191426e-03, 9.13451121e-03,\n",
       "       9.38372690e-03, 9.63974191e-03, 9.90274175e-03, 1.01729170e-02,\n",
       "       1.04504634e-02, 1.07355820e-02, 1.10284795e-02, 1.13293681e-02,\n",
       "       1.16384658e-02, 1.19559965e-02, 1.22821904e-02, 1.26172839e-02,\n",
       "       1.29615196e-02, 1.33151471e-02, 1.36784225e-02, 1.40516091e-02,\n",
       "       1.44349774e-02, 1.48288050e-02, 1.52333774e-02, 1.56489877e-02,\n",
       "       1.60759370e-02, 1.65145347e-02, 1.69650986e-02, 1.74279552e-02,\n",
       "       1.79034399e-02, 1.83918971e-02, 1.88936809e-02, 1.94091547e-02,\n",
       "       1.99386922e-02, 2.04826770e-02, 2.10415032e-02, 2.16155758e-02,\n",
       "       2.22053108e-02, 2.28111354e-02, 2.34334887e-02, 2.40728215e-02,\n",
       "       2.47295972e-02, 2.54042916e-02, 2.60973937e-02, 2.68094055e-02,\n",
       "       2.75408430e-02, 2.82922363e-02, 2.90641297e-02, 2.98570827e-02,\n",
       "       3.06716696e-02, 3.15084808e-02, 3.23681226e-02, 3.32512179e-02,\n",
       "       3.41584066e-02, 3.50903460e-02, 3.60477114e-02, 3.70311965e-02,\n",
       "       3.80415139e-02, 3.90793956e-02, 4.01455937e-02, 4.12408807e-02,\n",
       "       4.23660504e-02, 4.35219179e-02, 4.47093207e-02, 4.59291194e-02,\n",
       "       4.71821976e-02, 4.84694634e-02, 4.97918496e-02, 5.11503142e-02,\n",
       "       5.25458416e-02, 5.39794430e-02, 5.54521572e-02, 5.69650513e-02,\n",
       "       5.85192214e-02, 6.01157938e-02, 6.17559253e-02, 6.34408042e-02,\n",
       "       6.51716515e-02, 6.69497213e-02, 6.87763019e-02, 7.06527169e-02,\n",
       "       7.25803258e-02, 7.45605255e-02, 7.65947507e-02, 7.86844754e-02,\n",
       "       8.08312138e-02, 8.30365214e-02, 8.53019961e-02, 8.76292795e-02,\n",
       "       9.00200578e-02, 9.24760635e-02, 9.49990760e-02, 9.75909235e-02,\n",
       "       1.00253484e-01, 1.02988687e-01, 1.05798514e-01, 1.08685001e-01,\n",
       "       1.11650240e-01, 1.14696379e-01, 1.17825626e-01, 1.21040247e-01,\n",
       "       1.24342573e-01, 1.27734995e-01, 1.31219972e-01, 1.34800030e-01,\n",
       "       1.38477762e-01, 1.42255833e-01, 1.46136980e-01, 1.50124017e-01,\n",
       "       1.54219831e-01, 1.58427391e-01, 1.62749745e-01, 1.67190025e-01,\n",
       "       1.71751449e-01, 1.76437322e-01, 1.81251038e-01, 1.86196087e-01,\n",
       "       1.91276051e-01, 1.96494611e-01, 2.01855548e-01, 2.07362747e-01,\n",
       "       2.13020198e-01, 2.18832001e-01, 2.24802366e-01, 2.30935620e-01,\n",
       "       2.37236207e-01, 2.43708691e-01, 2.50357764e-01, 2.57188243e-01,\n",
       "       2.64205076e-01, 2.71413350e-01, 2.78818285e-01, 2.86425248e-01,\n",
       "       2.94239751e-01, 3.02267457e-01, 3.10514181e-01, 3.18985899e-01,\n",
       "       3.27688750e-01, 3.36629040e-01, 3.45813247e-01, 3.55248025e-01,\n",
       "       3.64940211e-01, 3.74896828e-01, 3.85125090e-01, 3.95632408e-01,\n",
       "       4.06426396e-01, 4.17514875e-01, 4.28905880e-01, 4.40607663e-01,\n",
       "       4.52628705e-01, 4.64977716e-01, 4.77663643e-01, 4.90695679e-01,\n",
       "       5.04083266e-01, 5.17836105e-01, 5.31964160e-01, 5.46477670e-01,\n",
       "       5.61387150e-01, 5.76703403e-01, 5.92437528e-01, 6.08600924e-01,\n",
       "       6.25205305e-01, 6.42262701e-01, 6.59785471e-01, 6.77786313e-01,\n",
       "       6.96278270e-01, 7.15274740e-01, 7.34789488e-01, 7.54836655e-01,\n",
       "       7.75430767e-01, 7.96586744e-01, 8.18319918e-01, 8.40646035e-01])"
      ]
     },
     "execution_count": 392,
     "metadata": {},
     "output_type": "execute_result"
    }
   ],
   "source": [
    "metals_new"
   ]
  },
  {
   "cell_type": "code",
   "execution_count": 393,
   "id": "5d4cac02",
   "metadata": {},
   "outputs": [
    {
     "data": {
      "text/plain": [
       "array([-6.00000000e+00, -5.99000000e+00, -5.98000000e+00, -5.97000000e+00,\n",
       "       -5.96000000e+00, -5.95000000e+00, -5.94000000e+00, -5.93000000e+00,\n",
       "       -5.92000000e+00, -5.91000000e+00, -5.90000000e+00, -5.89000000e+00,\n",
       "       -5.88000000e+00, -5.87000000e+00, -5.86000000e+00, -5.85000000e+00,\n",
       "       -5.84000000e+00, -5.83000000e+00, -5.82000000e+00, -5.81000000e+00,\n",
       "       -5.80000000e+00, -5.79000000e+00, -5.78000000e+00, -5.77000000e+00,\n",
       "       -5.76000000e+00, -5.75000000e+00, -5.74000000e+00, -5.73000000e+00,\n",
       "       -5.72000000e+00, -5.71000000e+00, -5.70000000e+00, -5.69000000e+00,\n",
       "       -5.68000000e+00, -5.67000000e+00, -5.66000000e+00, -5.65000000e+00,\n",
       "       -5.64000000e+00, -5.63000000e+00, -5.62000000e+00, -5.61000000e+00,\n",
       "       -5.60000000e+00, -5.59000000e+00, -5.58000000e+00, -5.57000000e+00,\n",
       "       -5.56000000e+00, -5.55000000e+00, -5.54000000e+00, -5.53000000e+00,\n",
       "       -5.52000000e+00, -5.51000000e+00, -5.50000000e+00, -5.49000000e+00,\n",
       "       -5.48000000e+00, -5.47000000e+00, -5.46000000e+00, -5.45000000e+00,\n",
       "       -5.44000000e+00, -5.43000000e+00, -5.42000000e+00, -5.41000000e+00,\n",
       "       -5.40000000e+00, -5.39000000e+00, -5.38000000e+00, -5.37000000e+00,\n",
       "       -5.36000000e+00, -5.35000000e+00, -5.34000000e+00, -5.33000000e+00,\n",
       "       -5.32000000e+00, -5.31000000e+00, -5.30000000e+00, -5.29000000e+00,\n",
       "       -5.28000000e+00, -5.27000000e+00, -5.26000000e+00, -5.25000000e+00,\n",
       "       -5.24000000e+00, -5.23000000e+00, -5.22000000e+00, -5.21000000e+00,\n",
       "       -5.20000000e+00, -5.19000000e+00, -5.18000000e+00, -5.17000000e+00,\n",
       "       -5.16000000e+00, -5.15000000e+00, -5.14000000e+00, -5.13000000e+00,\n",
       "       -5.12000000e+00, -5.11000000e+00, -5.10000000e+00, -5.09000000e+00,\n",
       "       -5.08000000e+00, -5.07000000e+00, -5.06000000e+00, -5.05000000e+00,\n",
       "       -5.04000000e+00, -5.03000000e+00, -5.02000000e+00, -5.01000000e+00,\n",
       "       -5.00000000e+00, -4.99000000e+00, -4.98000000e+00, -4.97000000e+00,\n",
       "       -4.96000000e+00, -4.95000000e+00, -4.94000000e+00, -4.93000000e+00,\n",
       "       -4.92000000e+00, -4.91000000e+00, -4.90000000e+00, -4.89000000e+00,\n",
       "       -4.88000000e+00, -4.87000000e+00, -4.86000000e+00, -4.85000000e+00,\n",
       "       -4.84000000e+00, -4.83000000e+00, -4.82000000e+00, -4.81000000e+00,\n",
       "       -4.80000000e+00, -4.79000000e+00, -4.78000000e+00, -4.77000000e+00,\n",
       "       -4.76000000e+00, -4.75000000e+00, -4.74000000e+00, -4.73000000e+00,\n",
       "       -4.72000000e+00, -4.71000000e+00, -4.70000000e+00, -4.69000000e+00,\n",
       "       -4.68000000e+00, -4.67000000e+00, -4.66000000e+00, -4.65000000e+00,\n",
       "       -4.64000000e+00, -4.63000000e+00, -4.62000000e+00, -4.61000000e+00,\n",
       "       -4.60000000e+00, -4.59000000e+00, -4.58000000e+00, -4.57000000e+00,\n",
       "       -4.56000000e+00, -4.55000000e+00, -4.54000000e+00, -4.53000000e+00,\n",
       "       -4.52000000e+00, -4.51000000e+00, -4.50000000e+00, -4.49000000e+00,\n",
       "       -4.48000000e+00, -4.47000000e+00, -4.46000000e+00, -4.45000000e+00,\n",
       "       -4.44000000e+00, -4.43000000e+00, -4.42000000e+00, -4.41000000e+00,\n",
       "       -4.40000000e+00, -4.39000000e+00, -4.38000000e+00, -4.37000000e+00,\n",
       "       -4.36000000e+00, -4.35000000e+00, -4.34000000e+00, -4.33000000e+00,\n",
       "       -4.32000000e+00, -4.31000000e+00, -4.30000000e+00, -4.29000000e+00,\n",
       "       -4.28000000e+00, -4.27000000e+00, -4.26000000e+00, -4.25000000e+00,\n",
       "       -4.24000000e+00, -4.23000000e+00, -4.22000000e+00, -4.21000000e+00,\n",
       "       -4.20000000e+00, -4.19000000e+00, -4.18000000e+00, -4.17000000e+00,\n",
       "       -4.16000000e+00, -4.15000000e+00, -4.14000000e+00, -4.13000000e+00,\n",
       "       -4.12000000e+00, -4.11000000e+00, -4.10000000e+00, -4.09000000e+00,\n",
       "       -4.08000000e+00, -4.07000000e+00, -4.06000000e+00, -4.05000000e+00,\n",
       "       -4.04000000e+00, -4.03000000e+00, -4.02000000e+00, -4.01000000e+00,\n",
       "       -4.00000000e+00, -3.99000000e+00, -3.98000000e+00, -3.97000000e+00,\n",
       "       -3.96000000e+00, -3.95000000e+00, -3.94000000e+00, -3.93000000e+00,\n",
       "       -3.92000000e+00, -3.91000000e+00, -3.90000000e+00, -3.89000000e+00,\n",
       "       -3.88000000e+00, -3.87000000e+00, -3.86000000e+00, -3.85000000e+00,\n",
       "       -3.84000000e+00, -3.83000000e+00, -3.82000000e+00, -3.81000000e+00,\n",
       "       -3.80000000e+00, -3.79000000e+00, -3.78000000e+00, -3.77000000e+00,\n",
       "       -3.76000000e+00, -3.75000000e+00, -3.74000000e+00, -3.73000000e+00,\n",
       "       -3.72000000e+00, -3.71000000e+00, -3.70000000e+00, -3.69000000e+00,\n",
       "       -3.68000000e+00, -3.67000000e+00, -3.66000000e+00, -3.65000000e+00,\n",
       "       -3.64000000e+00, -3.63000000e+00, -3.62000000e+00, -3.61000000e+00,\n",
       "       -3.60000000e+00, -3.59000000e+00, -3.58000000e+00, -3.57000000e+00,\n",
       "       -3.56000000e+00, -3.55000000e+00, -3.54000000e+00, -3.53000000e+00,\n",
       "       -3.52000000e+00, -3.51000000e+00, -3.50000000e+00, -3.49000000e+00,\n",
       "       -3.48000000e+00, -3.47000000e+00, -3.46000000e+00, -3.45000000e+00,\n",
       "       -3.44000000e+00, -3.43000000e+00, -3.42000000e+00, -3.41000000e+00,\n",
       "       -3.40000000e+00, -3.39000000e+00, -3.38000000e+00, -3.37000000e+00,\n",
       "       -3.36000000e+00, -3.35000000e+00, -3.34000000e+00, -3.33000000e+00,\n",
       "       -3.32000000e+00, -3.31000000e+00, -3.30000000e+00, -3.29000000e+00,\n",
       "       -3.28000000e+00, -3.27000000e+00, -3.26000000e+00, -3.25000000e+00,\n",
       "       -3.24000000e+00, -3.23000000e+00, -3.22000000e+00, -3.21000000e+00,\n",
       "       -3.20000000e+00, -3.19000000e+00, -3.18000000e+00, -3.17000000e+00,\n",
       "       -3.16000000e+00, -3.15000000e+00, -3.14000000e+00, -3.13000000e+00,\n",
       "       -3.12000000e+00, -3.11000000e+00, -3.10000000e+00, -3.09000000e+00,\n",
       "       -3.08000000e+00, -3.07000000e+00, -3.06000000e+00, -3.05000000e+00,\n",
       "       -3.04000000e+00, -3.03000000e+00, -3.02000000e+00, -3.01000000e+00,\n",
       "       -3.00000000e+00, -2.99000000e+00, -2.98000000e+00, -2.97000000e+00,\n",
       "       -2.96000000e+00, -2.95000000e+00, -2.94000000e+00, -2.93000000e+00,\n",
       "       -2.92000000e+00, -2.91000000e+00, -2.90000000e+00, -2.89000000e+00,\n",
       "       -2.88000000e+00, -2.87000000e+00, -2.86000000e+00, -2.85000000e+00,\n",
       "       -2.84000000e+00, -2.83000000e+00, -2.82000000e+00, -2.81000000e+00,\n",
       "       -2.80000000e+00, -2.79000000e+00, -2.78000000e+00, -2.77000000e+00,\n",
       "       -2.76000000e+00, -2.75000000e+00, -2.74000000e+00, -2.73000000e+00,\n",
       "       -2.72000000e+00, -2.71000000e+00, -2.70000000e+00, -2.69000000e+00,\n",
       "       -2.68000000e+00, -2.67000000e+00, -2.66000000e+00, -2.65000000e+00,\n",
       "       -2.64000000e+00, -2.63000000e+00, -2.62000000e+00, -2.61000000e+00,\n",
       "       -2.60000000e+00, -2.59000000e+00, -2.58000000e+00, -2.57000000e+00,\n",
       "       -2.56000000e+00, -2.55000000e+00, -2.54000000e+00, -2.53000000e+00,\n",
       "       -2.52000000e+00, -2.51000000e+00, -2.50000000e+00, -2.49000000e+00,\n",
       "       -2.48000000e+00, -2.47000000e+00, -2.46000000e+00, -2.45000000e+00,\n",
       "       -2.44000000e+00, -2.43000000e+00, -2.42000000e+00, -2.41000000e+00,\n",
       "       -2.40000000e+00, -2.39000000e+00, -2.38000000e+00, -2.37000000e+00,\n",
       "       -2.36000000e+00, -2.35000000e+00, -2.34000000e+00, -2.33000000e+00,\n",
       "       -2.32000000e+00, -2.31000000e+00, -2.30000000e+00, -2.29000000e+00,\n",
       "       -2.28000000e+00, -2.27000000e+00, -2.26000000e+00, -2.25000000e+00,\n",
       "       -2.24000000e+00, -2.23000000e+00, -2.22000000e+00, -2.21000000e+00,\n",
       "       -2.20000000e+00, -2.19000000e+00, -2.18000000e+00, -2.17000000e+00,\n",
       "       -2.16000000e+00, -2.15000000e+00, -2.14000000e+00, -2.13000000e+00,\n",
       "       -2.12000000e+00, -2.11000000e+00, -2.10000000e+00, -2.09000000e+00,\n",
       "       -2.08000000e+00, -2.07000000e+00, -2.06000000e+00, -2.05000000e+00,\n",
       "       -2.04000000e+00, -2.03000000e+00, -2.02000000e+00, -2.01000000e+00,\n",
       "       -2.00000000e+00, -1.99000000e+00, -1.98000000e+00, -1.97000000e+00,\n",
       "       -1.96000000e+00, -1.95000000e+00, -1.94000000e+00, -1.93000000e+00,\n",
       "       -1.92000000e+00, -1.91000000e+00, -1.90000000e+00, -1.89000000e+00,\n",
       "       -1.88000000e+00, -1.87000000e+00, -1.86000000e+00, -1.85000000e+00,\n",
       "       -1.84000000e+00, -1.83000000e+00, -1.82000000e+00, -1.81000000e+00,\n",
       "       -1.80000000e+00, -1.79000000e+00, -1.78000000e+00, -1.77000000e+00,\n",
       "       -1.76000000e+00, -1.75000000e+00, -1.74000000e+00, -1.73000000e+00,\n",
       "       -1.72000000e+00, -1.71000000e+00, -1.70000000e+00, -1.69000000e+00,\n",
       "       -1.68000000e+00, -1.67000000e+00, -1.66000000e+00, -1.65000000e+00,\n",
       "       -1.64000000e+00, -1.63000000e+00, -1.62000000e+00, -1.61000000e+00,\n",
       "       -1.60000000e+00, -1.59000000e+00, -1.58000000e+00, -1.57000000e+00,\n",
       "       -1.56000000e+00, -1.55000000e+00, -1.54000000e+00, -1.53000000e+00,\n",
       "       -1.52000000e+00, -1.51000000e+00, -1.50000000e+00, -1.49000000e+00,\n",
       "       -1.48000000e+00, -1.47000000e+00, -1.46000000e+00, -1.45000000e+00,\n",
       "       -1.44000000e+00, -1.43000000e+00, -1.42000000e+00, -1.41000000e+00,\n",
       "       -1.40000000e+00, -1.39000000e+00, -1.38000000e+00, -1.37000000e+00,\n",
       "       -1.36000000e+00, -1.35000000e+00, -1.34000000e+00, -1.33000000e+00,\n",
       "       -1.32000000e+00, -1.31000000e+00, -1.30000000e+00, -1.29000000e+00,\n",
       "       -1.28000000e+00, -1.27000000e+00, -1.26000000e+00, -1.25000000e+00,\n",
       "       -1.24000000e+00, -1.23000000e+00, -1.22000000e+00, -1.21000000e+00,\n",
       "       -1.20000000e+00, -1.19000000e+00, -1.18000000e+00, -1.17000000e+00,\n",
       "       -1.16000000e+00, -1.15000000e+00, -1.14000000e+00, -1.13000000e+00,\n",
       "       -1.12000000e+00, -1.11000000e+00, -1.10000000e+00, -1.09000000e+00,\n",
       "       -1.08000000e+00, -1.07000000e+00, -1.06000000e+00, -1.05000000e+00,\n",
       "       -1.04000000e+00, -1.03000000e+00, -1.02000000e+00, -1.01000000e+00,\n",
       "       -1.00000000e+00, -9.90000000e-01, -9.80000000e-01, -9.70000000e-01,\n",
       "       -9.60000000e-01, -9.50000000e-01, -9.40000000e-01, -9.30000000e-01,\n",
       "       -9.20000000e-01, -9.10000000e-01, -9.00000000e-01, -8.90000000e-01,\n",
       "       -8.80000000e-01, -8.70000000e-01, -8.60000000e-01, -8.50000000e-01,\n",
       "       -8.40000000e-01, -8.30000000e-01, -8.20000000e-01, -8.10000000e-01,\n",
       "       -8.00000000e-01, -7.90000000e-01, -7.80000000e-01, -7.70000000e-01,\n",
       "       -7.60000000e-01, -7.50000000e-01, -7.40000000e-01, -7.30000000e-01,\n",
       "       -7.20000000e-01, -7.10000000e-01, -7.00000000e-01, -6.90000000e-01,\n",
       "       -6.80000000e-01, -6.70000000e-01, -6.60000000e-01, -6.50000000e-01,\n",
       "       -6.40000000e-01, -6.30000000e-01, -6.20000000e-01, -6.10000000e-01,\n",
       "       -6.00000000e-01, -5.90000000e-01, -5.80000000e-01, -5.70000000e-01,\n",
       "       -5.60000000e-01, -5.50000000e-01, -5.40000000e-01, -5.30000000e-01,\n",
       "       -5.20000000e-01, -5.10000000e-01, -5.00000000e-01, -4.90000000e-01,\n",
       "       -4.80000000e-01, -4.70000000e-01, -4.60000000e-01, -4.50000000e-01,\n",
       "       -4.40000000e-01, -4.30000000e-01, -4.20000000e-01, -4.10000000e-01,\n",
       "       -4.00000000e-01, -3.90000000e-01, -3.80000000e-01, -3.70000000e-01,\n",
       "       -3.60000000e-01, -3.50000000e-01, -3.40000000e-01, -3.30000000e-01,\n",
       "       -3.20000000e-01, -3.10000000e-01, -3.00000000e-01, -2.90000000e-01,\n",
       "       -2.80000000e-01, -2.70000000e-01, -2.60000000e-01, -2.50000000e-01,\n",
       "       -2.40000000e-01, -2.30000000e-01, -2.20000000e-01, -2.10000000e-01,\n",
       "       -2.00000000e-01, -1.90000000e-01, -1.80000000e-01, -1.70000000e-01,\n",
       "       -1.60000000e-01, -1.50000000e-01, -1.40000000e-01, -1.30000000e-01,\n",
       "       -1.20000000e-01, -1.10000000e-01, -1.00000000e-01, -9.00000000e-02,\n",
       "       -8.00000000e-02, -7.00000000e-02, -6.00000000e-02, -5.00000000e-02,\n",
       "       -4.00000000e-02, -3.00000000e-02, -2.00000000e-02, -1.00000000e-02,\n",
       "       -1.27897692e-13,  1.00000000e-02,  2.00000000e-02])"
      ]
     },
     "execution_count": 393,
     "metadata": {},
     "output_type": "execute_result"
    }
   ],
   "source": [
    "log_metallicities_c"
   ]
  },
  {
   "cell_type": "code",
   "execution_count": 394,
   "id": "3da1457e",
   "metadata": {},
   "outputs": [
    {
     "data": {
      "text/plain": [
       "0.0024787521766663585"
      ]
     },
     "execution_count": 394,
     "metadata": {},
     "output_type": "execute_result"
    }
   ],
   "source": [
    "np.exp(-6)"
   ]
  },
  {
   "cell_type": "code",
   "execution_count": 395,
   "id": "bb1cbb56",
   "metadata": {},
   "outputs": [
    {
     "data": {
      "text/plain": [
       "array([0.00247875, 0.00250366, 0.00252883, 0.00255424, 0.00257991,\n",
       "       0.00260584, 0.00263203, 0.00265848, 0.0026852 , 0.00271219,\n",
       "       0.00273944, 0.00276698, 0.00279479, 0.00282287, 0.00285124,\n",
       "       0.0028799 , 0.00290884, 0.00293808, 0.00296761, 0.00299743,\n",
       "       0.00302755, 0.00305798, 0.00308872, 0.00311976, 0.00315111,\n",
       "       0.00318278, 0.00321477, 0.00324708, 0.00327971, 0.00331267,\n",
       "       0.00334597, 0.00337959, 0.00341356, 0.00344787, 0.00348252,\n",
       "       0.00351752, 0.00355287, 0.00358858, 0.00362464, 0.00366107,\n",
       "       0.00369786, 0.00373503, 0.00377257, 0.00381048, 0.00384878,\n",
       "       0.00388746, 0.00392653, 0.00396599, 0.00400585, 0.00404611,\n",
       "       0.00408677, 0.00412784, 0.00416933, 0.00421123, 0.00425356,\n",
       "       0.0042963 , 0.00433948, 0.0043831 , 0.00442715, 0.00447164,\n",
       "       0.00451658, 0.00456197, 0.00460782, 0.00465413, 0.00470091,\n",
       "       0.00474815, 0.00479587, 0.00484407, 0.00489275, 0.00494193,\n",
       "       0.00499159, 0.00504176, 0.00509243, 0.00514361, 0.0051953 ,\n",
       "       0.00524752, 0.00530026, 0.00535353, 0.00540733, 0.00546167,\n",
       "       0.00551656, 0.00557201, 0.00562801, 0.00568457, 0.0057417 ,\n",
       "       0.0057994 , 0.00585769, 0.00591656, 0.00597602, 0.00603608,\n",
       "       0.00609675, 0.00615802, 0.00621991, 0.00628242, 0.00634556,\n",
       "       0.00640933, 0.00647375, 0.00653881, 0.00660453, 0.0066709 ,\n",
       "       0.00673795, 0.00680566, 0.00687406, 0.00694315, 0.00701293,\n",
       "       0.00708341, 0.0071546 , 0.0072265 , 0.00729913, 0.00737249,\n",
       "       0.00744658, 0.00752142, 0.00759701, 0.00767337, 0.00775048,\n",
       "       0.00782838, 0.00790705, 0.00798652, 0.00806679, 0.00814786,\n",
       "       0.00822975, 0.00831246, 0.008396  , 0.00848038, 0.00856561,\n",
       "       0.0086517 , 0.00873865, 0.00882647, 0.00891518, 0.00900478,\n",
       "       0.00909528, 0.00918669, 0.00927901, 0.00937227, 0.00946646,\n",
       "       0.0095616 , 0.0096577 , 0.00975476, 0.0098528 , 0.00995182,\n",
       "       0.01005184, 0.01015286, 0.0102549 , 0.01035796, 0.01046206,\n",
       "       0.0105672 , 0.01067341, 0.01078068, 0.01088902, 0.01099846,\n",
       "       0.011109  , 0.01122064, 0.01133341, 0.01144732, 0.01156236,\n",
       "       0.01167857, 0.01179594, 0.01191449, 0.01203423, 0.01215518,\n",
       "       0.01227734, 0.01240073, 0.01252536, 0.01265124, 0.01277839,\n",
       "       0.01290681, 0.01303653, 0.01316755, 0.01329988, 0.01343355,\n",
       "       0.01356856, 0.01370493, 0.01384266, 0.01398178, 0.0141223 ,\n",
       "       0.01426423, 0.01440759, 0.01455239, 0.01469864, 0.01484637,\n",
       "       0.01499558, 0.01514628, 0.01529851, 0.01545226, 0.01560756,\n",
       "       0.01576442, 0.01592285, 0.01608288, 0.01624451, 0.01640777,\n",
       "       0.01657268, 0.01673923, 0.01690747, 0.01707739, 0.01724902,\n",
       "       0.01742237, 0.01759747, 0.01777433, 0.01795296, 0.0181334 ,\n",
       "       0.01831564, 0.01849971, 0.01868564, 0.01887343, 0.01906311,\n",
       "       0.0192547 , 0.01944821, 0.01964367, 0.01984109, 0.0200405 ,\n",
       "       0.02024191, 0.02044535, 0.02065083, 0.02085837, 0.021068  ,\n",
       "       0.02127974, 0.0214936 , 0.02170962, 0.0219278 , 0.02214818,\n",
       "       0.02237077, 0.0225956 , 0.02282269, 0.02305206, 0.02328374,\n",
       "       0.02351775, 0.0237541 , 0.02399284, 0.02423397, 0.02447752,\n",
       "       0.02472353, 0.024972  , 0.02522297, 0.02547647, 0.02573251,\n",
       "       0.02599113, 0.02625234, 0.02651618, 0.02678268, 0.02705185,\n",
       "       0.02732372, 0.02759833, 0.0278757 , 0.02815585, 0.02843882,\n",
       "       0.02872464, 0.02901333, 0.02930492, 0.02959944, 0.02989691,\n",
       "       0.03019738, 0.03050087, 0.03080741, 0.03111703, 0.03142976,\n",
       "       0.03174564, 0.03206469, 0.03238694, 0.03271243, 0.0330412 ,\n",
       "       0.03337327, 0.03370868, 0.03404745, 0.03438964, 0.03473526,\n",
       "       0.03508435, 0.03543696, 0.03579311, 0.03615283, 0.03651617,\n",
       "       0.03688317, 0.03725385, 0.03762826, 0.03800643, 0.0383884 ,\n",
       "       0.03877421, 0.0391639 , 0.0395575 , 0.03995506, 0.04035661,\n",
       "       0.0407622 , 0.04117187, 0.04158566, 0.0420036 , 0.04242574,\n",
       "       0.04285213, 0.0432828 , 0.0437178 , 0.04415717, 0.04460096,\n",
       "       0.0450492 , 0.04550195, 0.04595926, 0.04642115, 0.0468877 ,\n",
       "       0.04735892, 0.04783489, 0.04831564, 0.04880122, 0.04929168,\n",
       "       0.04978707, 0.05028744, 0.05079283, 0.05130331, 0.05181892,\n",
       "       0.05233971, 0.05286573, 0.05339704, 0.05393369, 0.05447573,\n",
       "       0.05502322, 0.05557621, 0.05613476, 0.05669893, 0.05726876,\n",
       "       0.05784432, 0.05842567, 0.05901285, 0.05960594, 0.06020499,\n",
       "       0.06081006, 0.06142121, 0.06203851, 0.062662  , 0.06329177,\n",
       "       0.06392786, 0.06457035, 0.06521929, 0.06587475, 0.06653681,\n",
       "       0.06720551, 0.06788094, 0.06856315, 0.06925223, 0.06994822,\n",
       "       0.07065121, 0.07136127, 0.07207846, 0.07280286, 0.07353454,\n",
       "       0.07427358, 0.07502004, 0.075774  , 0.07653555, 0.07730474,\n",
       "       0.07808167, 0.0788664 , 0.07965902, 0.08045961, 0.08126824,\n",
       "       0.082085  , 0.08290997, 0.08374323, 0.08458486, 0.08543495,\n",
       "       0.08629359, 0.08716085, 0.08803683, 0.08892162, 0.08981529,\n",
       "       0.09071795, 0.09162968, 0.09255058, 0.09348073, 0.09442022,\n",
       "       0.09536916, 0.09632764, 0.09729575, 0.09827359, 0.09926125,\n",
       "       0.10025884, 0.10126646, 0.10228421, 0.10331218, 0.10435048,\n",
       "       0.10539922, 0.1064585 , 0.10752843, 0.10860911, 0.10970065,\n",
       "       0.11080316, 0.11191675, 0.11304153, 0.11417762, 0.11532512,\n",
       "       0.11648416, 0.11765484, 0.11883729, 0.12003163, 0.12123797,\n",
       "       0.12245643, 0.12368714, 0.12493021, 0.12618578, 0.12745397,\n",
       "       0.1287349 , 0.13002871, 0.13133552, 0.13265547, 0.13398867,\n",
       "       0.13533528, 0.13669543, 0.13806924, 0.13945686, 0.14085842,\n",
       "       0.14227407, 0.14370395, 0.1451482 , 0.14660696, 0.14808039,\n",
       "       0.14956862, 0.15107181, 0.15259011, 0.15412366, 0.15567263,\n",
       "       0.15723717, 0.15881743, 0.16041357, 0.16202575, 0.16365414,\n",
       "       0.16529889, 0.16696017, 0.16863815, 0.17033299, 0.17204486,\n",
       "       0.17377394, 0.1755204 , 0.17728441, 0.17906615, 0.18086579,\n",
       "       0.18268352, 0.18451952, 0.18637398, 0.18824707, 0.19013898,\n",
       "       0.19204991, 0.19398004, 0.19592957, 0.1978987 , 0.19988761,\n",
       "       0.20189652, 0.20392561, 0.2059751 , 0.20804518, 0.21013607,\n",
       "       0.21224797, 0.2143811 , 0.21653567, 0.21871189, 0.22090998,\n",
       "       0.22313016, 0.22537266, 0.22763769, 0.22992549, 0.23223627,\n",
       "       0.23457029, 0.23692776, 0.23930892, 0.24171402, 0.24414328,\n",
       "       0.24659696, 0.2490753 , 0.25157855, 0.25410696, 0.25666078,\n",
       "       0.25924026, 0.26184567, 0.26447726, 0.2671353 , 0.26982006,\n",
       "       0.27253179, 0.27527078, 0.2780373 , 0.28083162, 0.28365403,\n",
       "       0.2865048 , 0.28938422, 0.29229258, 0.29523017, 0.29819728,\n",
       "       0.30119421, 0.30422126, 0.30727874, 0.31036694, 0.31348618,\n",
       "       0.31663677, 0.31981902, 0.32303326, 0.32627979, 0.32955896,\n",
       "       0.33287108, 0.33621649, 0.33959553, 0.34300852, 0.34645581,\n",
       "       0.34993775, 0.35345468, 0.35700696, 0.36059494, 0.36421898,\n",
       "       0.36787944, 0.37157669, 0.3753111 , 0.37908304, 0.38289289,\n",
       "       0.38674102, 0.39062784, 0.39455371, 0.39851904, 0.40252422,\n",
       "       0.40656966, 0.41065575, 0.41478291, 0.41895155, 0.42316208,\n",
       "       0.42741493, 0.43171052, 0.43604929, 0.44043165, 0.44485807,\n",
       "       0.44932896, 0.4538448 , 0.45840601, 0.46301307, 0.46766643,\n",
       "       0.47236655, 0.47711392, 0.48190899, 0.48675226, 0.4916442 ,\n",
       "       0.4965853 , 0.50157607, 0.50661699, 0.51170858, 0.51685133,\n",
       "       0.52204578, 0.52729242, 0.5325918 , 0.53794444, 0.54335087,\n",
       "       0.54881164, 0.55432728, 0.55989837, 0.56552544, 0.57120906,\n",
       "       0.57694981, 0.58274825, 0.58860497, 0.59452055, 0.60049558,\n",
       "       0.60653066, 0.61262639, 0.61878339, 0.62500227, 0.63128365,\n",
       "       0.63762815, 0.64403642, 0.65050909, 0.65704682, 0.66365025,\n",
       "       0.67032005, 0.67705687, 0.68386141, 0.69073433, 0.69767633,\n",
       "       0.70468809, 0.71177032, 0.71892373, 0.72614904, 0.73344696,\n",
       "       0.74081822, 0.74826357, 0.75578374, 0.76337949, 0.77105159,\n",
       "       0.77880078, 0.78662786, 0.7945336 , 0.8025188 , 0.81058425,\n",
       "       0.81873075, 0.82695913, 0.83527021, 0.84366482, 0.85214379,\n",
       "       0.86070798, 0.86935824, 0.87809543, 0.88692044, 0.89583414,\n",
       "       0.90483742, 0.91393119, 0.92311635, 0.93239382, 0.94176453,\n",
       "       0.95122942, 0.96078944, 0.97044553, 0.98019867, 0.99004983,\n",
       "       1.        , 1.01005017, 1.02020134])"
      ]
     },
     "execution_count": 395,
     "metadata": {},
     "output_type": "execute_result"
    }
   ],
   "source": [
    "metallicities_c"
   ]
  },
  {
   "cell_type": "code",
   "execution_count": 396,
   "id": "ae175e96",
   "metadata": {},
   "outputs": [
    {
     "data": {
      "text/plain": [
       "[<matplotlib.lines.Line2D at 0x32ddc7f10>]"
      ]
     },
     "execution_count": 396,
     "metadata": {},
     "output_type": "execute_result"
    },
    {
     "data": {
      "image/png": "[encoded data removed]",
      "text/plain": [
       "<Figure size 432x288 with 1 Axes>"
      ]
     },
     "metadata": {
      "needs_background": "light"
     },
     "output_type": "display_data"
    }
   ],
   "source": [
    "plt.plot(metallicities_c)\n",
    "plt.plot(metals_new)"
   ]
  },
  {
   "cell_type": "code",
   "execution_count": 397,
   "id": "f20bb6b1",
   "metadata": {},
   "outputs": [
    {
     "name": "stdout",
     "output_type": "stream",
     "text": [
      "-5.908720164658326 -0.07538683132499271\n"
     ]
    }
   ],
   "source": [
    "print(min(log_tofit_Sim_metals), max(log_tofit_Sim_metals))"
   ]
  },
  {
   "cell_type": "code",
   "execution_count": 374,
   "id": "a1dd3352",
   "metadata": {},
   "outputs": [
    {
     "name": "stdout",
     "output_type": "stream",
     "text": [
      "1.233899633811034e-06 0.8406460345289797\n"
     ]
    }
   ],
   "source": [
    "print(min(metals_new), max(metals_new))"
   ]
  },
  {
   "cell_type": "code",
   "execution_count": 375,
   "id": "3cdc5baa",
   "metadata": {},
   "outputs": [
    {
     "name": "stdout",
     "output_type": "stream",
     "text": [
      "0.0024787521766663585 1.020201340026625\n"
     ]
    }
   ],
   "source": [
    "print(min(metallicities_c), max(metallicities_c))"
   ]
  },
  {
   "cell_type": "code",
   "execution_count": 343,
   "id": "3951547e",
   "metadata": {},
   "outputs": [
    {
     "data": {
      "text/plain": [
       "array([ 0.  ,  0.05,  0.1 ,  0.15,  0.2 ,  0.25,  0.3 ,  0.35,  0.4 ,\n",
       "        0.45,  0.5 ,  0.55,  0.6 ,  0.65,  0.7 ,  0.75,  0.8 ,  0.85,\n",
       "        0.9 ,  0.95,  1.  ,  1.05,  1.1 ,  1.15,  1.2 ,  1.25,  1.3 ,\n",
       "        1.35,  1.4 ,  1.45,  1.5 ,  1.55,  1.6 ,  1.65,  1.7 ,  1.75,\n",
       "        1.8 ,  1.85,  1.9 ,  1.95,  2.  ,  2.05,  2.1 ,  2.15,  2.2 ,\n",
       "        2.25,  2.3 ,  2.35,  2.4 ,  2.45,  2.5 ,  2.55,  2.6 ,  2.65,\n",
       "        2.7 ,  2.75,  2.8 ,  2.85,  2.9 ,  2.95,  3.  ,  3.05,  3.1 ,\n",
       "        3.15,  3.2 ,  3.25,  3.3 ,  3.35,  3.4 ,  3.45,  3.5 ,  3.55,\n",
       "        3.6 ,  3.65,  3.7 ,  3.75,  3.8 ,  3.85,  3.9 ,  3.95,  4.  ,\n",
       "        4.05,  4.1 ,  4.15,  4.2 ,  4.25,  4.3 ,  4.35,  4.4 ,  4.45,\n",
       "        4.5 ,  4.55,  4.6 ,  4.65,  4.7 ,  4.75,  4.8 ,  4.85,  4.9 ,\n",
       "        4.95,  5.  ,  5.05,  5.1 ,  5.15,  5.2 ,  5.25,  5.3 ,  5.35,\n",
       "        5.4 ,  5.45,  5.5 ,  5.55,  5.6 ,  5.65,  5.7 ,  5.75,  5.8 ,\n",
       "        5.85,  5.9 ,  5.95,  6.  ,  6.05,  6.1 ,  6.15,  6.2 ,  6.25,\n",
       "        6.3 ,  6.35,  6.4 ,  6.45,  6.5 ,  6.55,  6.6 ,  6.65,  6.7 ,\n",
       "        6.75,  6.8 ,  6.85,  6.9 ,  6.95,  7.  ,  7.05,  7.1 ,  7.15,\n",
       "        7.2 ,  7.25,  7.3 ,  7.35,  7.4 ,  7.45,  7.5 ,  7.55,  7.6 ,\n",
       "        7.65,  7.7 ,  7.75,  7.8 ,  7.85,  7.9 ,  7.95,  8.  ,  8.05,\n",
       "        8.1 ,  8.15,  8.2 ,  8.25,  8.3 ,  8.35,  8.4 ,  8.45,  8.5 ,\n",
       "        8.55,  8.6 ,  8.65,  8.7 ,  8.75,  8.8 ,  8.85,  8.9 ,  8.95,\n",
       "        9.  ,  9.05,  9.1 ,  9.15,  9.2 ,  9.25,  9.3 ,  9.35,  9.4 ,\n",
       "        9.45,  9.5 ,  9.55,  9.6 ,  9.65,  9.7 ,  9.75,  9.8 ,  9.85,\n",
       "        9.9 ,  9.95, 10.  , 10.05, 10.1 , 10.15, 10.2 , 10.25, 10.3 ,\n",
       "       10.35, 10.4 , 10.45, 10.5 , 10.55, 10.6 , 10.65, 10.7 , 10.75,\n",
       "       10.8 , 10.85, 10.9 , 10.95, 11.  , 11.05, 11.1 , 11.15, 11.2 ,\n",
       "       11.25, 11.3 , 11.35, 11.4 , 11.45, 11.5 , 11.55, 11.6 , 11.65,\n",
       "       11.7 , 11.75, 11.8 , 11.85, 11.9 , 11.95, 12.  , 12.05, 12.1 ,\n",
       "       12.15, 12.2 , 12.25, 12.3 , 12.35, 12.4 , 12.45, 12.5 , 12.55,\n",
       "       12.6 , 12.65, 12.7 , 12.75, 12.8 , 12.85, 12.9 , 12.95, 13.  ,\n",
       "       13.05, 13.1 , 13.15, 13.2 , 13.25, 13.3 , 13.35, 13.4 , 13.45,\n",
       "       13.5 , 13.55, 13.6 , 13.65, 13.7 , 13.75, 13.8 , 13.85, 13.9 ,\n",
       "       13.95, 14.  ])"
      ]
     },
     "execution_count": 343,
     "metadata": {},
     "output_type": "execute_result"
    }
   ],
   "source": [
    "redshift_COMPAS"
   ]
  },
  {
   "cell_type": "code",
   "execution_count": 344,
   "id": "866b6ec3",
   "metadata": {},
   "outputs": [],
   "source": [
    "# Read out data\n",
    "np.savetxt(SFRD_Z_z_fname, SFRD_COMPAS)\n",
    "np.savetxt(metals_fname, metals_new)"
   ]
  },
  {
   "cell_type": "code",
   "execution_count": 345,
   "id": "a66b6f90",
   "metadata": {},
   "outputs": [],
   "source": [
    "# Check whether can read in data correctly\n",
    "SFRD_Z_z_test = np.loadtxt(SFRD_Z_z_fname)\n",
    "metallicities_test = np.loadtxt(metals_fname)"
   ]
  },
  {
   "cell_type": "code",
   "execution_count": 346,
   "id": "f85028a8",
   "metadata": {},
   "outputs": [
    {
     "data": {
      "text/plain": [
       "(array([], dtype=int64), array([], dtype=int64))"
      ]
     },
     "execution_count": 346,
     "metadata": {},
     "output_type": "execute_result"
    }
   ],
   "source": [
    "np.where((SFRD_Z_z_test == SFRD_COMPAS) == False)"
   ]
  },
  {
   "cell_type": "code",
   "execution_count": 347,
   "id": "cb7a9e07",
   "metadata": {},
   "outputs": [
    {
     "data": {
      "text/plain": [
       "(500, 281)"
      ]
     },
     "execution_count": 347,
     "metadata": {},
     "output_type": "execute_result"
    }
   ],
   "source": [
    "SFRD_Z_z_test.shape"
   ]
  },
  {
   "cell_type": "code",
   "execution_count": 348,
   "id": "fbc8baa5",
   "metadata": {},
   "outputs": [
    {
     "data": {
      "image/png": "[encoded data removed]",
      "text/plain": [
       "<Figure size 1008x720 with 2 Axes>"
      ]
     },
     "metadata": {
      "needs_background": "light"
     },
     "output_type": "display_data"
    }
   ],
   "source": [
    "fig, ax = plt.subplots(figsize = (14,10))\n",
    "\n",
    "levels = np.linspace(np.amin(SFRD_Z_z_test), np.amax(SFRD_Z_z_test), 20)\n",
    "#levels = np.linspace(0, 0.055, 20)\n",
    "\n",
    "data = ax.contourf(redshift_COMPAS, metallicities_test/Zsun, SFRD_Z_z_test, levels=levels, cmap=cmap)\n",
    "\n",
    "ax.set_yscale('log')\n",
    "ax.set_xlabel('Lookback time', fontsize=20)\n",
    "ax.set_ylabel(r'$\\mathrm{Metallicity}, \\ Z/Z_{\\rm{\\odot}}$', fontsize=20)\n",
    "ax.set_ylim(10**-1, 10**1)\n",
    "ax.set_xlim(0, 10)\n",
    "\n",
    "\"\"\"\n",
    "ax2 = ax.twiny()\n",
    "redshift_tick_list = [0,0.1, 0.25, 0.5, 0.75, 1.0,1.5, 2, 3, 6, 10,14]\n",
    "ax2.set_xticks([cosmo.lookback_time(z).value for z in redshift_tick_list])\n",
    "ax2.set_xticklabels(['${:g}$'.format(z) for z in redshift_tick_list])\n",
    "ax2.set_xlabel('Redshift', fontsize = 20)\n",
    "ax.set_xlim(min(Lookbacktimes_COMPAS), max(Lookbacktimes_COMPAS))\n",
    "ax2.set_xlim(min(Lookbacktimes_COMPAS), max(Lookbacktimes_COMPAS))\n",
    "\"\"\"\n",
    "\n",
    "cbar = fig.colorbar(data)\n",
    "if ver>1:\n",
    "    cbar.set_label('SFRD(Z, z), TNG%s-%s data'%(tng, ver), rotation=270, fontsize=20, labelpad=30);\n",
    "else:\n",
    "    cbar.set_label('SFRD(Z, z), TNG%s data'%tng, rotation=270, fontsize=20, labelpad=30);"
   ]
  },
  {
   "cell_type": "code",
   "execution_count": 349,
   "id": "b52e33ed",
   "metadata": {},
   "outputs": [
    {
     "data": {
      "image/png": "[encoded data removed]",
      "text/plain": [
       "<Figure size 1008x720 with 2 Axes>"
      ]
     },
     "metadata": {
      "needs_background": "light"
     },
     "output_type": "display_data"
    }
   ],
   "source": [
    "fig, ax = plt.subplots(figsize = (14,10))\n",
    "\n",
    "levels = np.linspace(np.amin(SFRDnew), np.amax(SFRDnew), 20)\n",
    "#levels = np.linspace(0, 0.055, 20)\n",
    "\n",
    "data = ax.contourf(redshift_new, metals_new/Zsun, SFRDnew, levels=levels, cmap=cmap)\n",
    "\n",
    "ax.set_yscale('log')\n",
    "ax.set_xlabel('Lookback time', fontsize=20)\n",
    "ax.set_ylabel(r'$\\mathrm{Metallicity}, \\ Z/Z_{\\rm{\\odot}}$', fontsize=20)\n",
    "ax.set_ylim(10**-1, 10**1)\n",
    "\n",
    "\"\"\"\n",
    "ax2 = ax.twiny()\n",
    "redshift_tick_list = [0,0.1, 0.25, 0.5, 0.75, 1.0,1.5, 2, 3, 6, 10,14]\n",
    "ax2.set_xticks([cosmo.lookback_time(z).value for z in redshift_tick_list])\n",
    "ax2.set_xticklabels(['${:g}$'.format(z) for z in redshift_tick_list])\n",
    "ax2.set_xlabel('Redshift', fontsize = 20)\n",
    "ax.set_xlim(min(Lookbacktimes_COMPAS), max(Lookbacktimes_COMPAS))\n",
    "ax2.set_xlim(min(Lookbacktimes_COMPAS), max(Lookbacktimes_COMPAS))\n",
    "\"\"\"\n",
    "\n",
    "cbar = fig.colorbar(data)\n",
    "if ver>1:\n",
    "    cbar.set_label('SFRD(Z, z), TNG%s-%s data'%(tng, ver), rotation=270, fontsize=20, labelpad=30);\n",
    "else:\n",
    "    cbar.set_label('SFRD(Z, z), TNG%s data'%tng, rotation=270, fontsize=20, labelpad=30);"
   ]
  },
  {
   "cell_type": "code",
   "execution_count": 354,
   "id": "6186807a",
   "metadata": {},
   "outputs": [],
   "source": [
    "# Get the SFR (Shape of Madau & Fragos 2014)\n",
    "sfr = Z_SFRD.Madau_Dickinson2014(redshift_new, a=sf_a, b=sf_b, c=sf_c, d=sf_d).value # Msun year-1 Mpc-3 \n",
    "# Get dPdZ (skew-log-normal distribution)\n",
    "dPdlogZ, metallicities, step_logZ, p_draw_metallicity = \\\n",
    "                    Z_SFRD.skew_metallicity_distribution(redshift_new ,mu_z = muz , mu_0 = mu0 ,\n",
    "                                                  omega_0= omega0 , omega_z=omegaz , alpha = alpha , \n",
    "                                                  metals=metals_new)\n",
    "    \n",
    "\n",
    "model = sfr[:,np.newaxis] * dPdlogZ"
   ]
  },
  {
   "cell_type": "code",
   "execution_count": 355,
   "id": "ee74455e",
   "metadata": {},
   "outputs": [
    {
     "data": {
      "text/plain": [
       "array([[1.09555011e-23, 1.41174371e-23, 1.81800265e-23, ...,\n",
       "        6.81023131e-10, 5.14881040e-10, 3.88341985e-10],\n",
       "       [2.50726844e-23, 3.21833138e-23, 4.12838391e-23, ...,\n",
       "        9.10968044e-10, 6.91531737e-10, 5.23720635e-10],\n",
       "       [5.65147150e-23, 7.22642763e-23, 9.23441635e-23, ...,\n",
       "        1.21014621e-09, 9.22324884e-10, 7.01333429e-10],\n",
       "       ...,\n",
       "       [2.82806615e-04, 2.85363934e-04, 2.87934894e-04, ...,\n",
       "        2.00514074e-05, 1.95261583e-05, 1.90126878e-05],\n",
       "       [2.87632585e-04, 2.90176234e-04, 2.92732824e-04, ...,\n",
       "        1.96305229e-05, 1.91199752e-05, 1.86207958e-05],\n",
       "       [2.92426952e-04, 2.94955393e-04, 2.97496075e-04, ...,\n",
       "        1.92161513e-05, 1.87199269e-05, 1.82346747e-05]])"
      ]
     },
     "execution_count": 355,
     "metadata": {},
     "output_type": "execute_result"
    }
   ],
   "source": [
    "model"
   ]
  },
  {
   "cell_type": "code",
   "execution_count": 356,
   "id": "8e37cd5b",
   "metadata": {},
   "outputs": [],
   "source": [
    "nformed = sfr/0.13123123123\n",
    "model2 = nformed[:,np.newaxis] * dPdlogZ"
   ]
  },
  {
   "cell_type": "code",
   "execution_count": 357,
   "id": "bbfc62db",
   "metadata": {},
   "outputs": [
    {
     "data": {
      "text/plain": [
       "array([[8.34824227e-23, 1.07576809e-22, 1.38534298e-22, ...,\n",
       "        5.18948976e-09, 3.92346422e-09, 2.95921925e-09],\n",
       "       [1.91057298e-22, 2.45241270e-22, 3.14588522e-22, ...,\n",
       "        6.94170157e-09, 5.26956678e-09, 3.99082315e-09],\n",
       "       [4.30649888e-22, 5.50663707e-22, 7.03675204e-22, ...,\n",
       "        9.22148026e-09, 7.02824225e-09, 5.34425702e-09],\n",
       "       ...,\n",
       "       [2.15502524e-03, 2.17451236e-03, 2.19410342e-03, ...,\n",
       "        1.52794478e-04, 1.48792007e-04, 1.44879291e-04],\n",
       "       [2.19179979e-03, 2.21118274e-03, 2.23066431e-03, ...,\n",
       "        1.49587280e-04, 1.45696836e-04, 1.41893020e-04],\n",
       "       [2.22833352e-03, 2.24760060e-03, 2.26696094e-03, ...,\n",
       "        1.46429712e-04, 1.42648413e-04, 1.38950725e-04]])"
      ]
     },
     "execution_count": 357,
     "metadata": {},
     "output_type": "execute_result"
    }
   ],
   "source": [
    "model/0.13123123123"
   ]
  },
  {
   "cell_type": "code",
   "execution_count": 358,
   "id": "93d8b0aa",
   "metadata": {},
   "outputs": [
    {
     "data": {
      "text/plain": [
       "array([[8.34824227e-23, 1.07576809e-22, 1.38534298e-22, ...,\n",
       "        5.18948976e-09, 3.92346422e-09, 2.95921925e-09],\n",
       "       [1.91057298e-22, 2.45241270e-22, 3.14588522e-22, ...,\n",
       "        6.94170157e-09, 5.26956678e-09, 3.99082315e-09],\n",
       "       [4.30649888e-22, 5.50663707e-22, 7.03675204e-22, ...,\n",
       "        9.22148026e-09, 7.02824225e-09, 5.34425702e-09],\n",
       "       ...,\n",
       "       [2.15502524e-03, 2.17451236e-03, 2.19410342e-03, ...,\n",
       "        1.52794478e-04, 1.48792007e-04, 1.44879291e-04],\n",
       "       [2.19179979e-03, 2.21118274e-03, 2.23066431e-03, ...,\n",
       "        1.49587280e-04, 1.45696836e-04, 1.41893020e-04],\n",
       "       [2.22833352e-03, 2.24760060e-03, 2.26696094e-03, ...,\n",
       "        1.46429712e-04, 1.42648413e-04, 1.38950725e-04]])"
      ]
     },
     "execution_count": 358,
     "metadata": {},
     "output_type": "execute_result"
    }
   ],
   "source": [
    "model2"
   ]
  },
  {
   "cell_type": "code",
   "execution_count": null,
   "id": "ee1b58f7",
   "metadata": {},
   "outputs": [],
   "source": []
  }
 ],
 "metadata": {
  "kernelspec": {
   "display_name": "Python 3 (ipykernel)",
   "language": "python",
   "name": "python3"
  },
  "language_info": {
   "codemirror_mode": {
    "name": "ipython",
    "version": 3
   },
   "file_extension": ".py",
   "mimetype": "text/x-python",
   "name": "python",
   "nbconvert_exporter": "python",
   "pygments_lexer": "ipython3",
   "version": "3.10.0"
  }
 },
 "nbformat": 4,
 "nbformat_minor": 5
}

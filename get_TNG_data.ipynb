{
 "cells": [
  {
   "cell_type": "code",
   "execution_count": 1,
   "id": "cbece39d",
   "metadata": {
    "scrolled": true
   },
   "outputs": [],
   "source": [
    "import sys\n",
    "import h5py as h5\n",
    "import numpy as np\n",
    "import matplotlib.pyplot as plt\n",
    "import astropy.units as u\n",
    "import os\n",
    "from astropy.cosmology import Planck15 as cosmo #Planck 2015\n",
    "from astropy.cosmology import z_at_value\n",
    "\n",
    "import get_ZdepSFRD as Z_SFRD\n",
    "import importlib\n",
    "import paths\n",
    "import requests\n",
    "import illustris_python as il\n",
    "import illustris_python.groupcat as gc\n",
    "import illustris_python.snapshot as sn"
   ]
  },
  {
   "cell_type": "code",
   "execution_count": 2,
   "id": "186c8ae4",
   "metadata": {
    "scrolled": true
   },
   "outputs": [],
   "source": [
    "TNG  = 100\n",
    "lvl = 1\n",
    "TNGpath = \"/home/sashalvna/research/TNGdata/TNG%s\" % (TNG)\n",
    "baseUrl = 'http://www.tng-project.org/api/'\n",
    "headers = {\"api-key\":\"e36226423a0cc5e62f2e553f39b44238\"}"
   ]
  },
  {
   "cell_type": "code",
   "execution_count": 3,
   "id": "8ca6a124",
   "metadata": {
    "scrolled": true
   },
   "outputs": [],
   "source": [
    "def get(path, params=None):\n",
    "    # make HTTP GET request to path\n",
    "    r = requests.get(path, params=params, headers=headers)\n",
    "\n",
    "    # raise exception if response code is not HTTP SUCCESS (200)\n",
    "    r.raise_for_status()\n",
    "\n",
    "    if r.headers['content-type'] == 'application/json':\n",
    "        return r.json() # parse json responses automatically\n",
    "    return r"
   ]
  },
  {
   "cell_type": "code",
   "execution_count": 4,
   "id": "8e3a6c97",
   "metadata": {
    "scrolled": true
   },
   "outputs": [],
   "source": [
    "#get basic snapshots information (redshift, url) for each of the 100 snapshots\n",
    "\n",
    "r = get(baseUrl) #path to all Illustris TNG simulations\n",
    "names = [sim['name'] for sim in r['simulations']] #names of all available simulations\n",
    "i = names.index('TNG%s-%s' % (TNG, lvl)) #index of specific simulation\n",
    "sim = get( r['simulations'][i]['url'] ) #get path to that simulation\n",
    "snaps = get( sim['snapshots'] ) #get path to snapshots for that simulation\n",
    "nfiles = sim['num_files_snapshot'] #number files per snapshot"
   ]
  },
  {
   "cell_type": "code",
   "execution_count": 5,
   "id": "543c92c8",
   "metadata": {
    "scrolled": true
   },
   "outputs": [
    {
     "data": {
      "text/plain": [
       "0"
      ]
     },
     "execution_count": 5,
     "metadata": {},
     "output_type": "execute_result"
    }
   ],
   "source": [
    "os.system(\"wget -nd -nc -nv -e robots=off -l 1 -r -A hdf5 --content-disposition --header='API-Key: e36226423a0cc5e62f2e553f39b44238' 'http://www.tng-project.org/api/TNG100-1/files/snapshot-099.447.hdf5?gas=GFM_Metallicity,StarFormationRate'\")"
   ]
  },
  {
   "cell_type": "code",
   "execution_count": 6,
   "id": "05cd1352",
   "metadata": {
    "scrolled": true
   },
   "outputs": [],
   "source": [
    "def get_TNGsnapcols(TNGpath, TNG, lvl, snap, nfiles, cols='gas=GFM_Metallicity,StarFormationRate'):\n",
    "    #downloads a single snapshot subfile; requires path to local TNG data files, which TNG and which level (e.g TNG100-\"1\"), \n",
    "    #which snapshot, which subfile in snapshot, and which data columns from snapshot\n",
    "    \n",
    "    #check if snapshot subfile already exists; if not, download\n",
    "    if not os.path.exists(TNGpath + \"/%03d\" %(snap)):\n",
    "        os.chdir(TNGpath)\n",
    "        os.mkdir(\"%03d\" %(snap))\n",
    "        \n",
    "    os.chdir(TNGpath + \"/%03d\" %(snap)) #go to correct directory before downloading\n",
    "    for ifile in range(nfiles):\n",
    "        fname = TNGpath + \"/%03d/snap_%03d.%s.hdf5\" %(snap, snap, ifile)    \n",
    "        if not os.path.isfile(fname):\n",
    "            os.system(\"wget -nd -nc -nv -e robots=off -l 1 -r -A hdf5 --content-disposition --header='API-Key: e36226423a0cc5e62f2e553f39b44238' 'http://www.tng-project.org/api/TNG%s-%s/files/snapshot-%03d.%s.hdf5?%s'\" %(TNG, lvl, snap, ifile, cols)) "
   ]
  },
  {
   "cell_type": "code",
   "execution_count": 7,
   "id": "d11c7d5b",
   "metadata": {
    "scrolled": true
   },
   "outputs": [],
   "source": [
    "def delete_snapshotsubfile(TNGpath, snap, ifile):\n",
    "    #deletes a single snapshot; requires requires path to local TNG data files, \n",
    "    #which snapshot, which file in snapshot, and which data columns from snapshot\n",
    "    \n",
    "    #check if snapshot subfile exists; if yes, delete\n",
    "    fname = TNGpath + \"/%03d/snap_%03d.%s.hdf5\" %(snap, snap, ifile)\n",
    "    if os.path.exists(fname):\n",
    "        os.remove(fname)"
   ]
  },
  {
   "cell_type": "code",
   "execution_count": 11,
   "id": "3d06c825",
   "metadata": {
    "scrolled": true
   },
   "outputs": [],
   "source": [
    "def get_z_and_lookbacktime(snaps):\n",
    "    #get the redshifts for each snapshot\n",
    "    redshifts = np.array([])\n",
    "    for ind, val in enumerate(snaps):\n",
    "        redshifts = np.append(redshifts, snaps[ind]['redshift'])\n",
    "    \n",
    "    #calculate lookback time for each snapshot\n",
    "    lookbacktimes = np.array(cosmo.lookback_time(redshifts))\n",
    "    \n",
    "    return redshifts, lookbacktimes"
   ]
  },
  {
   "cell_type": "code",
   "execution_count": 12,
   "id": "a3996536",
   "metadata": {
    "scrolled": true
   },
   "outputs": [],
   "source": [
    "#function to get binned SFR for each snapshot\n",
    "def getSFRMetallicityFromGas(TNGpath, TNG, lvl, snap, nfiles, nBinsSFR=60):\n",
    "    mbins = np.logspace(-10, 0., nBinsSFR+1)\n",
    "    sfrs  = np.zeros((nBinsSFR))\n",
    "    \n",
    "    fname =  TNGpath + \"/%03d/snap_%03d.%s.hdf5\"%(snap, snap, \"%d\") \n",
    "    get_TNGsnapcols(TNGpath, TNG, lvl, snap, nfiles)\n",
    "    \n",
    "    for ifile in range(nfiles):\n",
    "        \n",
    "        with h5.File(fname % ifile, \"r\") as f:\n",
    "      \n",
    "            pStars = f[\"PartType0\"]\n",
    "      \n",
    "            SFR = pStars[\"StarFormationRate\"][:]\n",
    "            Metals = pStars[\"GFM_Metallicity\"][:]\n",
    "      \n",
    "            data, e = np.histogram(Metals, bins=mbins, weights=SFR)\n",
    "            sfrs += data\n",
    "            \n",
    "            delete_snapshotsubfile(TNGpath, snap, ifile) #delete subfile after getting data from it \n",
    "            \n",
    "    return sfrs"
   ]
  },
  {
   "cell_type": "code",
   "execution_count": 13,
   "id": "4fd89e7a",
   "metadata": {
    "scrolled": true
   },
   "outputs": [],
   "source": [
    "#function to make the data file; iterates through all snapshots\n",
    "\n",
    "def getFullSFRMetallicityFromGas(TNGpath, TNG, lvl, snaps, nfiles, nbins=60):\n",
    "    outfname = TNGpath + \"/SFRMetallicityFromGasTNG%d-%d.hdf5\" % (TNG,lvl)\n",
    "    sfrs = np.zeros((len(snaps),nbins))\n",
    "    redshifts, lookbacktimes = get_z_and_lookbacktime(snaps)\n",
    "  \n",
    "    Count = 0\n",
    "    for snap in range(2): #range(len(snaps)):\n",
    "        if sfrs[snap].sum() == 0:\n",
    "            print( \"Doing snap %d.\" % snap )\n",
    "            s = getSFRMetallicityFromGas(TNGpath, TNG, lvl, snap, nfiles, nBinsSFR=nbins)\n",
    "            sfrs[snap,:] = s\n",
    "            Count += 1\n",
    "\n",
    "    if Count > 0:\n",
    "        mbins = np.logspace( -10, 0., nbins+1 )\n",
    "        with h5.File(outfname, \"a\") as f:\n",
    "            f.create_dataset('MetalBins', data=mbins)\n",
    "            f.create_dataset('Redshifts', data=redshifts)\n",
    "            f.create_dataset('Lookbacktimes', data=lookbacktimes)\n",
    "            f.create_dataset('Sfr', data=sfrs)"
   ]
  },
  {
   "cell_type": "code",
   "execution_count": 10,
   "id": "b6867883",
   "metadata": {
    "scrolled": false
   },
   "outputs": [],
   "source": [
    "nfiles_temp = 6\n",
    "getFullSFRMetallicityFromGas(TNGpath, TNG, lvl, snaps, nfiles_temp, nbins=60)"
   ]
  },
  {
   "cell_type": "code",
   "execution_count": 16,
   "id": "a15234f2",
   "metadata": {
    "scrolled": true
   },
   "outputs": [],
   "source": [
    "TNGfilename = \"SFRMetallicityFromGasTNG100-1.hdf5\"\n",
    "with h5.File(TNGpath + \"/\" + TNGfilename, \"r\") as f:\n",
    "    MetalBins         = f[\"MetalBins\"][:]\n",
    "    Obs_Lookbacktimes = f[\"Lookbacktimes\"][:]\n",
    "    BoxSfr            = f[\"Sfr\"][:]\n",
    "    Redshifts         = f[\"Redshifts\"][:]"
   ]
  },
  {
   "cell_type": "code",
   "execution_count": 17,
   "id": "7d40f99b",
   "metadata": {
    "scrolled": true
   },
   "outputs": [],
   "source": [
    "sumsfr = np.sum(BoxSfr, axis=1)"
   ]
  },
  {
   "cell_type": "code",
   "execution_count": 18,
   "id": "ba7d0849",
   "metadata": {
    "scrolled": true
   },
   "outputs": [
    {
     "data": {
      "text/plain": [
       "2"
      ]
     },
     "execution_count": 18,
     "metadata": {},
     "output_type": "execute_result"
    }
   ],
   "source": [
    "len(sumsfr[sumsfr != 0])"
   ]
  },
  {
   "cell_type": "code",
   "execution_count": 19,
   "id": "b4c6981a",
   "metadata": {
    "scrolled": true
   },
   "outputs": [
    {
     "data": {
      "text/plain": [
       "array([0., 0., 0., 0., 0., 0., 0., 0., 0., 0., 0., 0., 0., 0., 0., 0., 0.,\n",
       "       0., 0., 0., 0., 0., 0., 0., 0., 0., 0., 0., 0., 0., 0., 0., 0., 0.,\n",
       "       0., 0., 0., 0., 0., 0., 0., 0., 0., 0., 0., 0., 0., 0., 0., 0., 0.,\n",
       "       0., 0., 0., 0., 0., 0., 0., 0., 0.])"
      ]
     },
     "execution_count": 19,
     "metadata": {},
     "output_type": "execute_result"
    }
   ],
   "source": [
    "BoxSfr[4]"
   ]
  },
  {
   "cell_type": "code",
   "execution_count": 20,
   "id": "9b3ff9d6",
   "metadata": {
    "scrolled": true
   },
   "outputs": [],
   "source": [
    "data_dir    =  str(paths.data)\n",
    "TNGfilename = '/SFRMetallicityFromGasTNG100-1.hdf5'\n",
    "with h5.File(data_dir+TNGfilename, \"r\") as f:\n",
    "    MetalBins         = f[\"MetalBins\"][:]\n",
    "    Obs_Lookbacktimes = f[\"Lookbacktimes\"][:]\n",
    "    BoxSfr            = f[\"Sfr\"][:]\n",
    "    Redshifts         = f[\"Redshifts\"][:]"
   ]
  },
  {
   "cell_type": "code",
   "execution_count": 21,
   "id": "7b0d4f8e",
   "metadata": {
    "scrolled": true
   },
   "outputs": [
    {
     "data": {
      "text/plain": [
       "array([0.00000000e+00, 0.00000000e+00, 0.00000000e+00, 0.00000000e+00,\n",
       "       4.75083245e-04, 3.65766156e+00, 1.04157008e-02, 5.71727753e-04,\n",
       "       6.40153885e-04, 0.00000000e+00, 5.22613525e-04, 4.58240509e-04,\n",
       "       0.00000000e+00, 5.95665770e-04, 1.04798097e-03, 3.41892242e-04,\n",
       "       3.94334784e-04, 1.79171562e-03, 0.00000000e+00, 0.00000000e+00,\n",
       "       4.54902649e-04, 1.68185338e-03, 3.15117836e-03, 1.67511031e-03,\n",
       "       1.68609619e-03, 1.07360142e-03, 2.74735253e-03, 1.85179710e-03,\n",
       "       0.00000000e+00, 1.97128486e-03, 2.81886768e-03, 1.78170204e-03,\n",
       "       1.47175789e-03, 5.59481466e-03, 6.16976223e-03, 1.28049477e-02,\n",
       "       7.56591576e-03, 2.91800499e-03, 8.31058109e-03, 2.18614138e-02,\n",
       "       1.94825907e-02, 8.63945950e-03, 8.10373109e-04, 0.00000000e+00,\n",
       "       0.00000000e+00, 0.00000000e+00, 0.00000000e+00, 0.00000000e+00,\n",
       "       0.00000000e+00, 0.00000000e+00, 0.00000000e+00, 0.00000000e+00,\n",
       "       0.00000000e+00, 0.00000000e+00, 0.00000000e+00, 0.00000000e+00,\n",
       "       0.00000000e+00, 0.00000000e+00, 0.00000000e+00, 0.00000000e+00])"
      ]
     },
     "execution_count": 21,
     "metadata": {},
     "output_type": "execute_result"
    }
   ],
   "source": [
    "BoxSfr[0]"
   ]
  },
  {
   "cell_type": "code",
   "execution_count": 22,
   "id": "e0d83e87",
   "metadata": {
    "scrolled": true
   },
   "outputs": [],
   "source": [
    "TNGfilename = '/SFRMetallicityFromGasTNG100.hdf5'\n",
    "with h5.File(data_dir+TNGfilename, \"r\") as f:\n",
    "    MetalBins2         = f[\"MetalBins\"][:]\n",
    "    Obs_Lookbacktimes2 = f[\"Lookbacktimes\"][:]\n",
    "    BoxSfr2            = f[\"Sfr\"][:]\n",
    "    Redshifts2         = f[\"Redshifts\"][:]"
   ]
  },
  {
   "cell_type": "code",
   "execution_count": 23,
   "id": "dbcfd18a",
   "metadata": {
    "scrolled": true
   },
   "outputs": [
    {
     "data": {
      "text/plain": [
       "array([ 0.00000000e+00,  0.00000000e+00,  0.00000000e+00,  0.00000000e+00,\n",
       "        0.00000000e+00,  1.52606517e-05, -1.52587891e-05,  0.00000000e+00,\n",
       "        0.00000000e+00, -9.31322575e-10,  1.52587891e-05,  0.00000000e+00,\n",
       "       -3.05175781e-05, -1.52587891e-05,  4.57763672e-05,  0.00000000e+00,\n",
       "       -1.52587891e-05, -9.31322575e-10,  1.52597204e-05, -4.57754359e-05,\n",
       "        4.57763672e-05,  0.00000000e+00, -3.05175781e-05,  1.52606517e-05,\n",
       "       -1.52587891e-05,  1.52587891e-05,  0.00000000e+00, -1.52587891e-05,\n",
       "        3.05175781e-05,  0.00000000e+00, -3.05175781e-05,  0.00000000e+00,\n",
       "        1.52587891e-05,  0.00000000e+00, -1.52587891e-05,  4.57763672e-05,\n",
       "       -3.05175781e-05,  1.52569264e-05,  0.00000000e+00, -3.05175781e-05,\n",
       "        1.52587891e-05, -1.52587891e-05,  3.05175781e-05, -1.52587891e-05,\n",
       "        1.52587891e-05,  0.00000000e+00,  0.00000000e+00,  0.00000000e+00,\n",
       "        0.00000000e+00,  0.00000000e+00,  0.00000000e+00,  0.00000000e+00,\n",
       "        0.00000000e+00,  0.00000000e+00,  0.00000000e+00,  0.00000000e+00,\n",
       "        0.00000000e+00,  0.00000000e+00,  0.00000000e+00,  0.00000000e+00])"
      ]
     },
     "execution_count": 23,
     "metadata": {},
     "output_type": "execute_result"
    }
   ],
   "source": [
    "BoxSfr[1]-BoxSfr2[1]"
   ]
  },
  {
   "cell_type": "code",
   "execution_count": 25,
   "id": "171a523f",
   "metadata": {},
   "outputs": [],
   "source": [
    "f1 = h5.File(data_dir+'/testfile.hdf5', 'r+') # open the file\n",
    "data = f1['Sfr']       # load the data"
   ]
  },
  {
   "cell_type": "code",
   "execution_count": 33,
   "id": "39af09f1",
   "metadata": {},
   "outputs": [],
   "source": [
    "data[3] = BoxSfr2[3]                      # assign new values to data"
   ]
  },
  {
   "cell_type": "code",
   "execution_count": 35,
   "id": "7cfbe8b0",
   "metadata": {},
   "outputs": [
    {
     "data": {
      "text/plain": [
       "array([0., 0., 0., 0., 0., 0., 0., 0., 0., 0., 0., 0., 0., 0., 0., 0., 0.,\n",
       "       0., 0., 0., 0., 0., 0., 0., 0., 0., 0., 0., 0., 0., 0., 0., 0., 0.,\n",
       "       0., 0., 0., 0., 0., 0., 0., 0., 0., 0., 0., 0., 0., 0., 0., 0., 0.,\n",
       "       0., 0., 0., 0., 0., 0., 0., 0., 0.])"
      ]
     },
     "execution_count": 35,
     "metadata": {},
     "output_type": "execute_result"
    }
   ],
   "source": [
    "data[4]"
   ]
  },
  {
   "cell_type": "code",
   "execution_count": 36,
   "id": "610eef63",
   "metadata": {},
   "outputs": [],
   "source": [
    "f1.close()                             # close the file"
   ]
  },
  {
   "cell_type": "code",
   "execution_count": 58,
   "id": "450ed776",
   "metadata": {},
   "outputs": [],
   "source": [
    "f1 = h5.File(data_dir+'/testfile.hdf5', 'r+') # open the file\n",
    "data = f1['Sfr']       # load the data"
   ]
  },
  {
   "cell_type": "code",
   "execution_count": 59,
   "id": "04750c91",
   "metadata": {},
   "outputs": [
    {
     "data": {
      "text/plain": [
       "array([0.00000000e+00, 0.00000000e+00, 0.00000000e+00, 0.00000000e+00,\n",
       "       1.25569183e-02, 1.22955529e+03, 1.66818397e+02, 1.53284260e+01,\n",
       "       1.13097049e+01, 1.03234348e+01, 9.77201051e+00, 9.61273024e+00,\n",
       "       9.49164883e+00, 9.92285927e+00, 1.02778060e+01, 1.07071474e+01,\n",
       "       1.09266056e+01, 1.13967013e+01, 1.19514956e+01, 1.26565886e+01,\n",
       "       1.31943894e+01, 1.38536936e+01, 1.46033194e+01, 1.53562769e+01,\n",
       "       1.59991190e+01, 1.63683443e+01, 1.69056107e+01, 1.70176302e+01,\n",
       "       1.70166471e+01, 1.67308770e+01, 1.63544514e+01, 1.63445470e+01,\n",
       "       1.74806237e+01, 1.97745645e+01, 2.30537213e+01, 2.66671600e+01,\n",
       "       3.21289043e+01, 4.23461230e+01, 6.25266229e+01, 9.45095807e+01,\n",
       "       1.36583153e+02, 1.70330341e+02, 1.73198145e+02, 1.40700580e+02,\n",
       "       8.39639589e+01, 2.69995552e+01, 4.34869385e+00, 5.62988281e-01,\n",
       "       4.68750000e-02, 2.44140625e-04, 0.00000000e+00, 0.00000000e+00,\n",
       "       0.00000000e+00, 0.00000000e+00, 0.00000000e+00, 0.00000000e+00,\n",
       "       0.00000000e+00, 0.00000000e+00, 0.00000000e+00, 0.00000000e+00])"
      ]
     },
     "execution_count": 59,
     "metadata": {},
     "output_type": "execute_result"
    }
   ],
   "source": [
    "data[3]"
   ]
  },
  {
   "cell_type": "code",
   "execution_count": 61,
   "id": "9e44b08d",
   "metadata": {},
   "outputs": [
    {
     "data": {
      "text/plain": [
       "array([[0.00000000e+00, 0.00000000e+00, 0.00000000e+00, 0.00000000e+00,\n",
       "        3.41320294e-03, 8.25346733e+02, 9.62495352e+01, 8.42699432e+00,\n",
       "        6.24661177e+00, 5.63190995e+00, 5.22386167e+00, 5.21247358e+00,\n",
       "        5.20240125e+00, 5.42136094e+00, 5.59039243e+00, 5.76143463e+00,\n",
       "        5.94602399e+00, 6.34184584e+00, 6.37631335e+00, 6.87313527e+00,\n",
       "        7.19019542e+00, 7.57035526e+00, 7.98460677e+00, 8.10980093e+00,\n",
       "        8.50757586e+00, 8.69715312e+00, 9.20174132e+00, 9.04296158e+00,\n",
       "        9.15850989e+00, 8.95789936e+00, 8.94647050e+00, 9.36962621e+00,\n",
       "        1.01796050e+01, 1.24147153e+01, 1.51599211e+01, 1.67480736e+01,\n",
       "        1.82274938e+01, 2.36075123e+01, 3.29552970e+01, 5.04705927e+01,\n",
       "        7.28360985e+01, 8.88997891e+01, 8.65241195e+01, 6.60843469e+01,\n",
       "        3.48332417e+01, 8.67355491e+00, 6.85058594e-01, 4.24804688e-02,\n",
       "        0.00000000e+00, 0.00000000e+00, 0.00000000e+00, 0.00000000e+00,\n",
       "        0.00000000e+00, 0.00000000e+00, 0.00000000e+00, 0.00000000e+00,\n",
       "        0.00000000e+00, 0.00000000e+00, 0.00000000e+00, 0.00000000e+00],\n",
       "       [0.00000000e+00, 0.00000000e+00, 0.00000000e+00, 0.00000000e+00,\n",
       "        1.25569183e-02, 1.22955529e+03, 1.66818397e+02, 1.53284260e+01,\n",
       "        1.13097049e+01, 1.03234348e+01, 9.77201051e+00, 9.61273024e+00,\n",
       "        9.49164883e+00, 9.92285927e+00, 1.02778060e+01, 1.07071474e+01,\n",
       "        1.09266056e+01, 1.13967013e+01, 1.19514956e+01, 1.26565886e+01,\n",
       "        1.31943894e+01, 1.38536936e+01, 1.46033194e+01, 1.53562769e+01,\n",
       "        1.59991190e+01, 1.63683443e+01, 1.69056107e+01, 1.70176302e+01,\n",
       "        1.70166471e+01, 1.67308770e+01, 1.63544514e+01, 1.63445470e+01,\n",
       "        1.74806237e+01, 1.97745645e+01, 2.30537213e+01, 2.66671600e+01,\n",
       "        3.21289043e+01, 4.23461230e+01, 6.25266229e+01, 9.45095807e+01,\n",
       "        1.36583153e+02, 1.70330341e+02, 1.73198145e+02, 1.40700580e+02,\n",
       "        8.39639589e+01, 2.69995552e+01, 4.34869385e+00, 5.62988281e-01,\n",
       "        4.68750000e-02, 2.44140625e-04, 0.00000000e+00, 0.00000000e+00,\n",
       "        0.00000000e+00, 0.00000000e+00, 0.00000000e+00, 0.00000000e+00,\n",
       "        0.00000000e+00, 0.00000000e+00, 0.00000000e+00, 0.00000000e+00],\n",
       "       [0.00000000e+00, 0.00000000e+00, 0.00000000e+00, 0.00000000e+00,\n",
       "        7.00307044e-03, 1.63451984e+03, 2.45076145e+02, 2.47420458e+01,\n",
       "        1.86207902e+01, 1.69395137e+01, 1.62459909e+01, 1.60541961e+01,\n",
       "        1.60566557e+01, 1.66593288e+01, 1.69667961e+01, 1.74028606e+01,\n",
       "        1.83873456e+01, 1.92854875e+01, 2.02440242e+01, 2.14114429e+01,\n",
       "        2.24929842e+01, 2.38140658e+01, 2.51543030e+01, 2.62101612e+01,\n",
       "        2.72090262e+01, 2.82442127e+01, 2.86425929e+01, 2.90733383e+01,\n",
       "        2.88492285e+01, 2.82936365e+01, 2.78475017e+01, 2.85675279e+01,\n",
       "        3.17076772e+01, 3.69287071e+01, 3.98735901e+01, 4.23062228e+01,\n",
       "        4.88704720e+01, 6.74888255e+01, 1.03127687e+02, 1.59643232e+02,\n",
       "        2.33485466e+02, 2.95801316e+02, 3.07167384e+02, 2.68980879e+02,\n",
       "        1.81567064e+02, 7.59641028e+01, 2.35333252e+01, 5.77844238e+00,\n",
       "        3.53515625e-01, 0.00000000e+00, 0.00000000e+00, 0.00000000e+00,\n",
       "        0.00000000e+00, 0.00000000e+00, 0.00000000e+00, 0.00000000e+00,\n",
       "        0.00000000e+00, 0.00000000e+00, 0.00000000e+00, 0.00000000e+00],\n",
       "       [0.00000000e+00, 0.00000000e+00, 0.00000000e+00, 0.00000000e+00,\n",
       "        5.99912630e-04, 1.87295449e+03, 2.97508745e+02, 3.16988644e+01,\n",
       "        2.44150345e+01, 2.20456165e+01, 2.07475859e+01, 2.03153432e+01,\n",
       "        2.07332238e+01, 2.10830346e+01, 2.16328388e+01, 2.25752240e+01,\n",
       "        2.36270343e+01, 2.49556566e+01, 2.60263493e+01, 2.74628970e+01,\n",
       "        2.89017674e+01, 3.10447270e+01, 3.23560286e+01, 3.41949226e+01,\n",
       "        3.58763733e+01, 3.70483069e+01, 3.82240185e+01, 3.84443830e+01,\n",
       "        3.85753423e+01, 3.72559233e+01, 3.63362358e+01, 3.53493442e+01,\n",
       "        3.68523892e+01, 4.12167291e+01, 4.81929172e+01, 5.61823055e+01,\n",
       "        6.85214157e+01, 9.38154976e+01, 1.40931260e+02, 2.14766494e+02,\n",
       "        3.15071078e+02, 4.03202309e+02, 4.29481001e+02, 3.90675507e+02,\n",
       "        2.83943692e+02, 1.45401805e+02, 5.91844300e+01, 2.49665527e+01,\n",
       "        3.75756836e+00, 1.29394531e-02, 0.00000000e+00, 0.00000000e+00,\n",
       "        0.00000000e+00, 0.00000000e+00, 0.00000000e+00, 0.00000000e+00,\n",
       "        0.00000000e+00, 0.00000000e+00, 0.00000000e+00, 0.00000000e+00],\n",
       "       [0.00000000e+00, 0.00000000e+00, 0.00000000e+00, 0.00000000e+00,\n",
       "        5.69672920e-04, 1.99498476e+03, 3.25656808e+02, 3.59819891e+01,\n",
       "        2.79101466e+01, 2.51247286e+01, 2.39633877e+01, 2.40031496e+01,\n",
       "        2.40442009e+01, 2.46484608e+01, 2.54558366e+01, 2.63832928e+01,\n",
       "        2.77928927e+01, 2.91235036e+01, 3.05413520e+01, 3.22489595e+01,\n",
       "        3.41928785e+01, 3.60497516e+01, 3.79104777e+01, 3.98798327e+01,\n",
       "        4.14089808e+01, 4.28246401e+01, 4.41456843e+01, 4.47966765e+01,\n",
       "        4.50630939e+01, 4.45449843e+01, 4.35480187e+01, 4.32661556e+01,\n",
       "        4.44744172e+01, 4.81295951e+01, 5.50154301e+01, 6.51794865e+01,\n",
       "        8.13207154e+01, 1.12349094e+02, 1.68511984e+02, 2.57237583e+02,\n",
       "        3.75362774e+02, 4.83296800e+02, 5.24458980e+02, 4.96882485e+02,\n",
       "        3.83076239e+02, 2.17493750e+02, 1.03999581e+02, 5.37495117e+01,\n",
       "        1.43878174e+01, 5.10205078e+00, 3.20312500e-01, 0.00000000e+00,\n",
       "        0.00000000e+00, 0.00000000e+00, 0.00000000e+00, 0.00000000e+00,\n",
       "        0.00000000e+00, 0.00000000e+00, 0.00000000e+00, 0.00000000e+00],\n",
       "       [0.00000000e+00, 0.00000000e+00, 0.00000000e+00, 0.00000000e+00,\n",
       "        8.73721903e-04, 2.11489975e+03, 3.35966520e+02, 4.11727423e+01,\n",
       "        3.21585550e+01, 2.91156650e+01, 2.75212541e+01, 2.74195380e+01,\n",
       "        2.78976990e+01, 2.85438919e+01, 2.95107104e+01, 3.06817245e+01,\n",
       "        3.22443322e+01, 3.37144194e+01, 3.54733631e+01, 3.76226786e+01,\n",
       "        3.98501109e+01, 4.22272922e+01, 4.40542509e+01, 4.64876027e+01,\n",
       "        4.92782094e+01, 5.08312888e+01, 5.26170295e+01, 5.35552048e+01,\n",
       "        5.43909711e+01, 5.40824454e+01, 5.38728036e+01, 5.42083492e+01,\n",
       "        5.71209486e+01, 6.46501575e+01, 7.29744104e+01, 8.11670016e+01,\n",
       "        9.83031023e+01, 1.36150939e+02, 2.05370804e+02, 3.12558358e+02,\n",
       "        4.58291114e+02, 5.96739688e+02, 6.68662983e+02, 6.60228083e+02,\n",
       "        5.56259769e+02, 3.61160704e+02, 1.94144623e+02, 1.52212524e+02,\n",
       "        1.06719971e+02, 2.24052734e+01, 7.67089844e-01, 0.00000000e+00,\n",
       "        0.00000000e+00, 0.00000000e+00, 0.00000000e+00, 0.00000000e+00,\n",
       "        0.00000000e+00, 0.00000000e+00, 0.00000000e+00, 0.00000000e+00],\n",
       "       [0.00000000e+00, 0.00000000e+00, 0.00000000e+00, 0.00000000e+00,\n",
       "        2.60703877e-04, 2.16310953e+03, 3.30730212e+02, 4.43873171e+01,\n",
       "        3.46142399e+01, 3.13341876e+01, 3.01383814e+01, 2.97377349e+01,\n",
       "        3.01195680e+01, 3.07760380e+01, 3.18218959e+01, 3.31704385e+01,\n",
       "        3.44396686e+01, 3.64722717e+01, 3.85301909e+01, 4.09792205e+01,\n",
       "        4.33827161e+01, 4.56502563e+01, 4.88145681e+01, 5.13005360e+01,\n",
       "        5.38231977e+01, 5.63206183e+01, 5.84644752e+01, 5.98006448e+01,\n",
       "        6.09120137e+01, 6.18019931e+01, 6.21791906e+01, 6.24219982e+01,\n",
       "        6.47620085e+01, 7.13995808e+01, 8.31986957e+01, 9.85036424e+01,\n",
       "        1.21755330e+02, 1.65904257e+02, 2.44647997e+02, 3.69781864e+02,\n",
       "        5.37228772e+02, 7.03498886e+02, 7.95718386e+02, 8.14270986e+02,\n",
       "        7.33509918e+02, 5.34245820e+02, 3.38220642e+02, 2.31986145e+02,\n",
       "        1.71173218e+02, 1.28994385e+02, 5.38300781e+01, 4.99023438e-01,\n",
       "        0.00000000e+00, 0.00000000e+00, 0.00000000e+00, 0.00000000e+00,\n",
       "        0.00000000e+00, 0.00000000e+00, 0.00000000e+00, 0.00000000e+00],\n",
       "       [0.00000000e+00, 0.00000000e+00, 0.00000000e+00, 0.00000000e+00,\n",
       "        6.97170617e-04, 2.14916022e+03, 3.15659437e+02, 4.51810736e+01,\n",
       "        3.59327452e+01, 3.23985207e+01, 3.10876101e+01, 3.13052486e+01,\n",
       "        3.14826030e+01, 3.23621798e+01, 3.31728323e+01, 3.47723035e+01,\n",
       "        3.64919882e+01, 3.85383688e+01, 4.05354895e+01, 4.27493886e+01,\n",
       "        4.52969704e+01, 4.80064153e+01, 5.11314372e+01, 5.38991271e+01,\n",
       "        5.69815569e+01, 5.97741181e+01, 6.25249295e+01, 6.45530164e+01,\n",
       "        6.65906010e+01, 6.90608268e+01, 7.04064685e+01, 7.39814869e+01,\n",
       "        7.82089338e+01, 8.53238480e+01, 9.76927804e+01, 1.16597985e+02,\n",
       "        1.45533207e+02, 1.99211736e+02, 2.90642388e+02, 4.31563013e+02,\n",
       "        6.24439826e+02, 8.18953981e+02, 9.46170298e+02, 1.00091064e+03,\n",
       "        9.46165787e+02, 7.52099967e+02, 5.17990234e+02, 3.82047852e+02,\n",
       "        3.01920654e+02, 3.69093750e+02, 1.46550049e+02, 1.58974609e+01,\n",
       "        3.17382812e-01, 0.00000000e+00, 0.00000000e+00, 0.00000000e+00,\n",
       "        0.00000000e+00, 0.00000000e+00, 0.00000000e+00, 0.00000000e+00]])"
      ]
     },
     "execution_count": 61,
     "metadata": {},
     "output_type": "execute_result"
    }
   ],
   "source": [
    "n=2\n",
    "m=10\n",
    "data[n:m]"
   ]
  },
  {
   "cell_type": "code",
   "execution_count": 50,
   "id": "5e08ccdb",
   "metadata": {},
   "outputs": [],
   "source": [
    "data[2] = BoxSfr2[2]"
   ]
  },
  {
   "cell_type": "code",
   "execution_count": 57,
   "id": "9d731433",
   "metadata": {},
   "outputs": [],
   "source": [
    "f1.close()"
   ]
  },
  {
   "cell_type": "markdown",
   "id": "f39a97a5",
   "metadata": {},
   "source": [
    "## "
   ]
  },
  {
   "cell_type": "code",
   "execution_count": 28,
   "id": "227000f7",
   "metadata": {
    "scrolled": true
   },
   "outputs": [],
   "source": [
    "#computes the lookback time at a given expansion factor (in Gyr h^-1) [this must be the driver]\n",
    "def LookbackTime_a(a, is_flat):\n",
    "    convert_in_Gyr = 3.085678e10 / 3.1536e7\n",
    "    h = sim['hubble']\n",
    "    HubbleConst =  67.8  #in km/sec/Mpc (at redshift 0)\n",
    "    OmegaMatter =  sim['omega_0']\n",
    "    OmegaLambda =  sim['omega_L']\n",
    "\n",
    "    if type(a) == np.ndarray:\n",
    "        if a.any() < 0.0:\n",
    "            raise TypeError('The expansion factor provided is negative. This is not allowed')\n",
    "        else:\n",
    "            if a < 0.0:\n",
    "                raise TypeError('The expansion factor provided is negative. This is not allowed')\n",
    "\n",
    "        var1 = np.sqrt(OmegaLambda / OmegaMatter)\n",
    "        fac1 = var1 + np.sqrt(1. + var1 * var1)\n",
    "        var2 = np.sqrt(OmegaLambda / OmegaMatter * a**3.0)\n",
    "        fac2 = var2 + np.sqrt(1. + var2 * var2)\n",
    "        t_look = 2./(3. * np.sqrt(OmegaLambda) * HubbleConst) * np.log(fac1 / fac2)\n",
    "        return t_look * convert_in_Gyr"
   ]
  },
  {
   "cell_type": "code",
   "execution_count": 31,
   "id": "863b184e",
   "metadata": {
    "scrolled": true
   },
   "outputs": [],
   "source": [
    "def cosmology_init( self ):\n",
    "    self.cosmo = CosmologicalFactors( my_h = self.hubbleparam, my_OmegaMatter = self.omega0, my_OmegaLambda = self.omegalambda )\n",
    "    self.cosmo.SetLookbackTimeTable()\n",
    "    return\n",
    "def cosmology_get_lookback_time_from_a(a, is_flat=False, quicklist=False ):\n",
    "    return (LookbackTime_a(a, is_flat) / h)"
   ]
  },
  {
   "cell_type": "code",
   "execution_count": 128,
   "id": "43717333",
   "metadata": {
    "scrolled": true
   },
   "outputs": [],
   "source": [
    "cosmology_get_lookback_time_from_a(time, is_flat=True )"
   ]
  },
  {
   "cell_type": "code",
   "execution_count": null,
   "id": "04c90805",
   "metadata": {
    "scrolled": true
   },
   "outputs": [],
   "source": [
    "fname = \"%s/output/snapdir_%03d/snap_%03d.%s.hdf5\" % (run, snap, snap, \"%d\")\n",
    "    for ifile in range( s.num_files ):\n",
    "      with h5py.File(fname % ifile, \"r\") as f:\n",
    "\n",
    "        pStars = f[\"PartType4\"]\n",
    "\n",
    "        Ages   = pStars[\"GFM_StellarFormationTime\"][:]\n",
    "        Masses = pStars[\"GFM_InitialMass\"][:]\n",
    "        Metals = pStars[\"GFM_Metallicity\"][:]"
   ]
  },
  {
   "cell_type": "code",
   "execution_count": 13,
   "id": "1bf3a3e4",
   "metadata": {
    "scrolled": true
   },
   "outputs": [],
   "source": [
    "data_dir = '/home/sashalvna/research/TNGdata/TNG100'\n",
    "os.chdir(data_dir)"
   ]
  },
  {
   "cell_type": "code",
   "execution_count": 138,
   "id": "9577681e",
   "metadata": {
    "scrolled": true
   },
   "outputs": [],
   "source": [
    "SFRs = []\n",
    "metallicity_bins = np.logspace(-10, 0, 61) #metallicity bins\n",
    "\n",
    "for ind in range(7): #ind, val in enumerate(snaps):\n",
    "    \n",
    "    f_Z = \"fof_subhalo_tab_%03d.Subhalo.SubhaloGasMetallicitySfrWeighted.hdf5\"%ind\n",
    "    f_SFR = \"fof_subhalo_tab_%03d.Subhalo.SubhaloSFR.hdf5\"%ind\n",
    "    \n",
    "    #first download the data, if doesn't already exist\n",
    "    if not os.path.isfile(f_Z):\n",
    "        os.system(\"wget -nd -nc -nv -e robots=off -l 1 -r -A hdf5 --content-disposition --header='API-Key: e36226423a0cc5e62f2e553f39b44238' 'http://www.tng-project.org/api/%s/files/groupcat-%03d/?Subhalo=SubhaloGasMetallicitySfrWeighted'\"%(names[i],ind))\n",
    "    if not os.path.isfile(f_SFR):\n",
    "        os.system(\"wget -nd -nc -nv -e robots=off -l 1 -r -A hdf5 --content-disposition --header='API-Key: e36226423a0cc5e62f2e553f39b44238' 'http://www.tng-project.org/api/%s/files/groupcat-%03d/?Subhalo=SubhaloSFR'\"%(names[i],ind))\n",
    "\n",
    "    #read in data from files\n",
    "    data_Z = h5.File(f_Z, 'r')\n",
    "    data_Sfr = h5.File(f_SFR, 'r')\n",
    "    metallicities = data_Z['Subhalo']['SubhaloGasMetallicitySfrWeighted'][:]\n",
    "    sfr = data_Sfr['Subhalo']['SubhaloSFR'][:]\n",
    "    \n",
    "    #bin metallicities and SFRs\n",
    "    bin_ind = np.digitize(metallicities, bins=metallicity_bins)\n",
    "    \n",
    "    binned_sfr = np.zeros(len(metallicity_bins)-1)\n",
    "    for j in np.unique(bin_ind):\n",
    "        indices = np.where(bin_ind == j)[0]\n",
    "        binned_sfr[j] = np.sum(sfr[indices])\n",
    "    SFRs.append(binned_sfr)\n",
    "    \n",
    "SFRs = np.array(SFRs)"
   ]
  }
 ],
 "metadata": {
  "kernelspec": {
   "display_name": "Python 3 (ipykernel)",
   "language": "python",
   "name": "python3"
  },
  "language_info": {
   "codemirror_mode": {
    "name": "ipython",
    "version": 3
   },
   "file_extension": ".py",
   "mimetype": "text/x-python",
   "name": "python",
   "nbconvert_exporter": "python",
   "pygments_lexer": "ipython3",
   "version": "3.10.5"
  }
 },
 "nbformat": 4,
 "nbformat_minor": 5
}

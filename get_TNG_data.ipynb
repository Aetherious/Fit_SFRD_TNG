{
 "cells": [
  {
   "cell_type": "code",
   "execution_count": 1,
   "id": "cbece39d",
   "metadata": {},
   "outputs": [],
   "source": [
    "import sys\n",
    "import h5py as h5\n",
    "import numpy as np\n",
    "import matplotlib.pyplot as plt\n",
    "import astropy.units as u\n",
    "import os\n",
    "from astropy.cosmology import Planck15 as cosmo #Planck 2015\n",
    "from astropy.cosmology import z_at_value\n",
    "\n",
    "import get_ZdepSFRD as Z_SFRD\n",
    "import importlib\n",
    "import paths\n",
    "import requests\n",
    "import illustris_python as il\n",
    "import illustris_python.groupcat as gc\n",
    "import illustris_python.snapshot as sn"
   ]
  },
  {
   "cell_type": "code",
   "execution_count": 2,
   "id": "186c8ae4",
   "metadata": {},
   "outputs": [],
   "source": [
    "TNG  = 100\n",
    "lvl = 1\n",
    "TNGpath = \"/home/sashalvna/research/TNGdata/TNG%s\" % (TNG)\n",
    "baseUrl = 'http://www.tng-project.org/api/'\n",
    "headers = {\"api-key\":\"e36226423a0cc5e62f2e553f39b44238\"}"
   ]
  },
  {
   "cell_type": "code",
   "execution_count": 3,
   "id": "8ca6a124",
   "metadata": {},
   "outputs": [],
   "source": [
    "def get(path, params=None):\n",
    "    # make HTTP GET request to path\n",
    "    r = requests.get(path, params=params, headers=headers)\n",
    "\n",
    "    # raise exception if response code is not HTTP SUCCESS (200)\n",
    "    r.raise_for_status()\n",
    "\n",
    "    if r.headers['content-type'] == 'application/json':\n",
    "        return r.json() # parse json responses automatically\n",
    "    return r"
   ]
  },
  {
   "cell_type": "code",
   "execution_count": 4,
   "id": "8e3a6c97",
   "metadata": {},
   "outputs": [],
   "source": [
    "#get basic snapshots information (redshift, url) for each of the 100 snapshots\n",
    "\n",
    "r = get(baseUrl) #path to all Illustris TNG simulations\n",
    "names = [sim['name'] for sim in r['simulations']] #names of all available simulations\n",
    "i = names.index('TNG%s-%s' % (TNG, lvl)) #index of specific simulation\n",
    "sim = get( r['simulations'][i]['url'] ) #get path to that simulation\n",
    "snaps = get( sim['snapshots'] ) #get path to snapshots for that simulation\n",
    "nfiles = sim['num_files_snapshot'] #number files per snapshot"
   ]
  },
  {
   "cell_type": "code",
   "execution_count": 5,
   "id": "543c92c8",
   "metadata": {},
   "outputs": [
    {
     "data": {
      "text/plain": [
       "0"
      ]
     },
     "execution_count": 5,
     "metadata": {},
     "output_type": "execute_result"
    }
   ],
   "source": [
    "os.system(\"wget -nd -nc -nv -e robots=off -l 1 -r -A hdf5 --content-disposition --header='API-Key: e36226423a0cc5e62f2e553f39b44238' 'http://www.tng-project.org/api/TNG100-1/files/snapshot-099.447.hdf5?gas=GFM_Metallicity,StarFormationRate'\")"
   ]
  },
  {
   "cell_type": "code",
   "execution_count": 6,
   "id": "05cd1352",
   "metadata": {},
   "outputs": [],
   "source": [
    "def get_TNGsnapcols(TNGpath, TNG, lvl, snap, nfiles, cols='gas=GFM_Metallicity,StarFormationRate'):\n",
    "    #downloads a single snapshot subfile; requires path to local TNG data files, which TNG and which level (e.g TNG100-\"1\"), \n",
    "    #which snapshot, which subfile in snapshot, and which data columns from snapshot\n",
    "    \n",
    "    #check if snapshot subfile already exists; if not, download\n",
    "    if not os.path.exists(TNGpath + \"/%03d\" %(snap)):\n",
    "        os.chdir(TNGpath)\n",
    "        os.mkdir(\"%03d\" %(snap))\n",
    "        \n",
    "    os.chdir(TNGpath + \"/%03d\" %(snap)) #go to correct directory before downloading\n",
    "    for ifile in range(nfiles):\n",
    "        fname = TNGpath + \"/%03d/snap_%03d.%s.hdf5\" %(snap, snap, ifile)    \n",
    "        if not os.path.isfile(fname):\n",
    "            os.system(\"wget -nd -nc -nv -e robots=off -l 1 -r -A hdf5 --content-disposition --header='API-Key: e36226423a0cc5e62f2e553f39b44238' 'http://www.tng-project.org/api/TNG%s-%s/files/snapshot-%03d.%s.hdf5?%s'\" %(TNG, lvl, snap, ifile, cols)) "
   ]
  },
  {
   "cell_type": "code",
   "execution_count": 7,
   "id": "d11c7d5b",
   "metadata": {},
   "outputs": [],
   "source": [
    "def delete_snapshotsubfile(TNGpath, snap, ifile):\n",
    "    #deletes a single snapshot; requires requires path to local TNG data files, \n",
    "    #which snapshot, which file in snapshot, and which data columns from snapshot\n",
    "    \n",
    "    #check if snapshot subfile exists; if yes, delete\n",
    "    fname = TNGpath + \"/%03d/snap_%03d.%s.hdf5\" %(snap, snap, ifile)\n",
    "    if os.path.exists(fname):\n",
    "        os.remove(fname)"
   ]
  },
  {
   "cell_type": "code",
   "execution_count": 8,
   "id": "3d06c825",
   "metadata": {},
   "outputs": [],
   "source": [
    "def get_z_and_lookbacktime(snaps):\n",
    "    #get the redshifts for each snapshot\n",
    "    redshifts = np.array([])\n",
    "    for ind, val in enumerate(snaps):\n",
    "        redshifts = np.append(redshifts, snaps[ind]['redshift'])\n",
    "    \n",
    "    #calculate lookback time for each snapshot\n",
    "    lookbacktimes = np.array(cosmo.lookback_time(redshifts))\n",
    "    \n",
    "    return redshifts, lookbacktimes"
   ]
  },
  {
   "cell_type": "code",
   "execution_count": 9,
   "id": "a3996536",
   "metadata": {},
   "outputs": [],
   "source": [
    "#function to get binned SFR for each snapshot\n",
    "def getSFRMetallicityFromGas(TNGpath, TNG, lvl, snap, nfiles, nBinsSFR=60):\n",
    "    mbins = np.logspace(-10, 0., nBinsSFR+1)\n",
    "    sfrs  = np.zeros((nBinsSFR))\n",
    "    \n",
    "    fname =  TNGpath + \"/%03d/snap_%03d.%s.hdf5\"%(snap, snap, \"%d\") \n",
    "    get_TNGsnapcols(TNGpath, TNG, lvl, snap, nfiles)\n",
    "    \n",
    "    for ifile in range(nfiles):\n",
    "        \n",
    "        with h5.File(fname % ifile, \"r\") as f:\n",
    "      \n",
    "            pStars = f[\"PartType0\"]\n",
    "      \n",
    "            SFR = pStars[\"StarFormationRate\"][:]\n",
    "            Metals = pStars[\"GFM_Metallicity\"][:]\n",
    "      \n",
    "            data, e = np.histogram(Metals, bins=mbins, weights=SFR)\n",
    "            sfrs += data\n",
    "            \n",
    "            delete_snapshotsubfile(TNGpath, snap, ifile) #delete subfile after getting data from it \n",
    "            \n",
    "    return sfrs"
   ]
  },
  {
   "cell_type": "code",
   "execution_count": 10,
   "id": "4fd89e7a",
   "metadata": {},
   "outputs": [],
   "source": [
    "#function to make the data file; iterates through all snapshots\n",
    "\n",
    "def getFullSFRMetallicityFromGas(TNGpath, TNG, lvl, snaps, nfiles, nbins=60):\n",
    "    outfname = TNGpath + \"/SFRMetallicityFromGasTNG%d-%d.hdf5\" % (TNG,lvl)\n",
    "    sfrs = np.zeros((len(snaps),nbins))\n",
    "    redshifts, lookbacktimes = get_z_and_lookbacktime(snaps)\n",
    "  \n",
    "    Count = 0\n",
    "    for snap in range(2): #range(len(snaps)):\n",
    "        if sfrs[snap].sum() == 0:\n",
    "            print( \"Doing snap %d.\" % snap )\n",
    "            s = getSFRMetallicityFromGas(TNGpath, TNG, lvl, snap, nfiles, nBinsSFR=nbins)\n",
    "            sfrs[snap,:] = s\n",
    "            Count += 1\n",
    "\n",
    "    if Count > 0:\n",
    "        mbins = np.logspace( -10, 0., nbins+1 )\n",
    "        with h5.File(outfname, \"w\") as f:\n",
    "            f.create_dataset('MetalBins', data=mbins )\n",
    "            f.create_dataset('Redshifts', data=redshifts )\n",
    "            f.create_dataset('Lookbacktimes', data=lookbacktimes )\n",
    "            f.create_dataset('Sfr', data=sfrs )"
   ]
  },
  {
   "cell_type": "code",
   "execution_count": 273,
   "id": "b6867883",
   "metadata": {},
   "outputs": [
    {
     "name": "stdout",
     "output_type": "stream",
     "text": [
      "Doing snap 0.\n",
      "Doing snap 1.\n"
     ]
    }
   ],
   "source": [
    "nfiles_temp = 6\n",
    "getFullSFRMetallicityFromGas(TNGpath, TNG, lvl, snaps, nfiles_temp, nbins=60)"
   ]
  },
  {
   "cell_type": "code",
   "execution_count": 263,
   "id": "a093b677",
   "metadata": {},
   "outputs": [
    {
     "name": "stdout",
     "output_type": "stream",
     "text": [
      "snap_001.0.hdf5  snap_001.2.hdf5  snap_001.4.hdf5\r\n",
      "snap_001.1.hdf5  snap_001.3.hdf5  snap_001.5.hdf5\r\n"
     ]
    }
   ],
   "source": [
    "! ls"
   ]
  },
  {
   "cell_type": "code",
   "execution_count": 274,
   "id": "a15234f2",
   "metadata": {},
   "outputs": [],
   "source": [
    "TNGfilename = \"SFRMetallicityFromGasTNG100-1.hdf5\"\n",
    "with h5.File(TNGpath + \"/\" + TNGfilename, \"r\") as f:\n",
    "    MetalBins         = f[\"MetalBins\"][:]\n",
    "    Obs_Lookbacktimes = f[\"Lookbacktimes\"][:]\n",
    "    BoxSfr            = f[\"Sfr\"][:]\n",
    "    Redshifts         = f[\"Redshifts\"][:]"
   ]
  },
  {
   "cell_type": "code",
   "execution_count": 278,
   "id": "b4c6981a",
   "metadata": {},
   "outputs": [
    {
     "data": {
      "text/plain": [
       "array([0.00000000e+00, 0.00000000e+00, 0.00000000e+00, 0.00000000e+00,\n",
       "       4.75083245e-04, 2.42689174e+00, 9.89770889e-03, 5.71727753e-04,\n",
       "       6.40153885e-04, 0.00000000e+00, 5.22613525e-04, 4.58240509e-04,\n",
       "       0.00000000e+00, 0.00000000e+00, 7.01427460e-04, 3.41892242e-04,\n",
       "       0.00000000e+00, 1.79171562e-03, 0.00000000e+00, 0.00000000e+00,\n",
       "       4.54902649e-04, 0.00000000e+00, 3.15117836e-03, 1.09386444e-03,\n",
       "       1.68609619e-03, 0.00000000e+00, 1.86252594e-03, 1.85179710e-03,\n",
       "       0.00000000e+00, 6.30855560e-04, 1.59692764e-03, 1.78170204e-03,\n",
       "       1.47175789e-03, 1.64079666e-03, 3.09371948e-03, 9.77635384e-03,\n",
       "       6.64019585e-03, 2.91800499e-03, 7.83753395e-03, 2.00743675e-02,\n",
       "       1.59587860e-02, 7.93433189e-03, 4.09126282e-04, 0.00000000e+00,\n",
       "       0.00000000e+00, 0.00000000e+00, 0.00000000e+00, 0.00000000e+00,\n",
       "       0.00000000e+00, 0.00000000e+00, 0.00000000e+00, 0.00000000e+00,\n",
       "       0.00000000e+00, 0.00000000e+00, 0.00000000e+00, 0.00000000e+00,\n",
       "       0.00000000e+00, 0.00000000e+00, 0.00000000e+00, 0.00000000e+00])"
      ]
     },
     "execution_count": 278,
     "metadata": {},
     "output_type": "execute_result"
    }
   ],
   "source": [
    "BoxSfr[0]"
   ]
  },
  {
   "cell_type": "markdown",
   "id": "f39a97a5",
   "metadata": {},
   "source": [
    "## "
   ]
  },
  {
   "cell_type": "code",
   "execution_count": 28,
   "id": "227000f7",
   "metadata": {},
   "outputs": [],
   "source": [
    "#computes the lookback time at a given expansion factor (in Gyr h^-1) [this must be the driver]\n",
    "def LookbackTime_a(a, is_flat):\n",
    "    convert_in_Gyr = 3.085678e10 / 3.1536e7\n",
    "    h = sim['hubble']\n",
    "    HubbleConst =  67.8  #in km/sec/Mpc (at redshift 0)\n",
    "    OmegaMatter =  sim['omega_0']\n",
    "    OmegaLambda =  sim['omega_L']\n",
    "\n",
    "    if type(a) == np.ndarray:\n",
    "        if a.any() < 0.0:\n",
    "            raise TypeError('The expansion factor provided is negative. This is not allowed')\n",
    "        else:\n",
    "            if a < 0.0:\n",
    "                raise TypeError('The expansion factor provided is negative. This is not allowed')\n",
    "\n",
    "        var1 = np.sqrt(OmegaLambda / OmegaMatter)\n",
    "        fac1 = var1 + np.sqrt(1. + var1 * var1)\n",
    "        var2 = np.sqrt(OmegaLambda / OmegaMatter * a**3.0)\n",
    "        fac2 = var2 + np.sqrt(1. + var2 * var2)\n",
    "        t_look = 2./(3. * np.sqrt(OmegaLambda) * HubbleConst) * np.log(fac1 / fac2)\n",
    "        return t_look * convert_in_Gyr"
   ]
  },
  {
   "cell_type": "code",
   "execution_count": 31,
   "id": "863b184e",
   "metadata": {},
   "outputs": [],
   "source": [
    "def cosmology_init( self ):\n",
    "    self.cosmo = CosmologicalFactors( my_h = self.hubbleparam, my_OmegaMatter = self.omega0, my_OmegaLambda = self.omegalambda )\n",
    "    self.cosmo.SetLookbackTimeTable()\n",
    "    return\n",
    "def cosmology_get_lookback_time_from_a(a, is_flat=False, quicklist=False ):\n",
    "    return (LookbackTime_a(a, is_flat) / h)"
   ]
  },
  {
   "cell_type": "code",
   "execution_count": 128,
   "id": "43717333",
   "metadata": {},
   "outputs": [],
   "source": [
    "cosmology_get_lookback_time_from_a(time, is_flat=True )"
   ]
  },
  {
   "cell_type": "code",
   "execution_count": null,
   "id": "04c90805",
   "metadata": {},
   "outputs": [],
   "source": [
    "fname = \"%s/output/snapdir_%03d/snap_%03d.%s.hdf5\" % (run, snap, snap, \"%d\")\n",
    "    for ifile in range( s.num_files ):\n",
    "      with h5py.File(fname % ifile, \"r\") as f:\n",
    "\n",
    "        pStars = f[\"PartType4\"]\n",
    "\n",
    "        Ages   = pStars[\"GFM_StellarFormationTime\"][:]\n",
    "        Masses = pStars[\"GFM_InitialMass\"][:]\n",
    "        Metals = pStars[\"GFM_Metallicity\"][:]"
   ]
  },
  {
   "cell_type": "code",
   "execution_count": 13,
   "id": "1bf3a3e4",
   "metadata": {},
   "outputs": [],
   "source": [
    "data_dir = '/home/sashalvna/research/TNGdata/TNG100'\n",
    "os.chdir(data_dir)"
   ]
  },
  {
   "cell_type": "code",
   "execution_count": 138,
   "id": "9577681e",
   "metadata": {},
   "outputs": [],
   "source": [
    "SFRs = []\n",
    "metallicity_bins = np.logspace(-10, 0, 61) #metallicity bins\n",
    "\n",
    "for ind in range(7): #ind, val in enumerate(snaps):\n",
    "    \n",
    "    f_Z = \"fof_subhalo_tab_%03d.Subhalo.SubhaloGasMetallicitySfrWeighted.hdf5\"%ind\n",
    "    f_SFR = \"fof_subhalo_tab_%03d.Subhalo.SubhaloSFR.hdf5\"%ind\n",
    "    \n",
    "    #first download the data, if doesn't already exist\n",
    "    if not os.path.isfile(f_Z):\n",
    "        os.system(\"wget -nd -nc -nv -e robots=off -l 1 -r -A hdf5 --content-disposition --header='API-Key: e36226423a0cc5e62f2e553f39b44238' 'http://www.tng-project.org/api/%s/files/groupcat-%03d/?Subhalo=SubhaloGasMetallicitySfrWeighted'\"%(names[i],ind))\n",
    "    if not os.path.isfile(f_SFR):\n",
    "        os.system(\"wget -nd -nc -nv -e robots=off -l 1 -r -A hdf5 --content-disposition --header='API-Key: e36226423a0cc5e62f2e553f39b44238' 'http://www.tng-project.org/api/%s/files/groupcat-%03d/?Subhalo=SubhaloSFR'\"%(names[i],ind))\n",
    "\n",
    "    #read in data from files\n",
    "    data_Z = h5.File(f_Z, 'r')\n",
    "    data_Sfr = h5.File(f_SFR, 'r')\n",
    "    metallicities = data_Z['Subhalo']['SubhaloGasMetallicitySfrWeighted'][:]\n",
    "    sfr = data_Sfr['Subhalo']['SubhaloSFR'][:]\n",
    "    \n",
    "    #bin metallicities and SFRs\n",
    "    bin_ind = np.digitize(metallicities, bins=metallicity_bins)\n",
    "    \n",
    "    binned_sfr = np.zeros(len(metallicity_bins)-1)\n",
    "    for j in np.unique(bin_ind):\n",
    "        indices = np.where(bin_ind == j)[0]\n",
    "        binned_sfr[j] = np.sum(sfr[indices])\n",
    "    SFRs.append(binned_sfr)\n",
    "    \n",
    "SFRs = np.array(SFRs)"
   ]
  }
 ],
 "metadata": {
  "kernelspec": {
   "display_name": "Python 3 (ipykernel)",
   "language": "python",
   "name": "python3"
  },
  "language_info": {
   "codemirror_mode": {
    "name": "ipython",
    "version": 3
   },
   "file_extension": ".py",
   "mimetype": "text/x-python",
   "name": "python",
   "nbconvert_exporter": "python",
   "pygments_lexer": "ipython3",
   "version": "3.10.5"
  }
 },
 "nbformat": 4,
 "nbformat_minor": 5
}
